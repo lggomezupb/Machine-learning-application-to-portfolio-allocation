{
 "cells": [
  {
   "cell_type": "markdown",
   "metadata": {
    "id": "LTFAwvwDmMvR"
   },
   "source": [
    "# Importing libraries"
   ]
  },
  {
   "cell_type": "code",
   "execution_count": 104,
   "metadata": {
    "id": "eBKhfH6gZO1A",
    "tags": []
   },
   "outputs": [],
   "source": [
    "import numpy as np\n",
    "import datetime as dt\n",
    "import matplotlib.pyplot as plt\n",
    "import seaborn as sns\n",
    "import pandas as pd\n",
    "import yfinance as yf\n",
    "from math import sqrt\n",
    "from scipy import stats\n",
    "from scipy.stats import norm\n",
    "from statsmodels.tsa.stattools import adfuller\n",
    "import pandas_datareader\n",
    "import math\n",
    "import statsmodels.api as sm\n",
    "import warnings\n",
    "warnings.filterwarnings(\"ignore\")\n",
    "from datetime import datetime, timedelta\n",
    "from prettytable import PrettyTable\n",
    "import cvxpy as cvx\n",
    "from sklearn.covariance import LedoitWolf\n",
    "from prettytable import PrettyTable\n",
    "from sklearn.model_selection import train_test_split\n",
    "from sklearn.ensemble import RandomForestRegressor\n",
    "from sklearn.metrics import mean_squared_error\n",
    "from sklearn.preprocessing import StandardScaler\n",
    "import requests\n",
    "import json\n",
    "import xgboost as xgb\n",
    "import tensorflow as tf\n",
    "from tensorflow import keras\n",
    "from tensorflow.keras import layers, optimizers, losses\n",
    "from sklearn.svm import SVR\n",
    "import statsmodels.api as sm\n",
    "import scipy.optimize as opt\n",
    "from scipy.cluster.hierarchy import linkage, cut_tree, dendrogram\n",
    "from scipy.spatial.distance import squareform\n",
    "from fredapi import Fred\n",
    "import getFamaFrenchFactors as gff\n",
    "import quantstats as qs\n",
    "from sklearn.linear_model import LinearRegression\n",
    "from tabulate import tabulate"
   ]
  },
  {
   "cell_type": "markdown",
   "metadata": {
    "id": "L2SLXBVimUrL",
    "tags": []
   },
   "source": [
    "# Describing initial values"
   ]
  },
  {
   "cell_type": "code",
   "execution_count": 105,
   "metadata": {
    "colab": {
     "base_uri": "https://localhost:8080/"
    },
    "id": "3Jks_jxrYj8A",
    "outputId": "f2f0427e-7b21-4651-d59f-0f39e182c74c"
   },
   "outputs": [
    {
     "name": "stdout",
     "output_type": "stream",
     "text": [
      "Start Date: 2021-01-01\n",
      "End Date: 2022-01-01\n"
     ]
    }
   ],
   "source": [
    "#Total years of traing model\n",
    "years=1\n",
    "# Define the end date\n",
    "fecha = \"2022-01-01\"\n",
    "end=fecha\n",
    "# Convert the end date string to a datetime object\n",
    "end_date = datetime.strptime(end, \"%Y-%m-%d\")\n",
    "# Calculate the start date as one year before the end date\n",
    "start_date = end_date - timedelta(days=365*years)\n",
    "# Convert the start date to a string in the same format as the end date\n",
    "start = start_date.strftime(\"%Y-%m-%d\")\n",
    "\n",
    "print(\"Start Date:\", start)\n",
    "print(\"End Date:\", end)"
   ]
  },
  {
   "cell_type": "code",
   "execution_count": 106,
   "metadata": {
    "id": "YTMnUQFdabAM"
   },
   "outputs": [],
   "source": [
    "## define the stocks for our portfolio (via tickers) ###\n",
    "assets = [ #Healthcare\n",
    "          \"JNJ\", #(Johnson & Johnson)\n",
    "          \"PFE\", #(Pfizer Inc.)\n",
    "          \"MRK\", #(Merck & Co. Inc.)\n",
    "          \"LLY\", #(Eli Lilly and company)\n",
    "          \"UNH\", #(UnitedHealth Group Incorporated)\n",
    "          \"AMGN\", #(Amgen Inc.)\n",
    "          #Technology\n",
    "          \"MSFT\", #(Microsoft Corporation)\n",
    "          \"GOOGL\", #(Alphabet Inc. - Google)\n",
    "          \"META\", #(Meta Platforms Inc. - Facebook)\n",
    "          \"NVDA\", #(Nvidia)\n",
    "          \"AMD\", #(Advanced micro devices)\n",
    "          \"TSLA\", #(Tesla, Inc.)\n",
    "          \"CRM\", #(Salesforce.com Inc.)\n",
    "          # Finance\n",
    "          \"JPM\", #(JPMorgan Chase & Co.)\n",
    "          \"MA\", #(Mastercard)\n",
    "          \"BX\", #(Blackstone)\n",
    "          \"AXP\", #(American Express)\n",
    "          \"GS\", #(The Goldman Sachs Group, Inc.)\n",
    "          \"BAC\", #(Bank of America Corporation)\n",
    "          \"V\", #(Visa Inc.)\n",
    "          #Consumer goods\n",
    "          \"PG\", #(Procter & Gamble Company)\n",
    "          \"KO\", #(The Coca-Cola Company)\n",
    "          \"NKE\", #(Nike, Inc.)\n",
    "          \"MCD\", #(McDonald's Corporation)\n",
    "          #Energy\n",
    "          \"XOM\", #(Exxon Mobil Corporation)\n",
    "          \"CVX\", #(Chevron Corporation)\n",
    "          \"SHEL\", #(Royal Dutch Shell plc)\n",
    "          \"BP\", #(BP p.l.c.)\n",
    "          \"COP\", #(ConocoPhillips)\n",
    "          #Retail\n",
    "          \"AMZN\", #(Amazon.com, Inc.)\n",
    "          \"WMT\", #(Walmart Inc.)\n",
    "          \"TGT\", #(Target Corporation)\n",
    "          \"COST\", #(Costco Wholesale Corporation)\n",
    "          \"HD\", #(The Home Depot, Inc.)\n",
    "          #Telecommunications\n",
    "          \"T\", #(AT&T Inc.)\n",
    "          \"VZ\", #(Verizon Communications Inc.)\n",
    "          \"TMUS\", #(T-Mobile US, Inc.)\n",
    "          #Utilities\n",
    "          \"NEE\", #(NextEra Energy, Inc.)\n",
    "          \"DUK\", #(Duke Energy Corporation)\n",
    "          \"SO\", #(The Southern Company)\n",
    "          \"NRG\", #(NRG Energy)\n",
    "          \"EXC\", #(Exelon Corporation)\n",
    "          \"AEP\", #(American Electric Power Company, Inc.)\n",
    "          #Real Estate\n",
    "          \"SPG\", #(Simon Property Group, Inc.)\n",
    "          \"AMT\", #(American Tower Corporation)\n",
    "          \"EQIX\", #(Equinix, Inc.)\n",
    "          \"PSA\", #(Public Storage)\n",
    "          \"WELL\", #(Welltower Inc.)\n",
    "          #Transportation\n",
    "          \"UPS\", #(United Parcel Service, Inc.)\n",
    "          \"FDX\", #(FedEx Corporation)\n",
    "          \"DAL\", #(Delta Air Lines, Inc.)\n",
    "          \"AAL\", #(American Airlines Group Inc.)\n",
    "          \"BLDR\", #(Builders first source)\n",
    "          #\"UBER\", #(Uber Technologies, Inc.)                  No data before may 2018\n",
    "          #\"ROAD\", #(Construction Partners, Inc)               No data before may 2018\n",
    "          #cripto\n",
    "          \"BTC-USD\", #Bitcoin\n",
    "          \"ETH-USD\" #Ethereum\n",
    "          ]\n",
    "\n",
    "assets =sorted(assets)"
   ]
  },
  {
   "cell_type": "code",
   "execution_count": 107,
   "metadata": {
    "id": "lCXXzFb4mVPp"
   },
   "outputs": [],
   "source": [
    "## portafolio solo etf beto\n",
    "#assets = ['AOA','IAGG','IDEV','IEMG','IJH','IJR','IUSB','IVV']\n",
    "\n",
    "#assets =sorted(assets)"
   ]
  },
  {
   "cell_type": "code",
   "execution_count": 108,
   "metadata": {
    "id": "q8MEjToUZFLg"
   },
   "outputs": [],
   "source": [
    "#Number of periods to change the portfolio allocation\n",
    "\n",
    "# 1 month\n",
    "#periods=4+2*12\n",
    "#Number of days of the period\n",
    "#leng_period=30\n",
    "\n",
    "# 2 months\n",
    "#periods=2+2*6\n",
    "#Number of days of the period\n",
    "#leng_period=60\n",
    "\n",
    "# 3 months\n",
    "periods=5\n",
    "#Number of days of the period\n",
    "leng_period=90\n"
   ]
  },
  {
   "cell_type": "markdown",
   "metadata": {
    "id": "0CC5HwyXS72j"
   },
   "source": [
    "## Micro and macroeconomic factors"
   ]
  },
  {
   "cell_type": "markdown",
   "metadata": {
    "id": "z13pbBqza1zI"
   },
   "source": [
    "### FRED"
   ]
  },
  {
   "cell_type": "code",
   "execution_count": 109,
   "metadata": {
    "id": "T3Ppu3XHawdX"
   },
   "outputs": [],
   "source": [
    "# Initialize Fred with your API key\n",
    "api_key = '95c774645924b13f93458e248a922d67'\n",
    "fred = Fred(api_key=api_key)\n",
    "# Fetch GDP data (quarterly)\n",
    "gdp = fred.get_series('GDP')\n",
    "\n",
    "# Fetch Inflation (Consumer Price Index for All Urban Consumers)\n",
    "inflation = fred.get_series('CPIAUCSL')\n",
    "\n",
    "# Fetch Unemployment rate (monthly)\n",
    "unemployment = fred.get_series('UNRATE')\n",
    "\n",
    "# Fetch Federal Funds Rate (interest rate, monthly)\n",
    "interest_rates = fred.get_series('FEDFUNDS')\n",
    "\n",
    "# Combine the data into a DataFrame\n",
    "macroeconomic_data = pd.concat([gdp, inflation, unemployment, interest_rates], axis=1)\n",
    "macroeconomic_data.columns = ['GDP', 'Inflation', 'Unemployment', 'Interest Rates']\n",
    "\n",
    "# Industrial Production Index (a proxy for industry-specific data)\n",
    "industrial_production = fred.get_series('INDPRO')\n",
    "\n",
    "# Average Hourly Earnings of All Employees, Total Private\n",
    "hourly_earnings = fred.get_series('CES0500000003')\n",
    "\n",
    "# Housing starts (a measure of consumer sentiment in the housing market)\n",
    "housing_starts = fred.get_series('HOUST')\n",
    "\n",
    "# Combine with other microeconomic data\n",
    "microeconomic_data = pd.concat([industrial_production, hourly_earnings, housing_starts], axis=1)\n",
    "microeconomic_data.columns = ['Industrial Production','Average Hourly Earnings',  'Housing Starts']"
   ]
  },
  {
   "cell_type": "code",
   "execution_count": 110,
   "metadata": {
    "id": "ezZUlJunbDDb"
   },
   "outputs": [],
   "source": [
    "# Combine macro and microeconomic data\n",
    "combined_data = pd.concat([macroeconomic_data, microeconomic_data], axis=1)\n",
    "\n",
    "# Align the data to a common frequency (e.g., monthly)\n",
    "combined_data = combined_data.resample('M').ffill()  # Forward-fill to avoid NaN gaps\n",
    "\n",
    "#Get data only from the start date\n",
    "combined_data= combined_data[combined_data.index > start]\n"
   ]
  },
  {
   "cell_type": "code",
   "execution_count": 111,
   "metadata": {
    "id": "C6w_VfUkUYw2"
   },
   "outputs": [],
   "source": [
    "# Resample to daily frequency\n",
    "macro_daily = combined_data.resample('D').asfreq()\n",
    "\n",
    "# Forward-fill NaN values for daily frequency\n",
    "macro_daily.fillna(method='ffill', inplace=True)"
   ]
  },
  {
   "cell_type": "markdown",
   "metadata": {
    "id": "XydYMDf5WOhh"
   },
   "source": [
    "#### Daily data"
   ]
  },
  {
   "cell_type": "code",
   "execution_count": 112,
   "metadata": {
    "id": "HZKtI2EsWNRQ"
   },
   "outputs": [],
   "source": [
    "# U.S. Dollars to Euro Spot Exchange Rate daily\n",
    "dollar_euro = fred.get_series('DEXUSEU')\n",
    "\n",
    "# Market Yield on U.S. Treasury Securities at 10-Year Constant Maturity, Quoted on an Investment Basis\n",
    "ten_Y = fred.get_series('DEXUSEU')\n",
    "\n",
    "# Dow Jones Industrial Average\n",
    "Dow = fred.get_series('DJIA')\n",
    "\n",
    "# S&P 500\n",
    "sp500 = fred.get_series('SP500')\n",
    "\n",
    "# NASDAQ Composite Index\n",
    "nasdaq = fred.get_series('NASDAQCOM')\n",
    "\n",
    "# CBOE Gold ETF Volatility Index\n",
    "gold = fred.get_series('GVZCLS')\n",
    "\n",
    "# CBOE Crude Oil ETF Volatility Index\n",
    "oil = fred.get_series('OVXCLS')\n",
    "\n",
    "# CBOE Russell 2000 Volatility Index\n",
    "russell = fred.get_series('RVXCLS')\n",
    "\n",
    "# Combine daily data\n",
    "daily_data = pd.concat([dollar_euro, ten_Y, Dow,  sp500, nasdaq, gold, oil, russell], axis=1)\n",
    "daily_data.columns = ['U.S. Dollars to Euro', 'Treasury Securities at 10-Year', 'Dow Jones','S&P 500', 'NASDAQ', 'Gold', 'Crude oil', 'Russell 2000']\n",
    "#Get data only from the start date\n",
    "daily_data= daily_data[daily_data.index > start]"
   ]
  },
  {
   "cell_type": "code",
   "execution_count": 113,
   "metadata": {
    "colab": {
     "base_uri": "https://localhost:8080/",
     "height": 632
    },
    "id": "MZT79cf8egXB",
    "outputId": "baf84d7b-8511-4dd7-b4f8-04f31be94b32"
   },
   "outputs": [
    {
     "data": {
      "text/html": [
       "<div>\n",
       "<style scoped>\n",
       "    .dataframe tbody tr th:only-of-type {\n",
       "        vertical-align: middle;\n",
       "    }\n",
       "\n",
       "    .dataframe tbody tr th {\n",
       "        vertical-align: top;\n",
       "    }\n",
       "\n",
       "    .dataframe thead th {\n",
       "        text-align: right;\n",
       "    }\n",
       "</style>\n",
       "<table border=\"1\" class=\"dataframe\">\n",
       "  <thead>\n",
       "    <tr style=\"text-align: right;\">\n",
       "      <th></th>\n",
       "      <th>GDP</th>\n",
       "      <th>Inflation</th>\n",
       "      <th>Unemployment</th>\n",
       "      <th>Interest Rates</th>\n",
       "      <th>Industrial Production</th>\n",
       "      <th>Average Hourly Earnings</th>\n",
       "      <th>Housing Starts</th>\n",
       "      <th>U.S. Dollars to Euro</th>\n",
       "      <th>Treasury Securities at 10-Year</th>\n",
       "      <th>Dow Jones</th>\n",
       "      <th>S&amp;P 500</th>\n",
       "      <th>NASDAQ</th>\n",
       "      <th>Gold</th>\n",
       "      <th>Crude oil</th>\n",
       "      <th>Russell 2000</th>\n",
       "    </tr>\n",
       "  </thead>\n",
       "  <tbody>\n",
       "    <tr>\n",
       "      <th>2021-02-01</th>\n",
       "      <td>22600.185</td>\n",
       "      <td>262.518</td>\n",
       "      <td>6.4</td>\n",
       "      <td>0.09</td>\n",
       "      <td>98.7836</td>\n",
       "      <td>29.93</td>\n",
       "      <td>1602.0</td>\n",
       "      <td>1.2070</td>\n",
       "      <td>1.2070</td>\n",
       "      <td>30211.91</td>\n",
       "      <td>3773.86</td>\n",
       "      <td>13403.39</td>\n",
       "      <td>21.81</td>\n",
       "      <td>39.16</td>\n",
       "      <td>35.33</td>\n",
       "    </tr>\n",
       "    <tr>\n",
       "      <th>2021-02-02</th>\n",
       "      <td>22600.185</td>\n",
       "      <td>262.518</td>\n",
       "      <td>6.4</td>\n",
       "      <td>0.09</td>\n",
       "      <td>98.7836</td>\n",
       "      <td>29.93</td>\n",
       "      <td>1602.0</td>\n",
       "      <td>1.2020</td>\n",
       "      <td>1.2020</td>\n",
       "      <td>30687.48</td>\n",
       "      <td>3826.31</td>\n",
       "      <td>13612.78</td>\n",
       "      <td>19.61</td>\n",
       "      <td>38.62</td>\n",
       "      <td>31.71</td>\n",
       "    </tr>\n",
       "    <tr>\n",
       "      <th>2021-02-03</th>\n",
       "      <td>22600.185</td>\n",
       "      <td>262.518</td>\n",
       "      <td>6.4</td>\n",
       "      <td>0.09</td>\n",
       "      <td>98.7836</td>\n",
       "      <td>29.93</td>\n",
       "      <td>1602.0</td>\n",
       "      <td>1.2025</td>\n",
       "      <td>1.2025</td>\n",
       "      <td>30723.60</td>\n",
       "      <td>3830.17</td>\n",
       "      <td>13610.54</td>\n",
       "      <td>18.45</td>\n",
       "      <td>37.11</td>\n",
       "      <td>29.69</td>\n",
       "    </tr>\n",
       "    <tr>\n",
       "      <th>2021-02-04</th>\n",
       "      <td>22600.185</td>\n",
       "      <td>262.518</td>\n",
       "      <td>6.4</td>\n",
       "      <td>0.09</td>\n",
       "      <td>98.7836</td>\n",
       "      <td>29.93</td>\n",
       "      <td>1602.0</td>\n",
       "      <td>1.1974</td>\n",
       "      <td>1.1974</td>\n",
       "      <td>31055.86</td>\n",
       "      <td>3871.74</td>\n",
       "      <td>13777.74</td>\n",
       "      <td>19.30</td>\n",
       "      <td>35.37</td>\n",
       "      <td>28.71</td>\n",
       "    </tr>\n",
       "    <tr>\n",
       "      <th>2021-02-05</th>\n",
       "      <td>22600.185</td>\n",
       "      <td>262.518</td>\n",
       "      <td>6.4</td>\n",
       "      <td>0.09</td>\n",
       "      <td>98.7836</td>\n",
       "      <td>29.93</td>\n",
       "      <td>1602.0</td>\n",
       "      <td>1.2035</td>\n",
       "      <td>1.2035</td>\n",
       "      <td>31148.24</td>\n",
       "      <td>3886.83</td>\n",
       "      <td>13856.30</td>\n",
       "      <td>18.70</td>\n",
       "      <td>34.94</td>\n",
       "      <td>28.83</td>\n",
       "    </tr>\n",
       "    <tr>\n",
       "      <th>...</th>\n",
       "      <td>...</td>\n",
       "      <td>...</td>\n",
       "      <td>...</td>\n",
       "      <td>...</td>\n",
       "      <td>...</td>\n",
       "      <td>...</td>\n",
       "      <td>...</td>\n",
       "      <td>...</td>\n",
       "      <td>...</td>\n",
       "      <td>...</td>\n",
       "      <td>...</td>\n",
       "      <td>...</td>\n",
       "      <td>...</td>\n",
       "      <td>...</td>\n",
       "      <td>...</td>\n",
       "    </tr>\n",
       "    <tr>\n",
       "      <th>2024-04-24</th>\n",
       "      <td>28284.498</td>\n",
       "      <td>312.230</td>\n",
       "      <td>3.8</td>\n",
       "      <td>5.33</td>\n",
       "      <td>102.6577</td>\n",
       "      <td>34.68</td>\n",
       "      <td>1321.0</td>\n",
       "      <td>1.0687</td>\n",
       "      <td>1.0687</td>\n",
       "      <td>38460.92</td>\n",
       "      <td>5071.63</td>\n",
       "      <td>15712.75</td>\n",
       "      <td>17.45</td>\n",
       "      <td>29.04</td>\n",
       "      <td>22.34</td>\n",
       "    </tr>\n",
       "    <tr>\n",
       "      <th>2024-04-25</th>\n",
       "      <td>28284.498</td>\n",
       "      <td>312.230</td>\n",
       "      <td>3.8</td>\n",
       "      <td>5.33</td>\n",
       "      <td>102.6577</td>\n",
       "      <td>34.68</td>\n",
       "      <td>1321.0</td>\n",
       "      <td>1.0721</td>\n",
       "      <td>1.0721</td>\n",
       "      <td>38085.80</td>\n",
       "      <td>5048.42</td>\n",
       "      <td>15611.76</td>\n",
       "      <td>17.32</td>\n",
       "      <td>28.34</td>\n",
       "      <td>22.16</td>\n",
       "    </tr>\n",
       "    <tr>\n",
       "      <th>2024-04-26</th>\n",
       "      <td>28284.498</td>\n",
       "      <td>312.230</td>\n",
       "      <td>3.8</td>\n",
       "      <td>5.33</td>\n",
       "      <td>102.6577</td>\n",
       "      <td>34.68</td>\n",
       "      <td>1321.0</td>\n",
       "      <td>1.0686</td>\n",
       "      <td>1.0686</td>\n",
       "      <td>38239.66</td>\n",
       "      <td>5099.96</td>\n",
       "      <td>15927.90</td>\n",
       "      <td>16.92</td>\n",
       "      <td>27.81</td>\n",
       "      <td>21.04</td>\n",
       "    </tr>\n",
       "    <tr>\n",
       "      <th>2024-04-29</th>\n",
       "      <td>28284.498</td>\n",
       "      <td>312.230</td>\n",
       "      <td>3.8</td>\n",
       "      <td>5.33</td>\n",
       "      <td>102.6577</td>\n",
       "      <td>34.68</td>\n",
       "      <td>1321.0</td>\n",
       "      <td>1.0717</td>\n",
       "      <td>1.0717</td>\n",
       "      <td>38386.09</td>\n",
       "      <td>5116.17</td>\n",
       "      <td>15983.08</td>\n",
       "      <td>16.92</td>\n",
       "      <td>27.84</td>\n",
       "      <td>20.63</td>\n",
       "    </tr>\n",
       "    <tr>\n",
       "      <th>2024-04-30</th>\n",
       "      <td>28284.498</td>\n",
       "      <td>312.230</td>\n",
       "      <td>3.9</td>\n",
       "      <td>5.33</td>\n",
       "      <td>102.6577</td>\n",
       "      <td>34.75</td>\n",
       "      <td>1321.0</td>\n",
       "      <td>1.0684</td>\n",
       "      <td>1.0684</td>\n",
       "      <td>37815.92</td>\n",
       "      <td>5035.69</td>\n",
       "      <td>15657.82</td>\n",
       "      <td>16.54</td>\n",
       "      <td>27.87</td>\n",
       "      <td>21.48</td>\n",
       "    </tr>\n",
       "  </tbody>\n",
       "</table>\n",
       "<p>810 rows × 15 columns</p>\n",
       "</div>"
      ],
      "text/plain": [
       "                  GDP  Inflation  Unemployment  Interest Rates  \\\n",
       "2021-02-01  22600.185    262.518           6.4            0.09   \n",
       "2021-02-02  22600.185    262.518           6.4            0.09   \n",
       "2021-02-03  22600.185    262.518           6.4            0.09   \n",
       "2021-02-04  22600.185    262.518           6.4            0.09   \n",
       "2021-02-05  22600.185    262.518           6.4            0.09   \n",
       "...               ...        ...           ...             ...   \n",
       "2024-04-24  28284.498    312.230           3.8            5.33   \n",
       "2024-04-25  28284.498    312.230           3.8            5.33   \n",
       "2024-04-26  28284.498    312.230           3.8            5.33   \n",
       "2024-04-29  28284.498    312.230           3.8            5.33   \n",
       "2024-04-30  28284.498    312.230           3.9            5.33   \n",
       "\n",
       "            Industrial Production  Average Hourly Earnings  Housing Starts  \\\n",
       "2021-02-01                98.7836                    29.93          1602.0   \n",
       "2021-02-02                98.7836                    29.93          1602.0   \n",
       "2021-02-03                98.7836                    29.93          1602.0   \n",
       "2021-02-04                98.7836                    29.93          1602.0   \n",
       "2021-02-05                98.7836                    29.93          1602.0   \n",
       "...                           ...                      ...             ...   \n",
       "2024-04-24               102.6577                    34.68          1321.0   \n",
       "2024-04-25               102.6577                    34.68          1321.0   \n",
       "2024-04-26               102.6577                    34.68          1321.0   \n",
       "2024-04-29               102.6577                    34.68          1321.0   \n",
       "2024-04-30               102.6577                    34.75          1321.0   \n",
       "\n",
       "            U.S. Dollars to Euro  Treasury Securities at 10-Year  Dow Jones  \\\n",
       "2021-02-01                1.2070                          1.2070   30211.91   \n",
       "2021-02-02                1.2020                          1.2020   30687.48   \n",
       "2021-02-03                1.2025                          1.2025   30723.60   \n",
       "2021-02-04                1.1974                          1.1974   31055.86   \n",
       "2021-02-05                1.2035                          1.2035   31148.24   \n",
       "...                          ...                             ...        ...   \n",
       "2024-04-24                1.0687                          1.0687   38460.92   \n",
       "2024-04-25                1.0721                          1.0721   38085.80   \n",
       "2024-04-26                1.0686                          1.0686   38239.66   \n",
       "2024-04-29                1.0717                          1.0717   38386.09   \n",
       "2024-04-30                1.0684                          1.0684   37815.92   \n",
       "\n",
       "            S&P 500    NASDAQ   Gold  Crude oil  Russell 2000  \n",
       "2021-02-01  3773.86  13403.39  21.81      39.16         35.33  \n",
       "2021-02-02  3826.31  13612.78  19.61      38.62         31.71  \n",
       "2021-02-03  3830.17  13610.54  18.45      37.11         29.69  \n",
       "2021-02-04  3871.74  13777.74  19.30      35.37         28.71  \n",
       "2021-02-05  3886.83  13856.30  18.70      34.94         28.83  \n",
       "...             ...       ...    ...        ...           ...  \n",
       "2024-04-24  5071.63  15712.75  17.45      29.04         22.34  \n",
       "2024-04-25  5048.42  15611.76  17.32      28.34         22.16  \n",
       "2024-04-26  5099.96  15927.90  16.92      27.81         21.04  \n",
       "2024-04-29  5116.17  15983.08  16.92      27.84         20.63  \n",
       "2024-04-30  5035.69  15657.82  16.54      27.87         21.48  \n",
       "\n",
       "[810 rows x 15 columns]"
      ]
     },
     "execution_count": 113,
     "metadata": {},
     "output_type": "execute_result"
    }
   ],
   "source": [
    "# Combine macro and daily data\n",
    "macro= pd.concat([macro_daily, daily_data], axis=1).dropna()\n",
    "macro"
   ]
  },
  {
   "cell_type": "markdown",
   "metadata": {
    "id": "DQ7NgtKzhFrr"
   },
   "source": [
    "### EIA api"
   ]
  },
  {
   "cell_type": "code",
   "execution_count": 114,
   "metadata": {
    "id": "UsRkeCsWhJdQ"
   },
   "outputs": [],
   "source": [
    "api_url = 'https://api.eia.gov/v2/steo/data'\n",
    "\n",
    "params = {\"api_key\": \"whsAp9dwvJg3dXf6Dx1y4BlbFji8hzZExBuZaL4g\"}\n",
    "\n",
    "header = {\n",
    "    \"frequency\": \"monthly\",\n",
    "    \"data\": [\n",
    "        \"value\"\n",
    "    ],\n",
    "    \"facets\": {\n",
    "        \"seriesId\": [\n",
    "            \"COPR_OPEC\", #Global crude oil production\n",
    "            \"PAPR_WORLD\",\n",
    "            'BREPUSS',\n",
    "            'COPR_OPEC',\n",
    "            'D2TCPUS',\n",
    "            'PASXPUS',\n",
    "            'RAIMUUS',\n",
    "            'T3_STCHANGE_US'\n",
    "        ]\n",
    "    },\n",
    "    \"start\": start,\n",
    "    \"end\": \"2024-04\",\n",
    "    \"sort\": [\n",
    "        {\n",
    "            \"column\": \"period\",\n",
    "            \"direction\": \"desc\"\n",
    "        }\n",
    "    ],\n",
    "    \"offset\": 0,\n",
    "    \"length\": 5000\n",
    "}\n",
    "\n",
    "r = requests.get(api_url, params=params, headers={\"X-Params\": json.dumps(header)})"
   ]
  },
  {
   "cell_type": "code",
   "execution_count": 115,
   "metadata": {
    "id": "feS5po9shPeH"
   },
   "outputs": [],
   "source": [
    "# Transform data to a dataframe\n",
    "file = r.json()\n",
    "eia=pd.DataFrame(file['response']['data'])\n",
    "# Set the date as a index\n",
    "eia['period']=pd.to_datetime(eia['period'])\n",
    "eia.set_index('period', inplace=True)\n",
    "# Transform the data to have all the macroeconomic data in columns\n",
    "eai_macro = eia.pivot_table(index='period', columns='seriesId', values='value', aggfunc='first')"
   ]
  },
  {
   "cell_type": "code",
   "execution_count": 116,
   "metadata": {
    "colab": {
     "base_uri": "https://localhost:8080/",
     "height": 455
    },
    "id": "QWvKdjF9hmE8",
    "outputId": "058b5a2f-cc97-4d7e-9a4e-47fe3c195460"
   },
   "outputs": [
    {
     "data": {
      "text/html": [
       "<div>\n",
       "<style scoped>\n",
       "    .dataframe tbody tr th:only-of-type {\n",
       "        vertical-align: middle;\n",
       "    }\n",
       "\n",
       "    .dataframe tbody tr th {\n",
       "        vertical-align: top;\n",
       "    }\n",
       "\n",
       "    .dataframe thead th {\n",
       "        text-align: right;\n",
       "    }\n",
       "</style>\n",
       "<table border=\"1\" class=\"dataframe\">\n",
       "  <thead>\n",
       "    <tr style=\"text-align: right;\">\n",
       "      <th>seriesId</th>\n",
       "      <th>COPR_OPEC</th>\n",
       "      <th>PAPR_WORLD</th>\n",
       "      <th>PASXPUS</th>\n",
       "      <th>RAIMUUS</th>\n",
       "      <th>T3_STCHANGE_US</th>\n",
       "    </tr>\n",
       "    <tr>\n",
       "      <th>period</th>\n",
       "      <th></th>\n",
       "      <th></th>\n",
       "      <th></th>\n",
       "      <th></th>\n",
       "      <th></th>\n",
       "    </tr>\n",
       "  </thead>\n",
       "  <tbody>\n",
       "    <tr>\n",
       "      <th>2021-01-01</th>\n",
       "      <td>24.205</td>\n",
       "      <td>93.879817101</td>\n",
       "      <td>1337.10334</td>\n",
       "      <td>49.6</td>\n",
       "      <td>.20146358065</td>\n",
       "    </tr>\n",
       "    <tr>\n",
       "      <th>2021-01-02</th>\n",
       "      <td>24.205</td>\n",
       "      <td>93.879817101</td>\n",
       "      <td>1337.10334</td>\n",
       "      <td>49.6</td>\n",
       "      <td>.20146358065</td>\n",
       "    </tr>\n",
       "    <tr>\n",
       "      <th>2021-01-03</th>\n",
       "      <td>24.205</td>\n",
       "      <td>93.879817101</td>\n",
       "      <td>1337.10334</td>\n",
       "      <td>49.6</td>\n",
       "      <td>.20146358065</td>\n",
       "    </tr>\n",
       "    <tr>\n",
       "      <th>2021-01-04</th>\n",
       "      <td>24.205</td>\n",
       "      <td>93.879817101</td>\n",
       "      <td>1337.10334</td>\n",
       "      <td>49.6</td>\n",
       "      <td>.20146358065</td>\n",
       "    </tr>\n",
       "    <tr>\n",
       "      <th>2021-01-05</th>\n",
       "      <td>24.205</td>\n",
       "      <td>93.879817101</td>\n",
       "      <td>1337.10334</td>\n",
       "      <td>49.6</td>\n",
       "      <td>.20146358065</td>\n",
       "    </tr>\n",
       "    <tr>\n",
       "      <th>...</th>\n",
       "      <td>...</td>\n",
       "      <td>...</td>\n",
       "      <td>...</td>\n",
       "      <td>...</td>\n",
       "      <td>...</td>\n",
       "    </tr>\n",
       "    <tr>\n",
       "      <th>2024-03-28</th>\n",
       "      <td>26.895</td>\n",
       "      <td>102.53086846</td>\n",
       "      <td>1212.4401753</td>\n",
       "      <td>78.53</td>\n",
       "      <td>.20367834654</td>\n",
       "    </tr>\n",
       "    <tr>\n",
       "      <th>2024-03-29</th>\n",
       "      <td>26.895</td>\n",
       "      <td>102.53086846</td>\n",
       "      <td>1212.4401753</td>\n",
       "      <td>78.53</td>\n",
       "      <td>.20367834654</td>\n",
       "    </tr>\n",
       "    <tr>\n",
       "      <th>2024-03-30</th>\n",
       "      <td>26.895</td>\n",
       "      <td>102.53086846</td>\n",
       "      <td>1212.4401753</td>\n",
       "      <td>78.53</td>\n",
       "      <td>.20367834654</td>\n",
       "    </tr>\n",
       "    <tr>\n",
       "      <th>2024-03-31</th>\n",
       "      <td>26.895</td>\n",
       "      <td>102.53086846</td>\n",
       "      <td>1212.4401753</td>\n",
       "      <td>78.53</td>\n",
       "      <td>.20367834654</td>\n",
       "    </tr>\n",
       "    <tr>\n",
       "      <th>2024-04-01</th>\n",
       "      <td>26.87</td>\n",
       "      <td>102.08300495</td>\n",
       "      <td>1230.3266895</td>\n",
       "      <td>82.6</td>\n",
       "      <td>-.70027259672</td>\n",
       "    </tr>\n",
       "  </tbody>\n",
       "</table>\n",
       "<p>1187 rows × 5 columns</p>\n",
       "</div>"
      ],
      "text/plain": [
       "seriesId   COPR_OPEC    PAPR_WORLD       PASXPUS RAIMUUS T3_STCHANGE_US\n",
       "period                                                                 \n",
       "2021-01-01    24.205  93.879817101    1337.10334    49.6   .20146358065\n",
       "2021-01-02    24.205  93.879817101    1337.10334    49.6   .20146358065\n",
       "2021-01-03    24.205  93.879817101    1337.10334    49.6   .20146358065\n",
       "2021-01-04    24.205  93.879817101    1337.10334    49.6   .20146358065\n",
       "2021-01-05    24.205  93.879817101    1337.10334    49.6   .20146358065\n",
       "...              ...           ...           ...     ...            ...\n",
       "2024-03-28    26.895  102.53086846  1212.4401753   78.53   .20367834654\n",
       "2024-03-29    26.895  102.53086846  1212.4401753   78.53   .20367834654\n",
       "2024-03-30    26.895  102.53086846  1212.4401753   78.53   .20367834654\n",
       "2024-03-31    26.895  102.53086846  1212.4401753   78.53   .20367834654\n",
       "2024-04-01     26.87  102.08300495  1230.3266895    82.6  -.70027259672\n",
       "\n",
       "[1187 rows x 5 columns]"
      ]
     },
     "execution_count": 116,
     "metadata": {},
     "output_type": "execute_result"
    }
   ],
   "source": [
    "# Resample to daily frequency\n",
    "eai_daily = eai_macro.resample('D').asfreq()\n",
    "\n",
    "# Forward-fill NaN values for daily frequency\n",
    "eai_daily.fillna(method='ffill', inplace=True)\n",
    "eai_daily"
   ]
  },
  {
   "cell_type": "markdown",
   "metadata": {
    "id": "SRL-J0qDqsIQ",
    "tags": []
   },
   "source": [
    "# Machine Learning expected returns"
   ]
  },
  {
   "cell_type": "markdown",
   "metadata": {
    "id": "W85l-VLDqo9v"
   },
   "source": [
    "## Random Forest"
   ]
  },
  {
   "cell_type": "code",
   "execution_count": 117,
   "metadata": {
    "id": "-HGNaHfrqy0e"
   },
   "outputs": [],
   "source": [
    "#In this fuction the df_prices will have the\n",
    "def RF(df):\n",
    "  #Choose only the assets as output\n",
    "  returns= df[assets]\n",
    "  returns = returns.pct_change(periods=30).shift(-30)\n",
    "  # Split into training and test sets (without using `train_test_split`)\n",
    "  # For training and testing we are using the data leng_periods before because the target will be the mean return of the leng_periods later\n",
    "  train_size = int(0.9 * (len(df)-leng_period))  # Example 80% train, 20% test\n",
    "  #Using all the micro macro and asset as input\n",
    "  X_train = df.iloc[:train_size]\n",
    "  X_test = df.iloc[train_size:(len(df)-leng_period)]\n",
    "  #using only assets return as output\n",
    "  y_train = returns[:train_size]\n",
    "  y_test = returns[train_size:(len(df)-leng_period)]\n",
    "  # Standardize features for training and test\n",
    "  scaler = StandardScaler()\n",
    "  X_train_scaled = scaler.fit_transform(X_train)\n",
    "  X_test_scaled = scaler.transform(X_test)\n",
    "  X_scaled = scaler.transform(df)\n",
    "\n",
    "  # Train a Random Forest model\n",
    "  model = RandomForestRegressor(n_estimators=100, random_state=42)\n",
    "  model.fit(X_train_scaled, y_train)\n",
    "\n",
    "  # Predict on the test set\n",
    "  y_pred = model.predict(X_test_scaled)\n",
    "\n",
    "  # Evaluate with Mean Squared Error\n",
    "  mse = mean_squared_error(y_test, y_pred)\n",
    "\n",
    "  print(\"Mean Squared Error:\", mse)\n",
    "  prediction = model.predict(X_scaled)\n",
    "  prediction = prediction[-leng_period:].mean(axis=0)\n",
    "  return prediction"
   ]
  },
  {
   "cell_type": "markdown",
   "metadata": {
    "id": "26I1t5xOVUWC"
   },
   "source": [
    "## XGBoost"
   ]
  },
  {
   "cell_type": "code",
   "execution_count": 118,
   "metadata": {
    "id": "jgH84NvcVX4m"
   },
   "outputs": [],
   "source": [
    "#In this fuction the df_prices will have the\n",
    "def XG(df):\n",
    "  #Choose only the assets as output\n",
    "  returns= df[assets]\n",
    "  returns = returns.pct_change(periods=30).shift(-30)\n",
    "  # Split into training and test sets (without using `train_test_split`)\n",
    "  # For training and testing we are using the data leng_periods before because the target will be the mean return of the leng_periods later\n",
    "  train_size = int(0.8 * (len(df)-leng_period))  # Example 80% train, 20% test\n",
    "  #Using all the micro macro and asset as input\n",
    "  X_train = df.iloc[:train_size]\n",
    "  X_test = df.iloc[train_size:(len(df)-leng_period)]\n",
    "  #using only assets return as output\n",
    "  y_train = returns[:train_size]\n",
    "  y_test = returns[train_size:(len(df)-leng_period)]\n",
    "  # Standardize features for training and test\n",
    "  scaler = StandardScaler()\n",
    "  X_train_scaled = scaler.fit_transform(X_train)\n",
    "  X_test_scaled = scaler.transform(X_test)\n",
    "  X_scaled = scaler.transform(df)\n",
    "\n",
    "  # Train a XGBoost using squarederror as objetive function\n",
    "  model = xgb.XGBRegressor(objective=\"reg:squarederror\", random_state=42)\n",
    "  model.fit(X_train_scaled, y_train)\n",
    "\n",
    "  # Predict on the test set\n",
    "  y_pred = model.predict(X_test_scaled)\n",
    "\n",
    "  # Evaluate with Mean Squared Error\n",
    "  mse = mean_squared_error(y_test, y_pred)\n",
    "\n",
    "  print(\"Mean Squared Error:\", mse)\n",
    "  prediction = model.predict(X_scaled)\n",
    "  prediction = prediction[-leng_period:].mean(axis=0)\n",
    "  return prediction"
   ]
  },
  {
   "cell_type": "markdown",
   "metadata": {
    "id": "oKbZ-4TscKrX"
   },
   "source": [
    "## Neural Networks"
   ]
  },
  {
   "cell_type": "code",
   "execution_count": 119,
   "metadata": {
    "id": "0mzr6EmxcJh4"
   },
   "outputs": [],
   "source": [
    "def NN(df):\n",
    "  #Choose only the assets as output\n",
    "  returns= df[assets]\n",
    "  returns = returns.pct_change(periods=30).shift(-30)\n",
    "  # Split into training and test sets (without using `train_test_split`)\n",
    "  # For training and testing we are using the data leng_periods before because the target will be the mean return of the leng_periods later\n",
    "  train_size = int(0.8 * (len(df)-leng_period))  # Example 80% train, 20% test\n",
    "  #Using all the micro macro and asset as input\n",
    "  X_train = df.iloc[:train_size]\n",
    "  X_test = df.iloc[train_size:(len(df)-leng_period)]\n",
    "  #using only assets return as output\n",
    "  y_train = returns[:train_size]\n",
    "  y_test = returns[train_size:(len(df)-leng_period)]\n",
    "  # Standardize features for training and test\n",
    "  scaler = StandardScaler()\n",
    "  X_train_scaled = scaler.fit_transform(X_train)\n",
    "  X_test_scaled = scaler.transform(X_test)\n",
    "  X_scaled = scaler.transform(df)\n",
    "\n",
    "  # Train a neural network\n",
    "  model = keras.Sequential([\n",
    "      layers.InputLayer(input_shape=(df.shape[1],)),  # Input layer\n",
    "      layers.Dense(64, activation='relu'),  # First hidden layer with 64 neurons\n",
    "      layers.Dropout(0.2),  # Dropout with rate of 0.2\n",
    "      layers.Dense(64, activation='relu'),  # Second hidden layer with 64 neurons\n",
    "      layers.Dropout(0.2),  # Dropout with rate of 0.2\n",
    "      layers.Dense(len(assets))  # Output layer for predicting return prices\n",
    "  ])\n",
    "\n",
    "  # Compile the model with a low learning rate\n",
    "  model.compile(\n",
    "      optimizer=optimizers.Adam(learning_rate=1e-05),  # Learning rate of 1e-05\n",
    "      loss=losses.MeanSquaredError(),  # Mean Squared Error for loss function\n",
    "      metrics=['mae']  # Mean Absolute Error as a metric\n",
    "  )\n",
    "  # Train the model (using some validation data for evaluation)\n",
    "  model.fit(X_train_scaled, y_train, epochs=100, validation_split=0.2)  # 20% data for validation\n",
    "\n",
    "\n",
    "  # Predict on the test set\n",
    "  y_pred = model.predict(X_test_scaled)\n",
    "\n",
    "  # Evaluate with Mean Squared Error\n",
    "  mse = mean_squared_error(y_test, y_pred)\n",
    "\n",
    "  print(\"Mean Squared Error:\", mse)\n",
    "  prediction = model.predict(X_scaled)\n",
    "  prediction = prediction[-leng_period:].mean(axis=0)\n",
    "  return prediction"
   ]
  },
  {
   "cell_type": "markdown",
   "metadata": {
    "id": "RqIwkpdziiDw"
   },
   "source": [
    "## Support Vector Machines (SVM)"
   ]
  },
  {
   "cell_type": "code",
   "execution_count": 120,
   "metadata": {
    "id": "M_eJ0btlihXs"
   },
   "outputs": [],
   "source": [
    "#In this fuction the df_prices will have the\n",
    "def SV(df):\n",
    "  #Choose only the assets as output\n",
    "  returns= df[assets]\n",
    "  returns = returns.pct_change(periods=30).shift(-30)\n",
    "  # Split into training and test sets (without using `train_test_split`)\n",
    "  # For training and testing we are using the data leng_periods before because the target will be the mean return of the leng_periods later\n",
    "  train_size = int(0.8 * (len(df)-leng_period))  # Example 80% train, 20% test\n",
    "  #Using all the micro macro and asset as input\n",
    "  X_train = df.iloc[:train_size]\n",
    "  X_test = df.iloc[train_size:(len(df)-leng_period)]\n",
    "  #using only assets return as output\n",
    "  y_train = returns[:train_size]\n",
    "  y_test = returns[train_size:(len(df)-leng_period)]\n",
    "  # Standardize features for training and test\n",
    "  scaler = StandardScaler()\n",
    "  X_train_scaled = scaler.fit_transform(X_train)\n",
    "  X_test_scaled = scaler.transform(X_test)\n",
    "  X_scaled = scaler.transform(df)\n",
    "\n",
    "  # Dictionary to store the results of multiple SVR models\n",
    "  predictions = {}\n",
    "  mse =  {}\n",
    "  # Train an SVR model for each asset column\n",
    "  for asset in assets:\n",
    "      y_train = returns[asset][:train_size]\n",
    "      y_test = returns[asset][train_size:(len(df) - leng_period)]\n",
    "\n",
    "      model = SVR(kernel='rbf', C=100, epsilon=0.1)  # SVR with RBF kernel, regularization C, and epsilon\n",
    "\n",
    "      model.fit(X_train_scaled, y_train)  # Fit the model\n",
    "\n",
    "      # Predict on the test set\n",
    "      y_pred = model.predict(X_test_scaled)\n",
    "\n",
    "      # Evaluate with Mean Squared Error for each model\n",
    "      mse[asset] = mean_squared_error(y_test, y_pred)\n",
    "\n",
    "\n",
    "      # Prediction on full data\n",
    "      asset_prediction = model.predict(X_scaled)\n",
    "      predictions[asset] = asset_prediction[-leng_period:].mean(axis=0)\n",
    "\n",
    "  print(f\"Mean Squared Error \", mse)\n",
    "  predictions = pd.Series(predictions)\n",
    "  return predictions"
   ]
  },
  {
   "cell_type": "markdown",
   "metadata": {
    "id": "cwWGN5EpmIGa",
    "tags": []
   },
   "source": [
    "# Calculation weights portfolio"
   ]
  },
  {
   "cell_type": "markdown",
   "metadata": {
    "id": "Y6Ta55IPpwcQ",
    "tags": []
   },
   "source": [
    "## Markowitz using CVXPY"
   ]
  },
  {
   "cell_type": "code",
   "execution_count": 121,
   "metadata": {
    "id": "xXwlAzNMjqx8"
   },
   "outputs": [],
   "source": [
    "# Initial weight calculation using markowitz algorithm\n",
    "def initial_weight(df_prices):\n",
    "    # We transform the data to its logarithmic returns\n",
    "    df = np.log(df_prices).diff()\n",
    "    # Drop the first row because we loose information for the logarithmic return.\n",
    "    df = df.dropna()  # this is a dataframe\n",
    "\n",
    "    # Compute the Expected Returns, we multiply daily return by 252\n",
    "    #because there are 252 business days in the US.\n",
    "    exp_returns = df.mean()*252\n",
    "    # compute the covariance matrix\n",
    "    cova = df.cov()*252\n",
    "    #number of assets\n",
    "    m=exp_returns.shape[0]\n",
    "    # WANT: optimal portfolio with the following constraints\n",
    "    # 1. no short sales are allowed  that is the weights for all stocks are >=0\n",
    "    # 2. Maximum value of 15%\n",
    "    # 3. Minimum value of 5%\n",
    "    # 4. The asset could take the minimun value or Zero\n",
    "\n",
    "    #def optimize_portfolio(exp_returns, index_weights, scale=.0000):\n",
    "    cov_real = np.array(cova)   # variance-covariance matrix of assets\n",
    "    X = np.random.multivariate_normal(mean=np.zeros(len(assets)),  #get multivariable normal distribution using mean zero\n",
    "                                      cov=cov_real,\n",
    "                                      size=len(assets))\n",
    "    cov = LedoitWolf().fit(X) # calculation covariance using shrinkage method of ledoit\n",
    "    Q=cov.covariance_\n",
    "    q = np.array(exp_returns) # q is the exptected returns of assets\n",
    "\n",
    "    #  Constraints\n",
    "\n",
    "    h =np.ones(m)*0.02  # Minimum value\n",
    "    k=np.zeros(m)       # For values zero\n",
    "    j =np.ones(m)*0.15   # Maximum value\n",
    "\n",
    "    # Define and solve the quadratic problem using CVXPY:\n",
    "    # ===================================================\n",
    "    x = cvx.Variable(m)\n",
    "    turnover=0.20\n",
    "    k=0.01 # % fixed cost\n",
    "\n",
    "    objective=cvx.Maximize((-1/2)*cvx.quad_form(x, Q) + q.T @ x)\n",
    "\n",
    "\n",
    "    constraints=[x >= cvx.multiply(k, h), # Give a minimum value and also posivility of choose 0\n",
    "                  x <= j, # Maximum value\n",
    "                  x >= 0,\n",
    "                  cvx.sum(x) == 1] # Constrain sum 1\n",
    "\n",
    "    prob = cvx.Problem(objective,constraints)\n",
    "\n",
    "    prob.solve()\n",
    "    #retrieve the weights of the optimized portfolio\n",
    "    x_values = x.value\n",
    "\n",
    "    # Eliminate the small numbers\n",
    "    threshold = 1e-10\n",
    "    weights=np.where(np.abs(x_values) < threshold, 0, x_values)\n",
    "\n",
    "    return weights"
   ]
  },
  {
   "cell_type": "code",
   "execution_count": 122,
   "metadata": {
    "id": "WPZ2xsqaaD73"
   },
   "outputs": [],
   "source": [
    "#Markowitz algorithm using the initial weight to calculate the cost contraint due to the change in the asset\n",
    "def markowitz(df_prices, initial_weight, expected_returns):\n",
    "    # We transform the data to its logarithmic returns\n",
    "    df = np.log(df_prices).diff()\n",
    "    # Drop the first row because we loose information for the logarithmic return.\n",
    "    df = df.dropna()  # this is a dataframe\n",
    "\n",
    "    # Compute the Expected Returns, we multiply daily return by 252\n",
    "    #because there are 252 business days in the US.\n",
    "    #exp_returns = df.mean()*252\n",
    "\n",
    "    #Calculate expected returns using the input\n",
    "    exp_returns = expected_returns*252\n",
    "    # compute the covariance matrix\n",
    "    cova = df.cov()*252\n",
    "    #number of assets\n",
    "    m=exp_returns.shape[0]\n",
    "    # WANT: optimal portfolio with the following constraints\n",
    "    # 1. no short sales are allowed  that is the weights for all stocks are >=0\n",
    "    # 2. Maximum value of 15%\n",
    "    # 3. Minimum value of 5%\n",
    "    # 4. The asset could take the minimun value or Zero\n",
    "\n",
    "    #def optimize_portfolio(exp_returns, index_weights, scale=.0000):\n",
    "    cov_real = np.array(cova)   # variance-covariance matrix of assets\n",
    "    X = np.random.multivariate_normal(mean=np.zeros(len(assets)),  #get multivariable normal distribution using mean zero\n",
    "                                      cov=cov_real,\n",
    "                                      size=len(assets))\n",
    "    cov = LedoitWolf().fit(X) # calculation covariance using shrinkage method of ledoit\n",
    "    Q=cov.covariance_\n",
    "    q = np.array(exp_returns) # q is the exptected returns of assets\n",
    "\n",
    "    #  Constraints\n",
    "\n",
    "    h =np.ones(m)*0.02  # Minimum value\n",
    "    k=np.zeros(m)       # For values zero\n",
    "    j =np.ones(m)*0.15   # Maximum value\n",
    "\n",
    "    # Define and solve the quadratic problem using CVXPY:\n",
    "    # ===================================================\n",
    "    x = cvx.Variable(m)\n",
    "\n",
    "    turnover=0.20\n",
    "    k=0.01 # % fixed cost\n",
    "\n",
    "    cost = k * cvx.norm(x-initial_weight, 1) # transaction cost\n",
    "\n",
    "    objective=cvx.Maximize((-1/2)*cvx.quad_form(x, Q) + q.T @ x - cost)\n",
    "\n",
    "\n",
    "    constraints=[#x >= cvx.multiply(k, h), # Give a minimum value and also posivility of choose 0\n",
    "                  x <= j, # Maximum value\n",
    "                  #cvx.abs(x-initial_weight) <= turnover, #turnover constraint\n",
    "                  x >= 0,\n",
    "                  cvx.sum(x) == 1]\n",
    "\n",
    "    prob = cvx.Problem(objective,constraints)\n",
    "\n",
    "    prob.solve()\n",
    "    #retrieve the weights of the optimized portfolio\n",
    "    x_values = x.value\n",
    "\n",
    "    # Eliminate the small numbers\n",
    "    threshold = 1e-10\n",
    "    weights=np.where(np.abs(x_values) < threshold, 0, x_values)\n",
    "\n",
    "    return weights\n"
   ]
  },
  {
   "cell_type": "markdown",
   "metadata": {
    "id": "880Cs91Ap3ks",
    "tags": []
   },
   "source": [
    "## Markowitz using Scipy as optimizer"
   ]
  },
  {
   "cell_type": "code",
   "execution_count": 123,
   "metadata": {
    "id": "wXdbf204FEai"
   },
   "outputs": [],
   "source": [
    "# Portfolio optimization function\n",
    "def initial_weight_scipy(df_prices, min_assets=7, penalty_factor=10):\n",
    "    df = np.log(df_prices).diff().dropna()\n",
    "    # Calculation of exp returns using random forest\n",
    "    exp_returns = RF(df_prices) * 252\n",
    "    cov_matrix = df.cov() * 252\n",
    "\n",
    "    m = len(exp_returns)\n",
    "\n",
    "    # Objective function with a penalty if fewer than 20 assets are selected\n",
    "    def objective(x):\n",
    "        risk = 0.5 * (x @ cov_matrix @ x)\n",
    "        expected_return = exp_returns @ x\n",
    "        # Count how many assets are greater than a small threshold (e.g., 0.01)\n",
    "        non_zero_count = np.sum(x > 0.005)\n",
    "        # Penalty for fewer than the minimum required assets\n",
    "        penalty = penalty_factor * max(0, min_assets - non_zero_count)\n",
    "        return risk - expected_return + penalty  # Minimize risk, maximize return, with penalty\n",
    "\n",
    "    # Constraints\n",
    "    constraints = [\n",
    "        {'type': 'eq', 'fun': lambda x: np.sum(x) - 1},  # Portfolio must sum to 100%\n",
    "    ]\n",
    "\n",
    "    # Bounds for asset weights (0.01 is the lower bound to consider an asset non-zero)\n",
    "    bounds = [(0.0, 0.15) for _ in range(m)]  # Weight bounds (1% to 15%)\n",
    "\n",
    "    # Initial guess (equal distribution)\n",
    "    initial_guess = np.full(m, 1/m)\n",
    "\n",
    "    # Solver options\n",
    "    options = {\n",
    "        'ftol': 1e-6,  # Convergence tolerance\n",
    "        'maxiter': 1000,  # Maximum iterations\n",
    "    }\n",
    "\n",
    "    # Optimization using SLSQP\n",
    "    result = opt.minimize(objective, initial_guess, method='SLSQP', bounds=bounds, constraints=constraints, options=options)\n",
    "\n",
    "    if not result.success:\n",
    "        raise Exception(\"Optimization failed:\", result.message)\n",
    "\n",
    "    # Eliminate the small numbers\n",
    "    threshold = 1e-10\n",
    "    weights=np.where(np.abs(result.x) < threshold, 0, result.x)\n",
    "\n",
    "    return weights  # Optimized weights\n",
    "\n"
   ]
  },
  {
   "cell_type": "code",
   "execution_count": 124,
   "metadata": {
    "id": "3d6YOkays-hL"
   },
   "outputs": [],
   "source": [
    "# Portfolio optimization function\n",
    "def weight_scipy(df_prices, initial_weight, expected_returns, min_assets=7, penalty_factor=10, transaction_cost=0.01, turnover_limit=0.20):\n",
    "    df = np.log(df_prices).diff().dropna()\n",
    "    # Calculation of exp returns using random forest\n",
    "    exp_returns = expected_returns * 252\n",
    "    cov_matrix = df.cov() * 252\n",
    "\n",
    "    m = len(exp_returns)\n",
    "\n",
    "    # Objective function with a penalty if fewer than 20 assets are selected\n",
    "    def objective(x):\n",
    "        risk = 0.5 * (x @ cov_matrix @ x)\n",
    "        expected_return = exp_returns @ x\n",
    "        # Count how many assets are greater than a small threshold (e.g., 0.01)\n",
    "        non_zero_count = np.sum(x > 0.005)\n",
    "        # Penalty for fewer than the minimum required assets\n",
    "        penalty = penalty_factor * max(0, min_assets - non_zero_count)\n",
    "        # Transaction cost based on absolute weight changes from initial weights\n",
    "        cost = transaction_cost * np.sum(np.abs(x - initial_weight))\n",
    "        return risk - expected_return + penalty + cost  # Minimize risk, maximize return, with penalty\n",
    "\n",
    "    # Constraints\n",
    "    constraints = [\n",
    "        {'type': 'eq', 'fun': lambda x: np.sum(x) - 1},  # Portfolio must sum to 100%\n",
    "        #{'type': 'ineq', 'fun': lambda x: turnover_limit - np.sum(np.abs(x - initial_weight))},  # Turnover limit\n",
    "    ]\n",
    "\n",
    "    # Bounds for asset weights (0.01 is the lower bound to consider an asset non-zero)\n",
    "    bounds = [(0.0, 0.15) for _ in range(m)]  # Weight bounds (1% to 15%)\n",
    "\n",
    "    # Initial guess (equal distribution)\n",
    "    initial_guess = initial_weight\n",
    "\n",
    "    # Solver options\n",
    "    options = {\n",
    "        'ftol': 1e-6,  # Convergence tolerance\n",
    "        'maxiter': 5000,  # Maximum iterations\n",
    "    }\n",
    "\n",
    "    # Optimization using SLSQP\n",
    "    result = opt.minimize(objective, initial_guess, method='SLSQP', bounds=bounds, constraints=constraints, options=options)\n",
    "\n",
    "    if not result.success:\n",
    "        raise Exception(\"Optimization failed:\", result.message)\n",
    "\n",
    "    # Eliminate the small numbers\n",
    "    threshold = 1e-10\n",
    "    weights=np.where(np.abs(result.x) < threshold, 0, result.x)\n",
    "\n",
    "    return weights  # Optimized weights\n"
   ]
  },
  {
   "cell_type": "markdown",
   "metadata": {
    "id": "QlLvGXMGEr4X",
    "tags": []
   },
   "source": [
    "## HRP algorithm"
   ]
  },
  {
   "cell_type": "code",
   "execution_count": 125,
   "metadata": {
    "id": "AHFkIe9pEu5O"
   },
   "outputs": [],
   "source": [
    "#Using code of Marcos lopex del pradro <lopezdeprado@lbl.gov>\n",
    "# Hierarchical Risk Parity\n",
    "# Allocate portfolio weights using Hierarchical Risk Parity\n",
    "def preprocess_data(df_prices):\n",
    "    df = np.log(df_prices).diff().dropna()  # Log returns\n",
    "    exp_returns = RF(df_prices) * 252  # Expected returns on annual basis using random forest\n",
    "    cov_matrix = df.cov() * 252  # Covariance matrix\n",
    "    return exp_returns, cov_matrix\n",
    "\n",
    "def hierarchical_clustering(cov_matrix):\n",
    "    # Create a distance matrix from the correlation matrix\n",
    "    corr_matrix = cov_matrix / (np.sqrt(np.diag(cov_matrix))[:, None] * np.sqrt(np.diag(cov_matrix))[None, :])\n",
    "    distance_matrix = np.sqrt(0.5 * (1 - corr_matrix))\n",
    "\n",
    "    # Convert to symmetric and set diagonal to zero\n",
    "    distance_matrix_clean = distance_matrix.to_numpy()\n",
    "    np.fill_diagonal(distance_matrix_clean, 0)\n",
    "\n",
    "    # Hierarchical clustering using Ward's method\n",
    "    linkage_matrix = linkage(squareform(distance_matrix_clean), method='ward')\n",
    "    return linkage_matrix\n",
    "\n",
    "def get_quasi_diag(linkage_matrix):\n",
    "    # Sort clustered items by distance\n",
    "    sort_ix = pd.Series([linkage_matrix[-1, 0], linkage_matrix[-1, 1]], dtype=int)\n",
    "    num_items = linkage_matrix[-1, 3]  # Number of original items\n",
    "\n",
    "    while sort_ix.max() >= num_items:\n",
    "        # Adjust indices to make space\n",
    "        sort_ix.index = range(0, len(sort_ix) * 2, 2)\n",
    "        # Get the clusters greater than the number of items\n",
    "        df0 = sort_ix[sort_ix >= num_items]\n",
    "        # Integer conversion for indexing\n",
    "        i = df0.index\n",
    "        j = (df0.values.astype(int) - num_items).astype(int)\n",
    "        # Re-assign values in sort_ix\n",
    "        sort_ix[i] = linkage_matrix[j, 0].astype(int)\n",
    "        # Create a new Series with new indices and sort\n",
    "        df0 = pd.Series(linkage_matrix[j, 1].astype(int), index=i + 1)\n",
    "        sort_ix = pd.concat([sort_ix, df0]).sort_index()\n",
    "        sort_ix.index = range(len(sort_ix))  # Re-index\n",
    "    return sort_ix.tolist()\n",
    "\n",
    "def getIVP(cov,**kargs):\n",
    "    # Compute the inverse-variance portfolio\n",
    "    ivp=1./np.diag(cov)\n",
    "    ivp/=ivp.sum()\n",
    "    return ivp\n",
    "\n",
    "def getClusterVar(cov,cItems):\n",
    "    # Compute variance per cluster\n",
    "    cov_=cov.loc[cItems,cItems] # matrix slice\n",
    "    w_=getIVP(cov_).reshape(-1,1)\n",
    "    cVar=np.dot(np.dot(w_.T,cov_),w_)[0,0]\n",
    "    return cVar\n",
    "\n",
    "def get_rec_bipart(cov_matrix, sorted_ix):\n",
    "    # Compute HRP allocations recursively\n",
    "    w = pd.Series(1, index=sorted_ix)  # Initialize all items with equal weights\n",
    "    c_items = [sorted_ix]  # Initialize all items in one cluster\n",
    "    # convert the index names as numbers\n",
    "    custom_indices = list(range(len(cov_matrix)))\n",
    "    cov_matrix.index = custom_indices\n",
    "    cov_matrix.columns = custom_indices\n",
    "    while len(c_items) > 0:\n",
    "        c_items=[i[j:k] for i in c_items for j,k in ((0,len(i)//2), (len(i)//2,len(i))) if len(i)>1] # bi-section\n",
    "        for i in range(0, len(c_items), 2):  # Parse in pairs\n",
    "            c_items0 = c_items[i]  # Cluster 1\n",
    "            c_items1 = c_items[i + 1]  # Cluster 2\n",
    "\n",
    "            # Calculate the variance for each cluster\n",
    "            c_var0=getClusterVar(cov_matrix,c_items0)\n",
    "            c_var1=getClusterVar(cov_matrix,c_items1)\n",
    "            # Allocate weights based on variance\n",
    "            alpha = 1 - c_var0 / (c_var0 + c_var1)\n",
    "            w[c_items0] *= alpha        # weight 1\n",
    "            w[c_items1] *= (1 - alpha)  # weight 2\n",
    "    return w\n",
    "\n",
    "def weights_hrp(df_prices):\n",
    "    exp_returns, cov_matrix = preprocess_data(df_prices)\n",
    "\n",
    "    # Perform hierarchical clustering\n",
    "    linkage_matrix = hierarchical_clustering(cov_matrix)\n",
    "\n",
    "    # Get the quasi-diagonalized order\n",
    "    sorted_ix = get_quasi_diag(linkage_matrix)\n",
    "    # Perform recursive bisection to get weights\n",
    "    hrp_weights = get_rec_bipart(cov_matrix, sorted_ix)\n",
    "    sort_weights = hrp_weights.sort_index()\n",
    "    sort_weights = sort_weights.tolist()\n",
    "    return sort_weights"
   ]
  },
  {
   "cell_type": "code",
   "execution_count": 126,
   "metadata": {
    "colab": {
     "base_uri": "https://localhost:8080/"
    },
    "id": "Sqrc70okWUI3",
    "outputId": "256ffa7f-bb01-47ad-c80f-5af6ff40c5b6"
   },
   "outputs": [
    {
     "name": "stdout",
     "output_type": "stream",
     "text": [
      "2023-06-25\n"
     ]
    },
    {
     "name": "stderr",
     "output_type": "stream",
     "text": [
      "[*********************100%%**********************]  55 of 55 completed\n",
      "[*********************100%%**********************]  1 of 1 completed\n"
     ]
    },
    {
     "name": "stdout",
     "output_type": "stream",
     "text": [
      "2021-01-01 2022-01-01\n",
      "Mean Squared Error: 0.0072361534027131\n",
      "[0.   0.   0.   0.   0.   0.   0.   0.   0.   0.   0.   0.15 0.   0.\n",
      " 0.   0.   0.   0.   0.15 0.   0.   0.   0.   0.   0.   0.   0.   0.\n",
      " 0.15 0.   0.   0.15 0.   0.   0.   0.   0.1  0.15 0.   0.   0.   0.\n",
      " 0.   0.   0.   0.15 0.   0.   0.   0.   0.   0.   0.   0.   0.  ]\n"
     ]
    }
   ],
   "source": [
    "assets =sorted(assets)\n",
    "# Acquire data\n",
    "end_period = (datetime.strptime(end, \"%Y-%m-%d\") + timedelta(days=(periods+1)*leng_period)).strftime(\"%Y-%m-%d\")\n",
    "print(end_period)\n",
    "df_prices = yf.download(assets,start=start,end=end_period)['Adj Close']\n",
    "df_prices_all = df_prices.dropna()\n",
    "market_prices_all = yf.download(\"^GSPC\",start=start,end=end_period)['Adj Close']\n",
    "print(start, end)\n",
    "#Initial weight using CVXPY\n",
    "#initial_weight = initial_weight(df_prices_all[start:end])\n",
    "#Initial weight using spicy\n",
    "initial_weight = initial_weight_scipy(df_prices_all[start:end])\n",
    "print(initial_weight)"
   ]
  },
  {
   "cell_type": "markdown",
   "metadata": {
    "id": "jMSWn0062yRL"
   },
   "source": [
    "If there is singularity problem like \"LinAlgError: SVD did not converge\" Check the values of the assets. Could have nan value because there not exist in yahoo"
   ]
  },
  {
   "cell_type": "markdown",
   "metadata": {
    "id": "Kqaiz5JrOBZu"
   },
   "source": [
    "### Plot HRP initial weights"
   ]
  },
  {
   "cell_type": "code",
   "execution_count": 127,
   "metadata": {
    "colab": {
     "base_uri": "https://localhost:8080/",
     "height": 1000
    },
    "id": "lg7JB4SvNYsu",
    "outputId": "79dbd4ec-1f87-4258-84da-522f3b484472"
   },
   "outputs": [
    {
     "name": "stdout",
     "output_type": "stream",
     "text": [
      "Mean Squared Error: 0.0072361534027131\n"
     ]
    },
    {
     "data": {
      "image/png": "[encoded data removed]",
      "text/plain": [
       "<Figure size 1000x700 with 1 Axes>"
      ]
     },
     "metadata": {},
     "output_type": "display_data"
    },
    {
     "data": {
      "image/png": "[encoded data removed]",
      "text/plain": [
       "<Figure size 1000x500 with 1 Axes>"
      ]
     },
     "metadata": {},
     "output_type": "display_data"
    }
   ],
   "source": [
    "# Use your functions to get the linkage matrix and HRP weights\n",
    "exp_returns, cov_matrix = preprocess_data(df_prices_all[start:end])\n",
    "linkage_matrix = hierarchical_clustering(cov_matrix)\n",
    "sorted_ix = get_quasi_diag(linkage_matrix)\n",
    "hrp_weights = get_rec_bipart(cov_matrix, sorted_ix)\n",
    "\n",
    "# Plot the dendrogram\n",
    "plt.figure(figsize=(10, 7))\n",
    "dendrogram(linkage_matrix, labels=assets, leaf_rotation=90)\n",
    "plt.title(\"Dendrogram for Hierarchical Risk Parity\")\n",
    "plt.xlabel(\"Assets\")\n",
    "plt.ylabel(\"Distance\")\n",
    "plt.show()\n",
    "\n",
    "# Plot the HRP portfolio weights\n",
    "plt.figure(figsize=(10, 5))\n",
    "plt.bar(assets, hrp_weights)\n",
    "plt.title(\"Hierarchical Risk Parity Portfolio Weights\")\n",
    "plt.xlabel(\"Assets\")\n",
    "plt.ylabel(\"Weights\")\n",
    "plt.show()"
   ]
  },
  {
   "cell_type": "markdown",
   "metadata": {
    "id": "dyxFgK-ROPpE"
   },
   "source": [
    "## Calculate weights of all periods"
   ]
  },
  {
   "cell_type": "code",
   "execution_count": 128,
   "metadata": {
    "id": "L0FUt4jxZuhm"
   },
   "outputs": [],
   "source": [
    "# Join the micro and macroeconomic with all the asset to use it as input in the machine learning\n",
    "macro_prices = df_prices_all.join(macro, how='inner')  # Join the Fred economic variable with the assets value\n",
    "macro_prices = macro_prices.join(eai_daily, how='inner') # Join the EAI economic variable with the preview table"
   ]
  },
  {
   "cell_type": "code",
   "execution_count": 129,
   "metadata": {
    "colab": {
     "base_uri": "https://localhost:8080/"
    },
    "id": "FS6K8L1dboMr",
    "outputId": "d422f8db-b124-4237-ded9-fbd30d48e9e6"
   },
   "outputs": [
    {
     "name": "stdout",
     "output_type": "stream",
     "text": [
      "2021-01-01 2022-01-01\n",
      "Mean Squared Error: 0.0059021955799207874\n",
      "2021-04-01 2022-04-01\n",
      "Mean Squared Error: 0.01273826453510281\n",
      "2021-06-30 2022-06-30\n",
      "Mean Squared Error: 0.007566246134563736\n",
      "2021-09-28 2022-09-28\n",
      "Mean Squared Error: 0.02179450459244133\n",
      "2021-12-27 2022-12-27\n",
      "Mean Squared Error: 0.008961840007880816\n",
      "+------------+------------+\n",
      "| Start Date |  End Date  |\n",
      "+------------+------------+\n",
      "| 2021-01-01 | 2022-01-01 |\n",
      "| 2021-04-01 | 2022-04-01 |\n",
      "| 2021-06-30 | 2022-06-30 |\n",
      "| 2021-09-28 | 2022-09-28 |\n",
      "| 2021-12-27 | 2022-12-27 |\n",
      "+------------+------------+\n"
     ]
    }
   ],
   "source": [
    "weights=[]\n",
    "table = PrettyTable()\n",
    "table.field_names = [\"Start Date\", \"End Date\"]\n",
    "min_assets= 15\n",
    "for i in range(periods):\n",
    "  # Convert the end date string to a datetime object\n",
    "  end_date = datetime.strptime(end, \"%Y-%m-%d\")\n",
    "  # Calculate the start date as one year before the end date\n",
    "  start_date = end_date - timedelta(days=365*years)\n",
    "  # Convert the start date to a string in the same format as the end date\n",
    "  start = start_date.strftime(\"%Y-%m-%d\")\n",
    "  end = end_date.strftime(\"%Y-%m-%d\")\n",
    "  print(start, end)\n",
    "  table.add_row([start, end])\n",
    "  #Call the prices from prices of all the asssets\n",
    "  df_prices=df_prices_all[start:end]\n",
    "  #Machine learning algorithm to calculate the expected returns\n",
    "  ml_data=macro_prices[start:end]\n",
    "  expected_returns = RF(ml_data)\n",
    "  #weigt using CVXPY\n",
    "  #weight=markowitz(df_prices, initial_weight, expected_returns)\n",
    "  #weigt using spicy optimizer\n",
    "  weight=weight_scipy(df_prices, initial_weight, expected_returns, min_assets=min_assets)\n",
    "  #weight using HRP\n",
    "  #weight = weights_hrp(df_prices)\n",
    "  # Append the weights for this period to the matrix\n",
    "  weights.append(weight)\n",
    "  end_date += timedelta(days=leng_period)\n",
    "  end = end_date.strftime(\"%Y-%m-%d\")\n",
    "  initial_weight = weight\n",
    "print(table)"
   ]
  },
  {
   "cell_type": "markdown",
   "metadata": {
    "id": "ZVXN7kHDmgzl"
   },
   "source": [
    "# Evaluation of portfolio"
   ]
  },
  {
   "cell_type": "code",
   "execution_count": 130,
   "metadata": {
    "colab": {
     "base_uri": "https://localhost:8080/"
    },
    "id": "1IURxquRxRoL",
    "outputId": "8af4cc82-ce78-44a5-eba1-c7a375a21c77"
   },
   "outputs": [
    {
     "name": "stdout",
     "output_type": "stream",
     "text": [
      "Start Date: 2022-01-01\n",
      "End Date: 2023-03-27\n"
     ]
    },
    {
     "name": "stderr",
     "output_type": "stream",
     "text": [
      "[*********************100%%**********************]  1 of 1 completed\n",
      "[*********************100%%**********************]  55 of 55 completed\n"
     ]
    }
   ],
   "source": [
    "start= fecha\n",
    "start_date = datetime.strptime(start, \"%Y-%m-%d\")\n",
    "end_date = start_date + timedelta(days=leng_period*periods)\n",
    "end = end_date.strftime(\"%Y-%m-%d\")\n",
    "\n",
    "print(\"Start Date:\", start)\n",
    "print(\"End Date:\", end)\n",
    "\n",
    "initial_market_prices = yf.download(\"^GSPC\",start=start,end=end)['Adj Close']\n",
    "initial_df_prices = yf.download(assets,start=start,end=end)['Adj Close']\n",
    "initial_df_prices = initial_df_prices.dropna()"
   ]
  },
  {
   "cell_type": "code",
   "execution_count": 131,
   "metadata": {
    "id": "xxcdvpWu_q54"
   },
   "outputs": [],
   "source": [
    "def count_differing_values(array1, array2, threshold):\n",
    "    # Convert lists to numpy arrays\n",
    "    array1 = np.array(array1)\n",
    "    array2 = np.array(array2)\n",
    "\n",
    "    # Calculate absolute difference between arrays\n",
    "    diff = np.abs(array1 - array2)\n",
    "    # Count differing values based on threshold\n",
    "    differing_count = np.sum(diff > threshold)\n",
    "    return differing_count"
   ]
  },
  {
   "cell_type": "code",
   "execution_count": 132,
   "metadata": {
    "colab": {
     "base_uri": "https://localhost:8080/"
    },
    "id": "hlOPM1wcf___",
    "outputId": "d053cc3c-454a-4750-c72a-b218e216fc49"
   },
   "outputs": [
    {
     "name": "stdout",
     "output_type": "stream",
     "text": [
      "2022-01-02 2022-04-02\n",
      "2022-04-03 2022-07-02\n",
      "2022-07-03 2022-10-01\n",
      "2022-10-02 2022-12-31\n",
      "2023-01-01 2023-04-01\n",
      "+------------+------------+\n",
      "| Start Date |  End Date  |\n",
      "+------------+------------+\n",
      "| 2022-01-02 | 2022-04-02 |\n",
      "| 2022-04-03 | 2022-07-02 |\n",
      "| 2022-07-03 | 2022-10-01 |\n",
      "| 2022-10-02 | 2022-12-31 |\n",
      "| 2023-01-01 | 2023-04-01 |\n",
      "+------------+------------+\n"
     ]
    }
   ],
   "source": [
    "Total_invest=1_000\n",
    "Total_invest_market=Total_invest\n",
    "bl_portfolio = []\n",
    "market=[]\n",
    "portfolio=[]\n",
    "hapi=[]\n",
    "table = PrettyTable()\n",
    "table.field_names = [\"Start Date\", \"End Date\"]\n",
    "for x in range(periods):\n",
    "    # Convert the start date string to a datetime object\n",
    "    start_date = datetime.strptime(start, \"%Y-%m-%d\")+ timedelta(days=1)\n",
    "    #sum leng period to the end date\n",
    "    end_date = start_date + timedelta(days=leng_period)\n",
    "    # Convert the end date to a string in the same format as the end date\n",
    "    end = end_date.strftime(\"%Y-%m-%d\")\n",
    "    start= start_date.strftime(\"%Y-%m-%d\")\n",
    "    print(start, end)\n",
    "    table.add_row([start, end])\n",
    "    #Call the prices from market\n",
    "    market_prices=market_prices_all[start:end]\n",
    "    #Call the prices from prices of all the asssets\n",
    "    df_prices = df_prices_all[start:end]\n",
    "\n",
    "    portfolio= np.zeros(len(df_prices))\n",
    "    # Loop through each asset and its weight, and calculate the contribution to the portfolio\n",
    "    for i in range(len(assets)):\n",
    "        asset_name = assets[i]\n",
    "        #print(asset_name,df_prices[asset_name][0])\n",
    "        asset_price = df_prices[asset_name]/df_prices[asset_name][0]\n",
    "        asset_weight = weights[x][i]\n",
    "        portfolio += asset_price * asset_weight\n",
    "    portf = portfolio*Total_invest\n",
    "\n",
    "    # Recalculation of the new total invest by the end of the period\n",
    "    cost = 0.15 # price for buying or sell a faction of a share (hapi)\n",
    "    if x==0:\n",
    "        transactions=count_differing_values(weights[x], initial_weight, 1e-3)\n",
    "    else:\n",
    "        transactions = count_differing_values(weights[x], weights[x-1], 1e-3)\n",
    "    total_cost = transactions*cost\n",
    "    hapi.append(total_cost)\n",
    "    Total_invest=portfolio[-1]*Total_invest-total_cost\n",
    "    bl_portfolio.append(portf)\n",
    "    market_prices=market_prices/initial_market_prices[0]*Total_invest_market\n",
    "    market.append(market_prices)\n",
    "    start_date += timedelta(days=leng_period)\n",
    "    start= start_date.strftime(\"%Y-%m-%d\")\n",
    "print(table)"
   ]
  },
  {
   "cell_type": "code",
   "execution_count": 133,
   "metadata": {
    "colab": {
     "base_uri": "https://localhost:8080/"
    },
    "id": "mHw6VhRWqq7d",
    "outputId": "7ab30ef9-a76c-4e71-9714-4d64fef0349b"
   },
   "outputs": [
    {
     "name": "stdout",
     "output_type": "stream",
     "text": [
      "Earning % S&P500: -5.226666449497145\n",
      "Earning % Markowitz portfolio: -5.395688219262316\n",
      "Earning % S&P500: -16.525627934992016\n",
      "Earning % Markowitz portfolio: -39.80616119022893\n",
      "Earning % S&P500: -6.41463756708007\n",
      "Earning % Markowitz portfolio: 2.467160821714496\n",
      "Earning % S&P500: 4.378772230344918\n",
      "Earning % Markowitz portfolio: 15.159107762541469\n",
      "Earning % S&P500: 7.45710601667795\n",
      "Earning % Markowitz portfolio: 25.571065156906275\n"
     ]
    }
   ],
   "source": [
    "for i in range(periods):\n",
    "    SP500_earnings = (market[i][-1]-market[i][0])/market[i][0]\n",
    "    print(\"Earning % S&P500:\", SP500_earnings*100)\n",
    "    BL_earnings=(bl_portfolio[i][-1]-bl_portfolio[i][0])/bl_portfolio[i][0]\n",
    "    print(\"Earning % Markowitz portfolio:\", BL_earnings*100)"
   ]
  },
  {
   "cell_type": "markdown",
   "metadata": {
    "id": "L-X-I7FWm2Sp"
   },
   "source": [
    "## Total earnings"
   ]
  },
  {
   "cell_type": "code",
   "execution_count": 134,
   "metadata": {
    "colab": {
     "base_uri": "https://localhost:8080/"
    },
    "id": "0nzTHGqDs3Y5",
    "outputId": "45171ea3-a5da-433d-a04b-41689a936699"
   },
   "outputs": [
    {
     "name": "stdout",
     "output_type": "stream",
     "text": [
      "Earning % S&P500: -14.327976541619433\n",
      "Earning % Markowitz portfolio: -16.369108825939\n"
     ]
    }
   ],
   "source": [
    "SP500_earnings = (market[-1][-1]-market[0][0])/market[0][0]\n",
    "print(\"Earning % S&P500:\", SP500_earnings*100)\n",
    "BL_earnings=(bl_portfolio[-1][-1]-bl_portfolio[0][0])/bl_portfolio[0][0]\n",
    "print(\"Earning % Markowitz portfolio:\", BL_earnings*100)"
   ]
  },
  {
   "cell_type": "markdown",
   "metadata": {
    "id": "AwggsiJXm6RY"
   },
   "source": [
    "## Behavior of portfolio agains S&P500"
   ]
  },
  {
   "cell_type": "code",
   "execution_count": 135,
   "metadata": {
    "colab": {
     "base_uri": "https://localhost:8080/",
     "height": 472
    },
    "id": "TVeuq9WN6uBs",
    "outputId": "d40f9e09-aa78-42f7-8547-2639ebd2d417"
   },
   "outputs": [
    {
     "data": {
      "image/png": "[encoded data removed]",
      "text/plain": [
       "<Figure size 1000x600 with 1 Axes>"
      ]
     },
     "metadata": {},
     "output_type": "display_data"
    }
   ],
   "source": [
    "# Plot each array in bl_portfolio\n",
    "for i, portfolio_values in enumerate(bl_portfolio):\n",
    "    plt.plot(portfolio_values, label=f'Portfolio {i+1}')\n",
    "\n",
    "plt.xlabel('Period')\n",
    "plt.ylabel('Portfolio Value')\n",
    "plt.title('Portfolio Value Over Time')\n",
    "plt.legend()\n",
    "plt.show()"
   ]
  },
  {
   "cell_type": "code",
   "execution_count": 136,
   "metadata": {
    "colab": {
     "base_uri": "https://localhost:8080/",
     "height": 472
    },
    "id": "SPj0rFBH8Yj-",
    "outputId": "4c8b2545-22dc-4542-8470-927eabc461a1"
   },
   "outputs": [
    {
     "data": {
      "image/png": "[encoded data removed]",
      "text/plain": [
       "<Figure size 1000x600 with 1 Axes>"
      ]
     },
     "metadata": {},
     "output_type": "display_data"
    }
   ],
   "source": [
    "# Plot each array in bl_portfolio\n",
    "for i, portfolio_values in enumerate(market):\n",
    "    plt.plot(portfolio_values, label=f'Portfolio {i+1}')\n",
    "\n",
    "plt.xlabel('Period')\n",
    "plt.ylabel('Portfolio Value')\n",
    "plt.title('S&P500 Value Over Time')\n",
    "plt.legend()\n",
    "plt.show()"
   ]
  },
  {
   "cell_type": "code",
   "execution_count": 137,
   "metadata": {
    "colab": {
     "base_uri": "https://localhost:8080/"
    },
    "id": "YzUXrUnT-prD",
    "outputId": "fe40ae68-8882-4f5c-af9d-91576fceb3f4"
   },
   "outputs": [
    {
     "name": "stderr",
     "output_type": "stream",
     "text": [
      "[*********************100%%**********************]  1 of 1 completed\n"
     ]
    }
   ],
   "source": [
    "#convert to a dataframe\n",
    "df_portfolio=pd.DataFrame(bl_portfolio)\n",
    "# Replace all the nan to value 0. When you do a dataframe it will create several row per each run and the columns are the dates\n",
    "df_portfolio.fillna(0, inplace=True)\n",
    "\n",
    "#transpose to have the date as row and all the run as columns\n",
    "df_portfolio = df_portfolio.transpose()\n",
    "#sum all the columns in the same row to have and unique value per row\n",
    "df_portfolio = df_portfolio.sum(axis=1)\n",
    "\n",
    "start= fecha\n",
    "start_date = datetime.strptime(start, \"%Y-%m-%d\")\n",
    "end_date = start_date + timedelta(days=leng_period*periods)\n",
    "end = end_date.strftime(\"%Y-%m-%d\")\n",
    "sp500 = yf.download(\"^GSPC\",start=start,end=end)['Adj Close']\n",
    "market=sp500/sp500[0]*Total_invest_market"
   ]
  },
  {
   "cell_type": "code",
   "execution_count": 138,
   "metadata": {
    "colab": {
     "base_uri": "https://localhost:8080/",
     "height": 472
    },
    "id": "AYwpdioaQt8r",
    "outputId": "aa7800c3-00a5-4406-e88f-41a589ebf588"
   },
   "outputs": [
    {
     "data": {
      "image/png": "[encoded data removed]",
      "text/plain": [
       "<Figure size 1000x600 with 1 Axes>"
      ]
     },
     "metadata": {},
     "output_type": "display_data"
    }
   ],
   "source": [
    "# Plot df_portfolio\n",
    "plt.plot(df_portfolio.index, df_portfolio, label='Portfolio')\n",
    "plt.xlabel('Date')\n",
    "plt.ylabel('Total invest')\n",
    "plt.title('Portfolio vs S&P500')\n",
    "\n",
    "# Plot market\n",
    "plt.plot(market.index, market, label='Market')\n",
    "\n",
    "# Add legend\n",
    "plt.legend()\n",
    "\n",
    "# Show the plot\n",
    "plt.show()"
   ]
  },
  {
   "cell_type": "markdown",
   "metadata": {},
   "source": [
    "## Risk Measurements"
   ]
  },
  {
   "cell_type": "code",
   "execution_count": 139,
   "metadata": {
    "tags": []
   },
   "outputs": [],
   "source": [
    "def sharpe_ratio(return_series ,N,rf):\n",
    "    mean = return_series.mean() * N -rf\n",
    "    sigma = return_series.std() * np.sqrt(N)\n",
    "    return mean / sigma\n",
    "\n",
    "def sortino_ratio(series ,N,rf):\n",
    "    mean = series.mean() * N -rf\n",
    "    std_neg = series[series<0].std()*np.sqrt(N)\n",
    "    return mean/std_neg\n",
    "\n",
    "def maxDD(return_series):\n",
    "    comp_ret = (return_series+1).cumprod()\n",
    "    peak = comp_ret.expanding(min_periods=1).max()\n",
    "    dd = (comp_ret/peak)-1\n",
    "    return dd.min()"
   ]
  },
  {
   "cell_type": "code",
   "execution_count": 140,
   "metadata": {
    "tags": []
   },
   "outputs": [
    {
     "name": "stdout",
     "output_type": "stream",
     "text": [
      "Sharpe Ratio -0.28138373677037776\n",
      "Sortino Ratio -0.35983763488766046\n",
      "Max Drawdown -0.4320455477565407\n",
      "Calmar ratio -0.20027853645790367\n",
      "Beta =  [[0.53151227]]\n"
     ]
    }
   ],
   "source": [
    "# Calculation of the principal risk variables\n",
    "N = 255 #255 trading days in a year\n",
    "rf =0.01 #1% risk free rate\n",
    "return_portfolio = df_portfolio.pct_change().dropna()\n",
    "sharpe=sharpe_ratio(return_portfolio, N, rf)\n",
    "print(\"Sharpe Ratio\", sharpe)\n",
    "sortino=sortino_ratio(return_portfolio ,N,rf)\n",
    "print(\"Sortino Ratio\", sortino)\n",
    "max_draw= maxDD(return_portfolio)\n",
    "print(\"Max Drawdown\", max_draw)\n",
    "calmars = return_portfolio.mean()*N/abs(max_draw)\n",
    "print(\"Calmar ratio\", calmars)\n",
    "return_market = market.pct_change().dropna()\n",
    "# Make sure the lengt is the same in both\n",
    "x = np.array(return_portfolio[0:len(return_market)]).reshape((-1,1))\n",
    "y = np.array(return_market).reshape((-1,1))\n",
    "model = LinearRegression().fit(x, y)\n",
    "#Beta < 1 means lower volatility and Beta > 1 means hight volatitily\n",
    "print('Beta = ', model.coef_)\n"
   ]
  },
  {
   "cell_type": "code",
   "execution_count": 141,
   "metadata": {
    "tags": []
   },
   "outputs": [
    {
     "name": "stdout",
     "output_type": "stream",
     "text": [
      "Confidence Level      Value at Risk\n",
      "------------------  ---------------\n",
      "95%                      -0.0356187\n",
      "99%                      -0.0502356\n"
     ]
    }
   ],
   "source": [
    "mean = np.mean(return_portfolio)\n",
    "std_dev = np.std(return_portfolio)\n",
    "VaR_95 = norm.ppf(0.05, mean, std_dev)\n",
    "VaR_99 = norm.ppf(0.01, mean, std_dev)\n",
    "print (tabulate([['95%', VaR_95], ['99%', VaR_99]], headers = ['Confidence Level', 'Value at Risk']))"
   ]
  },
  {
   "cell_type": "markdown",
   "metadata": {
    "id": "30c54v5-nCDc"
   },
   "source": [
    "## Weight distribution for all periods"
   ]
  },
  {
   "cell_type": "code",
   "execution_count": 142,
   "metadata": {
    "id": "-mMVhxQIQypW"
   },
   "outputs": [],
   "source": [
    "df=pd.DataFrame(weights, columns=assets)"
   ]
  },
  {
   "cell_type": "code",
   "execution_count": 143,
   "metadata": {
    "colab": {
     "base_uri": "https://localhost:8080/",
     "height": 542
    },
    "id": "lWWrY6QcKljL",
    "outputId": "eabc8898-f02c-433b-a536-e734462d4f3f"
   },
   "outputs": [
    {
     "data": {
      "application/vnd.plotly.v1+json": {
       "config": {
        "plotlyServerURL": "https://plot.ly"
       },
       "data": [
        {
         "alignmentgroup": "True",
         "hovertemplate": "variable=AAL<br>index=%{x}<br>value=%{y}<extra></extra>",
         "legendgroup": "AAL",
         "marker": {
          "color": "#636efa",
          "pattern": {
           "shape": ""
          }
         },
         "name": "AAL",
         "offsetgroup": "AAL",
         "orientation": "v",
         "showlegend": true,
         "textposition": "auto",
         "type": "bar",
         "x": [
          0,
          1,
          2,
          3,
          4
         ],
         "xaxis": "x",
         "y": [
          0,
          0,
          1.0585356012031946e-10,
          0.15,
          0
         ],
         "yaxis": "y"
        },
        {
         "alignmentgroup": "True",
         "hovertemplate": "variable=AEP<br>index=%{x}<br>value=%{y}<extra></extra>",
         "legendgroup": "AEP",
         "marker": {
          "color": "#EF553B",
          "pattern": {
           "shape": ""
          }
         },
         "name": "AEP",
         "offsetgroup": "AEP",
         "orientation": "v",
         "showlegend": true,
         "textposition": "auto",
         "type": "bar",
         "x": [
          0,
          1,
          2,
          3,
          4
         ],
         "xaxis": "x",
         "y": [
          0,
          0,
          0,
          0,
          0
         ],
         "yaxis": "y"
        },
        {
         "alignmentgroup": "True",
         "hovertemplate": "variable=AMD<br>index=%{x}<br>value=%{y}<extra></extra>",
         "legendgroup": "AMD",
         "marker": {
          "color": "#00cc96",
          "pattern": {
           "shape": ""
          }
         },
         "name": "AMD",
         "offsetgroup": "AMD",
         "orientation": "v",
         "showlegend": true,
         "textposition": "auto",
         "type": "bar",
         "x": [
          0,
          1,
          2,
          3,
          4
         ],
         "xaxis": "x",
         "y": [
          0.09999999998881386,
          0.14999999996876984,
          0,
          0,
          0
         ],
         "yaxis": "y"
        },
        {
         "alignmentgroup": "True",
         "hovertemplate": "variable=AMGN<br>index=%{x}<br>value=%{y}<extra></extra>",
         "legendgroup": "AMGN",
         "marker": {
          "color": "#ab63fa",
          "pattern": {
           "shape": ""
          }
         },
         "name": "AMGN",
         "offsetgroup": "AMGN",
         "orientation": "v",
         "showlegend": true,
         "textposition": "auto",
         "type": "bar",
         "x": [
          0,
          1,
          2,
          3,
          4
         ],
         "xaxis": "x",
         "y": [
          0,
          0,
          0,
          0,
          0
         ],
         "yaxis": "y"
        },
        {
         "alignmentgroup": "True",
         "hovertemplate": "variable=AMT<br>index=%{x}<br>value=%{y}<extra></extra>",
         "legendgroup": "AMT",
         "marker": {
          "color": "#FFA15A",
          "pattern": {
           "shape": ""
          }
         },
         "name": "AMT",
         "offsetgroup": "AMT",
         "orientation": "v",
         "showlegend": true,
         "textposition": "auto",
         "type": "bar",
         "x": [
          0,
          1,
          2,
          3,
          4
         ],
         "xaxis": "x",
         "y": [
          0,
          0,
          0,
          0,
          0
         ],
         "yaxis": "y"
        },
        {
         "alignmentgroup": "True",
         "hovertemplate": "variable=AMZN<br>index=%{x}<br>value=%{y}<extra></extra>",
         "legendgroup": "AMZN",
         "marker": {
          "color": "#19d3f3",
          "pattern": {
           "shape": ""
          }
         },
         "name": "AMZN",
         "offsetgroup": "AMZN",
         "orientation": "v",
         "showlegend": true,
         "textposition": "auto",
         "type": "bar",
         "x": [
          0,
          1,
          2,
          3,
          4
         ],
         "xaxis": "x",
         "y": [
          0,
          0,
          0,
          0,
          0.15
         ],
         "yaxis": "y"
        },
        {
         "alignmentgroup": "True",
         "hovertemplate": "variable=AXP<br>index=%{x}<br>value=%{y}<extra></extra>",
         "legendgroup": "AXP",
         "marker": {
          "color": "#FF6692",
          "pattern": {
           "shape": ""
          }
         },
         "name": "AXP",
         "offsetgroup": "AXP",
         "orientation": "v",
         "showlegend": true,
         "textposition": "auto",
         "type": "bar",
         "x": [
          0,
          1,
          2,
          3,
          4
         ],
         "xaxis": "x",
         "y": [
          0,
          0,
          0,
          0,
          0
         ],
         "yaxis": "y"
        },
        {
         "alignmentgroup": "True",
         "hovertemplate": "variable=BAC<br>index=%{x}<br>value=%{y}<extra></extra>",
         "legendgroup": "BAC",
         "marker": {
          "color": "#B6E880",
          "pattern": {
           "shape": ""
          }
         },
         "name": "BAC",
         "offsetgroup": "BAC",
         "orientation": "v",
         "showlegend": true,
         "textposition": "auto",
         "type": "bar",
         "x": [
          0,
          1,
          2,
          3,
          4
         ],
         "xaxis": "x",
         "y": [
          0,
          0,
          0,
          0,
          0
         ],
         "yaxis": "y"
        },
        {
         "alignmentgroup": "True",
         "hovertemplate": "variable=BLDR<br>index=%{x}<br>value=%{y}<extra></extra>",
         "legendgroup": "BLDR",
         "marker": {
          "color": "#FF97FF",
          "pattern": {
           "shape": ""
          }
         },
         "name": "BLDR",
         "offsetgroup": "BLDR",
         "orientation": "v",
         "showlegend": true,
         "textposition": "auto",
         "type": "bar",
         "x": [
          0,
          1,
          2,
          3,
          4
         ],
         "xaxis": "x",
         "y": [
          0,
          0.09999999438146993,
          0.09999999991794428,
          0,
          0
         ],
         "yaxis": "y"
        },
        {
         "alignmentgroup": "True",
         "hovertemplate": "variable=BP<br>index=%{x}<br>value=%{y}<extra></extra>",
         "legendgroup": "BP",
         "marker": {
          "color": "#FECB52",
          "pattern": {
           "shape": ""
          }
         },
         "name": "BP",
         "offsetgroup": "BP",
         "orientation": "v",
         "showlegend": true,
         "textposition": "auto",
         "type": "bar",
         "x": [
          0,
          1,
          2,
          3,
          4
         ],
         "xaxis": "x",
         "y": [
          0,
          0,
          0,
          0,
          0
         ],
         "yaxis": "y"
        },
        {
         "alignmentgroup": "True",
         "hovertemplate": "variable=BTC-USD<br>index=%{x}<br>value=%{y}<extra></extra>",
         "legendgroup": "BTC-USD",
         "marker": {
          "color": "#636efa",
          "pattern": {
           "shape": ""
          }
         },
         "name": "BTC-USD",
         "offsetgroup": "BTC-USD",
         "orientation": "v",
         "showlegend": true,
         "textposition": "auto",
         "type": "bar",
         "x": [
          0,
          1,
          2,
          3,
          4
         ],
         "xaxis": "x",
         "y": [
          0,
          0.14999999996190666,
          0,
          0,
          0
         ],
         "yaxis": "y"
        },
        {
         "alignmentgroup": "True",
         "hovertemplate": "variable=BX<br>index=%{x}<br>value=%{y}<extra></extra>",
         "legendgroup": "BX",
         "marker": {
          "color": "#EF553B",
          "pattern": {
           "shape": ""
          }
         },
         "name": "BX",
         "offsetgroup": "BX",
         "orientation": "v",
         "showlegend": true,
         "textposition": "auto",
         "type": "bar",
         "x": [
          0,
          1,
          2,
          3,
          4
         ],
         "xaxis": "x",
         "y": [
          0.14999999997394958,
          0,
          0,
          0,
          0
         ],
         "yaxis": "y"
        },
        {
         "alignmentgroup": "True",
         "hovertemplate": "variable=COP<br>index=%{x}<br>value=%{y}<extra></extra>",
         "legendgroup": "COP",
         "marker": {
          "color": "#00cc96",
          "pattern": {
           "shape": ""
          }
         },
         "name": "COP",
         "offsetgroup": "COP",
         "orientation": "v",
         "showlegend": true,
         "textposition": "auto",
         "type": "bar",
         "x": [
          0,
          1,
          2,
          3,
          4
         ],
         "xaxis": "x",
         "y": [
          0,
          0.14999999994959975,
          0.14999999974821418,
          0.15,
          0
         ],
         "yaxis": "y"
        },
        {
         "alignmentgroup": "True",
         "hovertemplate": "variable=COST<br>index=%{x}<br>value=%{y}<extra></extra>",
         "legendgroup": "COST",
         "marker": {
          "color": "#ab63fa",
          "pattern": {
           "shape": ""
          }
         },
         "name": "COST",
         "offsetgroup": "COST",
         "orientation": "v",
         "showlegend": true,
         "textposition": "auto",
         "type": "bar",
         "x": [
          0,
          1,
          2,
          3,
          4
         ],
         "xaxis": "x",
         "y": [
          0.14999999998895297,
          0,
          0,
          0,
          0.09999999330956467
         ],
         "yaxis": "y"
        },
        {
         "alignmentgroup": "True",
         "hovertemplate": "variable=CRM<br>index=%{x}<br>value=%{y}<extra></extra>",
         "legendgroup": "CRM",
         "marker": {
          "color": "#FFA15A",
          "pattern": {
           "shape": ""
          }
         },
         "name": "CRM",
         "offsetgroup": "CRM",
         "orientation": "v",
         "showlegend": true,
         "textposition": "auto",
         "type": "bar",
         "x": [
          0,
          1,
          2,
          3,
          4
         ],
         "xaxis": "x",
         "y": [
          0,
          0,
          0,
          0,
          0
         ],
         "yaxis": "y"
        },
        {
         "alignmentgroup": "True",
         "hovertemplate": "variable=CVX<br>index=%{x}<br>value=%{y}<extra></extra>",
         "legendgroup": "CVX",
         "marker": {
          "color": "#19d3f3",
          "pattern": {
           "shape": ""
          }
         },
         "name": "CVX",
         "offsetgroup": "CVX",
         "orientation": "v",
         "showlegend": true,
         "textposition": "auto",
         "type": "bar",
         "x": [
          0,
          1,
          2,
          3,
          4
         ],
         "xaxis": "x",
         "y": [
          0,
          0,
          0.14999999970939043,
          0.15,
          0
         ],
         "yaxis": "y"
        },
        {
         "alignmentgroup": "True",
         "hovertemplate": "variable=DAL<br>index=%{x}<br>value=%{y}<extra></extra>",
         "legendgroup": "DAL",
         "marker": {
          "color": "#FF6692",
          "pattern": {
           "shape": ""
          }
         },
         "name": "DAL",
         "offsetgroup": "DAL",
         "orientation": "v",
         "showlegend": true,
         "textposition": "auto",
         "type": "bar",
         "x": [
          0,
          1,
          2,
          3,
          4
         ],
         "xaxis": "x",
         "y": [
          0,
          0,
          0,
          0,
          0
         ],
         "yaxis": "y"
        },
        {
         "alignmentgroup": "True",
         "hovertemplate": "variable=DUK<br>index=%{x}<br>value=%{y}<extra></extra>",
         "legendgroup": "DUK",
         "marker": {
          "color": "#B6E880",
          "pattern": {
           "shape": ""
          }
         },
         "name": "DUK",
         "offsetgroup": "DUK",
         "orientation": "v",
         "showlegend": true,
         "textposition": "auto",
         "type": "bar",
         "x": [
          0,
          1,
          2,
          3,
          4
         ],
         "xaxis": "x",
         "y": [
          0,
          0,
          0,
          0,
          0
         ],
         "yaxis": "y"
        },
        {
         "alignmentgroup": "True",
         "hovertemplate": "variable=EQIX<br>index=%{x}<br>value=%{y}<extra></extra>",
         "legendgroup": "EQIX",
         "marker": {
          "color": "#FF97FF",
          "pattern": {
           "shape": ""
          }
         },
         "name": "EQIX",
         "offsetgroup": "EQIX",
         "orientation": "v",
         "showlegend": true,
         "textposition": "auto",
         "type": "bar",
         "x": [
          0,
          1,
          2,
          3,
          4
         ],
         "xaxis": "x",
         "y": [
          0.1499999999875281,
          0,
          0,
          0,
          0
         ],
         "yaxis": "y"
        },
        {
         "alignmentgroup": "True",
         "hovertemplate": "variable=ETH-USD<br>index=%{x}<br>value=%{y}<extra></extra>",
         "legendgroup": "ETH-USD",
         "marker": {
          "color": "#FECB52",
          "pattern": {
           "shape": ""
          }
         },
         "name": "ETH-USD",
         "offsetgroup": "ETH-USD",
         "orientation": "v",
         "showlegend": true,
         "textposition": "auto",
         "type": "bar",
         "x": [
          0,
          1,
          2,
          3,
          4
         ],
         "xaxis": "x",
         "y": [
          0,
          0.1499999999638567,
          0,
          0,
          0.15
         ],
         "yaxis": "y"
        },
        {
         "alignmentgroup": "True",
         "hovertemplate": "variable=EXC<br>index=%{x}<br>value=%{y}<extra></extra>",
         "legendgroup": "EXC",
         "marker": {
          "color": "#636efa",
          "pattern": {
           "shape": ""
          }
         },
         "name": "EXC",
         "offsetgroup": "EXC",
         "orientation": "v",
         "showlegend": true,
         "textposition": "auto",
         "type": "bar",
         "x": [
          0,
          1,
          2,
          3,
          4
         ],
         "xaxis": "x",
         "y": [
          0,
          0,
          0.14999999988339155,
          0.15,
          0
         ],
         "yaxis": "y"
        },
        {
         "alignmentgroup": "True",
         "hovertemplate": "variable=FDX<br>index=%{x}<br>value=%{y}<extra></extra>",
         "legendgroup": "FDX",
         "marker": {
          "color": "#EF553B",
          "pattern": {
           "shape": ""
          }
         },
         "name": "FDX",
         "offsetgroup": "FDX",
         "orientation": "v",
         "showlegend": true,
         "textposition": "auto",
         "type": "bar",
         "x": [
          0,
          1,
          2,
          3,
          4
         ],
         "xaxis": "x",
         "y": [
          0,
          0,
          1.3899638962556453e-10,
          0,
          0
         ],
         "yaxis": "y"
        },
        {
         "alignmentgroup": "True",
         "hovertemplate": "variable=GOOGL<br>index=%{x}<br>value=%{y}<extra></extra>",
         "legendgroup": "GOOGL",
         "marker": {
          "color": "#00cc96",
          "pattern": {
           "shape": ""
          }
         },
         "name": "GOOGL",
         "offsetgroup": "GOOGL",
         "orientation": "v",
         "showlegend": true,
         "textposition": "auto",
         "type": "bar",
         "x": [
          0,
          1,
          2,
          3,
          4
         ],
         "xaxis": "x",
         "y": [
          0,
          0,
          0,
          0,
          0
         ],
         "yaxis": "y"
        },
        {
         "alignmentgroup": "True",
         "hovertemplate": "variable=GS<br>index=%{x}<br>value=%{y}<extra></extra>",
         "legendgroup": "GS",
         "marker": {
          "color": "#ab63fa",
          "pattern": {
           "shape": ""
          }
         },
         "name": "GS",
         "offsetgroup": "GS",
         "orientation": "v",
         "showlegend": true,
         "textposition": "auto",
         "type": "bar",
         "x": [
          0,
          1,
          2,
          3,
          4
         ],
         "xaxis": "x",
         "y": [
          0,
          0,
          0,
          0,
          0
         ],
         "yaxis": "y"
        },
        {
         "alignmentgroup": "True",
         "hovertemplate": "variable=HD<br>index=%{x}<br>value=%{y}<extra></extra>",
         "legendgroup": "HD",
         "marker": {
          "color": "#FFA15A",
          "pattern": {
           "shape": ""
          }
         },
         "name": "HD",
         "offsetgroup": "HD",
         "orientation": "v",
         "showlegend": true,
         "textposition": "auto",
         "type": "bar",
         "x": [
          0,
          1,
          2,
          3,
          4
         ],
         "xaxis": "x",
         "y": [
          0,
          0,
          0,
          0,
          0
         ],
         "yaxis": "y"
        },
        {
         "alignmentgroup": "True",
         "hovertemplate": "variable=JNJ<br>index=%{x}<br>value=%{y}<extra></extra>",
         "legendgroup": "JNJ",
         "marker": {
          "color": "#19d3f3",
          "pattern": {
           "shape": ""
          }
         },
         "name": "JNJ",
         "offsetgroup": "JNJ",
         "orientation": "v",
         "showlegend": true,
         "textposition": "auto",
         "type": "bar",
         "x": [
          0,
          1,
          2,
          3,
          4
         ],
         "xaxis": "x",
         "y": [
          0,
          0,
          0,
          0,
          0
         ],
         "yaxis": "y"
        },
        {
         "alignmentgroup": "True",
         "hovertemplate": "variable=JPM<br>index=%{x}<br>value=%{y}<extra></extra>",
         "legendgroup": "JPM",
         "marker": {
          "color": "#FF6692",
          "pattern": {
           "shape": ""
          }
         },
         "name": "JPM",
         "offsetgroup": "JPM",
         "orientation": "v",
         "showlegend": true,
         "textposition": "auto",
         "type": "bar",
         "x": [
          0,
          1,
          2,
          3,
          4
         ],
         "xaxis": "x",
         "y": [
          0,
          0,
          0,
          0,
          0
         ],
         "yaxis": "y"
        },
        {
         "alignmentgroup": "True",
         "hovertemplate": "variable=KO<br>index=%{x}<br>value=%{y}<extra></extra>",
         "legendgroup": "KO",
         "marker": {
          "color": "#B6E880",
          "pattern": {
           "shape": ""
          }
         },
         "name": "KO",
         "offsetgroup": "KO",
         "orientation": "v",
         "showlegend": true,
         "textposition": "auto",
         "type": "bar",
         "x": [
          0,
          1,
          2,
          3,
          4
         ],
         "xaxis": "x",
         "y": [
          0,
          0,
          0,
          0,
          0
         ],
         "yaxis": "y"
        },
        {
         "alignmentgroup": "True",
         "hovertemplate": "variable=LLY<br>index=%{x}<br>value=%{y}<extra></extra>",
         "legendgroup": "LLY",
         "marker": {
          "color": "#FF97FF",
          "pattern": {
           "shape": ""
          }
         },
         "name": "LLY",
         "offsetgroup": "LLY",
         "orientation": "v",
         "showlegend": true,
         "textposition": "auto",
         "type": "bar",
         "x": [
          0,
          1,
          2,
          3,
          4
         ],
         "xaxis": "x",
         "y": [
          0.14999999998332522,
          0,
          0,
          0.15,
          0
         ],
         "yaxis": "y"
        },
        {
         "alignmentgroup": "True",
         "hovertemplate": "variable=MA<br>index=%{x}<br>value=%{y}<extra></extra>",
         "legendgroup": "MA",
         "marker": {
          "color": "#FECB52",
          "pattern": {
           "shape": ""
          }
         },
         "name": "MA",
         "offsetgroup": "MA",
         "orientation": "v",
         "showlegend": true,
         "textposition": "auto",
         "type": "bar",
         "x": [
          0,
          1,
          2,
          3,
          4
         ],
         "xaxis": "x",
         "y": [
          0,
          0,
          0,
          0,
          0
         ],
         "yaxis": "y"
        },
        {
         "alignmentgroup": "True",
         "hovertemplate": "variable=MCD<br>index=%{x}<br>value=%{y}<extra></extra>",
         "legendgroup": "MCD",
         "marker": {
          "color": "#636efa",
          "pattern": {
           "shape": ""
          }
         },
         "name": "MCD",
         "offsetgroup": "MCD",
         "orientation": "v",
         "showlegend": true,
         "textposition": "auto",
         "type": "bar",
         "x": [
          0,
          1,
          2,
          3,
          4
         ],
         "xaxis": "x",
         "y": [
          0,
          0,
          0,
          0,
          0
         ],
         "yaxis": "y"
        },
        {
         "alignmentgroup": "True",
         "hovertemplate": "variable=META<br>index=%{x}<br>value=%{y}<extra></extra>",
         "legendgroup": "META",
         "marker": {
          "color": "#EF553B",
          "pattern": {
           "shape": ""
          }
         },
         "name": "META",
         "offsetgroup": "META",
         "orientation": "v",
         "showlegend": true,
         "textposition": "auto",
         "type": "bar",
         "x": [
          0,
          1,
          2,
          3,
          4
         ],
         "xaxis": "x",
         "y": [
          0,
          0,
          3.542730323182839e-10,
          0,
          0
         ],
         "yaxis": "y"
        },
        {
         "alignmentgroup": "True",
         "hovertemplate": "variable=MRK<br>index=%{x}<br>value=%{y}<extra></extra>",
         "legendgroup": "MRK",
         "marker": {
          "color": "#00cc96",
          "pattern": {
           "shape": ""
          }
         },
         "name": "MRK",
         "offsetgroup": "MRK",
         "orientation": "v",
         "showlegend": true,
         "textposition": "auto",
         "type": "bar",
         "x": [
          0,
          1,
          2,
          3,
          4
         ],
         "xaxis": "x",
         "y": [
          0,
          0,
          0,
          0.10000000001254361,
          0
         ],
         "yaxis": "y"
        },
        {
         "alignmentgroup": "True",
         "hovertemplate": "variable=MSFT<br>index=%{x}<br>value=%{y}<extra></extra>",
         "legendgroup": "MSFT",
         "marker": {
          "color": "#ab63fa",
          "pattern": {
           "shape": ""
          }
         },
         "name": "MSFT",
         "offsetgroup": "MSFT",
         "orientation": "v",
         "showlegend": true,
         "textposition": "auto",
         "type": "bar",
         "x": [
          0,
          1,
          2,
          3,
          4
         ],
         "xaxis": "x",
         "y": [
          0,
          0,
          0,
          0,
          0
         ],
         "yaxis": "y"
        },
        {
         "alignmentgroup": "True",
         "hovertemplate": "variable=NEE<br>index=%{x}<br>value=%{y}<extra></extra>",
         "legendgroup": "NEE",
         "marker": {
          "color": "#FFA15A",
          "pattern": {
           "shape": ""
          }
         },
         "name": "NEE",
         "offsetgroup": "NEE",
         "orientation": "v",
         "showlegend": true,
         "textposition": "auto",
         "type": "bar",
         "x": [
          0,
          1,
          2,
          3,
          4
         ],
         "xaxis": "x",
         "y": [
          0,
          0,
          0,
          0,
          0.15
         ],
         "yaxis": "y"
        },
        {
         "alignmentgroup": "True",
         "hovertemplate": "variable=NKE<br>index=%{x}<br>value=%{y}<extra></extra>",
         "legendgroup": "NKE",
         "marker": {
          "color": "#19d3f3",
          "pattern": {
           "shape": ""
          }
         },
         "name": "NKE",
         "offsetgroup": "NKE",
         "orientation": "v",
         "showlegend": true,
         "textposition": "auto",
         "type": "bar",
         "x": [
          0,
          1,
          2,
          3,
          4
         ],
         "xaxis": "x",
         "y": [
          0,
          0,
          1.4237496933323445e-10,
          0,
          0
         ],
         "yaxis": "y"
        },
        {
         "alignmentgroup": "True",
         "hovertemplate": "variable=NRG<br>index=%{x}<br>value=%{y}<extra></extra>",
         "legendgroup": "NRG",
         "marker": {
          "color": "#FF6692",
          "pattern": {
           "shape": ""
          }
         },
         "name": "NRG",
         "offsetgroup": "NRG",
         "orientation": "v",
         "showlegend": true,
         "textposition": "auto",
         "type": "bar",
         "x": [
          0,
          1,
          2,
          3,
          4
         ],
         "xaxis": "x",
         "y": [
          0.14999999998750269,
          0,
          0,
          0,
          0
         ],
         "yaxis": "y"
        },
        {
         "alignmentgroup": "True",
         "hovertemplate": "variable=NVDA<br>index=%{x}<br>value=%{y}<extra></extra>",
         "legendgroup": "NVDA",
         "marker": {
          "color": "#B6E880",
          "pattern": {
           "shape": ""
          }
         },
         "name": "NVDA",
         "offsetgroup": "NVDA",
         "orientation": "v",
         "showlegend": true,
         "textposition": "auto",
         "type": "bar",
         "x": [
          0,
          1,
          2,
          3,
          4
         ],
         "xaxis": "x",
         "y": [
          0.14999999996725272,
          0.14999999996381008,
          0,
          0,
          0
         ],
         "yaxis": "y"
        },
        {
         "alignmentgroup": "True",
         "hovertemplate": "variable=PFE<br>index=%{x}<br>value=%{y}<extra></extra>",
         "legendgroup": "PFE",
         "marker": {
          "color": "#FF97FF",
          "pattern": {
           "shape": ""
          }
         },
         "name": "PFE",
         "offsetgroup": "PFE",
         "orientation": "v",
         "showlegend": true,
         "textposition": "auto",
         "type": "bar",
         "x": [
          0,
          1,
          2,
          3,
          4
         ],
         "xaxis": "x",
         "y": [
          0,
          0,
          0,
          0,
          0
         ],
         "yaxis": "y"
        },
        {
         "alignmentgroup": "True",
         "hovertemplate": "variable=PG<br>index=%{x}<br>value=%{y}<extra></extra>",
         "legendgroup": "PG",
         "marker": {
          "color": "#FECB52",
          "pattern": {
           "shape": ""
          }
         },
         "name": "PG",
         "offsetgroup": "PG",
         "orientation": "v",
         "showlegend": true,
         "textposition": "auto",
         "type": "bar",
         "x": [
          0,
          1,
          2,
          3,
          4
         ],
         "xaxis": "x",
         "y": [
          0,
          0,
          0,
          0,
          0
         ],
         "yaxis": "y"
        },
        {
         "alignmentgroup": "True",
         "hovertemplate": "variable=PSA<br>index=%{x}<br>value=%{y}<extra></extra>",
         "legendgroup": "PSA",
         "marker": {
          "color": "#636efa",
          "pattern": {
           "shape": ""
          }
         },
         "name": "PSA",
         "offsetgroup": "PSA",
         "orientation": "v",
         "showlegend": true,
         "textposition": "auto",
         "type": "bar",
         "x": [
          0,
          1,
          2,
          3,
          4
         ],
         "xaxis": "x",
         "y": [
          0,
          0,
          0,
          0,
          0.15
         ],
         "yaxis": "y"
        },
        {
         "alignmentgroup": "True",
         "hovertemplate": "variable=SHEL<br>index=%{x}<br>value=%{y}<extra></extra>",
         "legendgroup": "SHEL",
         "marker": {
          "color": "#EF553B",
          "pattern": {
           "shape": ""
          }
         },
         "name": "SHEL",
         "offsetgroup": "SHEL",
         "orientation": "v",
         "showlegend": true,
         "textposition": "auto",
         "type": "bar",
         "x": [
          0,
          1,
          2,
          3,
          4
         ],
         "xaxis": "x",
         "y": [
          0,
          0,
          0.1499999998801442,
          0,
          0
         ],
         "yaxis": "y"
        },
        {
         "alignmentgroup": "True",
         "hovertemplate": "variable=SO<br>index=%{x}<br>value=%{y}<extra></extra>",
         "legendgroup": "SO",
         "marker": {
          "color": "#00cc96",
          "pattern": {
           "shape": ""
          }
         },
         "name": "SO",
         "offsetgroup": "SO",
         "orientation": "v",
         "showlegend": true,
         "textposition": "auto",
         "type": "bar",
         "x": [
          0,
          1,
          2,
          3,
          4
         ],
         "xaxis": "x",
         "y": [
          0,
          0,
          0,
          0,
          0.15
         ],
         "yaxis": "y"
        },
        {
         "alignmentgroup": "True",
         "hovertemplate": "variable=SPG<br>index=%{x}<br>value=%{y}<extra></extra>",
         "legendgroup": "SPG",
         "marker": {
          "color": "#ab63fa",
          "pattern": {
           "shape": ""
          }
         },
         "name": "SPG",
         "offsetgroup": "SPG",
         "orientation": "v",
         "showlegend": true,
         "textposition": "auto",
         "type": "bar",
         "x": [
          0,
          1,
          2,
          3,
          4
         ],
         "xaxis": "x",
         "y": [
          0,
          0,
          0,
          0,
          0
         ],
         "yaxis": "y"
        },
        {
         "alignmentgroup": "True",
         "hovertemplate": "variable=T<br>index=%{x}<br>value=%{y}<extra></extra>",
         "legendgroup": "T",
         "marker": {
          "color": "#FFA15A",
          "pattern": {
           "shape": ""
          }
         },
         "name": "T",
         "offsetgroup": "T",
         "orientation": "v",
         "showlegend": true,
         "textposition": "auto",
         "type": "bar",
         "x": [
          0,
          1,
          2,
          3,
          4
         ],
         "xaxis": "x",
         "y": [
          0,
          0,
          0,
          0,
          0
         ],
         "yaxis": "y"
        },
        {
         "alignmentgroup": "True",
         "hovertemplate": "variable=TGT<br>index=%{x}<br>value=%{y}<extra></extra>",
         "legendgroup": "TGT",
         "marker": {
          "color": "#19d3f3",
          "pattern": {
           "shape": ""
          }
         },
         "name": "TGT",
         "offsetgroup": "TGT",
         "orientation": "v",
         "showlegend": true,
         "textposition": "auto",
         "type": "bar",
         "x": [
          0,
          1,
          2,
          3,
          4
         ],
         "xaxis": "x",
         "y": [
          0,
          0,
          0,
          0,
          0
         ],
         "yaxis": "y"
        },
        {
         "alignmentgroup": "True",
         "hovertemplate": "variable=TMUS<br>index=%{x}<br>value=%{y}<extra></extra>",
         "legendgroup": "TMUS",
         "marker": {
          "color": "#FF6692",
          "pattern": {
           "shape": ""
          }
         },
         "name": "TMUS",
         "offsetgroup": "TMUS",
         "orientation": "v",
         "showlegend": true,
         "textposition": "auto",
         "type": "bar",
         "x": [
          0,
          1,
          2,
          3,
          4
         ],
         "xaxis": "x",
         "y": [
          0,
          0,
          0.14999999987833587,
          0,
          0
         ],
         "yaxis": "y"
        },
        {
         "alignmentgroup": "True",
         "hovertemplate": "variable=TSLA<br>index=%{x}<br>value=%{y}<extra></extra>",
         "legendgroup": "TSLA",
         "marker": {
          "color": "#B6E880",
          "pattern": {
           "shape": ""
          }
         },
         "name": "TSLA",
         "offsetgroup": "TSLA",
         "orientation": "v",
         "showlegend": true,
         "textposition": "auto",
         "type": "bar",
         "x": [
          0,
          1,
          2,
          3,
          4
         ],
         "xaxis": "x",
         "y": [
          0,
          0.14999999993811025,
          0,
          0,
          0.15
         ],
         "yaxis": "y"
        },
        {
         "alignmentgroup": "True",
         "hovertemplate": "variable=UNH<br>index=%{x}<br>value=%{y}<extra></extra>",
         "legendgroup": "UNH",
         "marker": {
          "color": "#FF97FF",
          "pattern": {
           "shape": ""
          }
         },
         "name": "UNH",
         "offsetgroup": "UNH",
         "orientation": "v",
         "showlegend": true,
         "textposition": "auto",
         "type": "bar",
         "x": [
          0,
          1,
          2,
          3,
          4
         ],
         "xaxis": "x",
         "y": [
          0,
          0,
          0,
          0,
          0
         ],
         "yaxis": "y"
        },
        {
         "alignmentgroup": "True",
         "hovertemplate": "variable=UPS<br>index=%{x}<br>value=%{y}<extra></extra>",
         "legendgroup": "UPS",
         "marker": {
          "color": "#FECB52",
          "pattern": {
           "shape": ""
          }
         },
         "name": "UPS",
         "offsetgroup": "UPS",
         "orientation": "v",
         "showlegend": true,
         "textposition": "auto",
         "type": "bar",
         "x": [
          0,
          1,
          2,
          3,
          4
         ],
         "xaxis": "x",
         "y": [
          0,
          0,
          0,
          0,
          0
         ],
         "yaxis": "y"
        },
        {
         "alignmentgroup": "True",
         "hovertemplate": "variable=V<br>index=%{x}<br>value=%{y}<extra></extra>",
         "legendgroup": "V",
         "marker": {
          "color": "#636efa",
          "pattern": {
           "shape": ""
          }
         },
         "name": "V",
         "offsetgroup": "V",
         "orientation": "v",
         "showlegend": true,
         "textposition": "auto",
         "type": "bar",
         "x": [
          0,
          1,
          2,
          3,
          4
         ],
         "xaxis": "x",
         "y": [
          0,
          0,
          0,
          0,
          0
         ],
         "yaxis": "y"
        },
        {
         "alignmentgroup": "True",
         "hovertemplate": "variable=VZ<br>index=%{x}<br>value=%{y}<extra></extra>",
         "legendgroup": "VZ",
         "marker": {
          "color": "#EF553B",
          "pattern": {
           "shape": ""
          }
         },
         "name": "VZ",
         "offsetgroup": "VZ",
         "orientation": "v",
         "showlegend": true,
         "textposition": "auto",
         "type": "bar",
         "x": [
          0,
          1,
          2,
          3,
          4
         ],
         "xaxis": "x",
         "y": [
          0,
          0,
          0,
          0,
          0
         ],
         "yaxis": "y"
        },
        {
         "alignmentgroup": "True",
         "hovertemplate": "variable=WELL<br>index=%{x}<br>value=%{y}<extra></extra>",
         "legendgroup": "WELL",
         "marker": {
          "color": "#00cc96",
          "pattern": {
           "shape": ""
          }
         },
         "name": "WELL",
         "offsetgroup": "WELL",
         "orientation": "v",
         "showlegend": true,
         "textposition": "auto",
         "type": "bar",
         "x": [
          0,
          1,
          2,
          3,
          4
         ],
         "xaxis": "x",
         "y": [
          0,
          0,
          0,
          0,
          0
         ],
         "yaxis": "y"
        },
        {
         "alignmentgroup": "True",
         "hovertemplate": "variable=WMT<br>index=%{x}<br>value=%{y}<extra></extra>",
         "legendgroup": "WMT",
         "marker": {
          "color": "#ab63fa",
          "pattern": {
           "shape": ""
          }
         },
         "name": "WMT",
         "offsetgroup": "WMT",
         "orientation": "v",
         "showlegend": true,
         "textposition": "auto",
         "type": "bar",
         "x": [
          0,
          1,
          2,
          3,
          4
         ],
         "xaxis": "x",
         "y": [
          0,
          0,
          0,
          0,
          0
         ],
         "yaxis": "y"
        },
        {
         "alignmentgroup": "True",
         "hovertemplate": "variable=XOM<br>index=%{x}<br>value=%{y}<extra></extra>",
         "legendgroup": "XOM",
         "marker": {
          "color": "#FFA15A",
          "pattern": {
           "shape": ""
          }
         },
         "name": "XOM",
         "offsetgroup": "XOM",
         "orientation": "v",
         "showlegend": true,
         "textposition": "auto",
         "type": "bar",
         "x": [
          0,
          1,
          2,
          3,
          4
         ],
         "xaxis": "x",
         "y": [
          0,
          0,
          0.14999999977745304,
          0.15,
          0
         ],
         "yaxis": "y"
        }
       ],
       "layout": {
        "autosize": true,
        "barmode": "stack",
        "legend": {
         "title": {
          "text": "Assets"
         },
         "tracegroupgap": 0
        },
        "margin": {
         "t": 60
        },
        "template": {
         "data": {
          "bar": [
           {
            "error_x": {
             "color": "#2a3f5f"
            },
            "error_y": {
             "color": "#2a3f5f"
            },
            "marker": {
             "line": {
              "color": "#E5ECF6",
              "width": 0.5
             },
             "pattern": {
              "fillmode": "overlay",
              "size": 10,
              "solidity": 0.2
             }
            },
            "type": "bar"
           }
          ],
          "barpolar": [
           {
            "marker": {
             "line": {
              "color": "#E5ECF6",
              "width": 0.5
             },
             "pattern": {
              "fillmode": "overlay",
              "size": 10,
              "solidity": 0.2
             }
            },
            "type": "barpolar"
           }
          ],
          "carpet": [
           {
            "aaxis": {
             "endlinecolor": "#2a3f5f",
             "gridcolor": "white",
             "linecolor": "white",
             "minorgridcolor": "white",
             "startlinecolor": "#2a3f5f"
            },
            "baxis": {
             "endlinecolor": "#2a3f5f",
             "gridcolor": "white",
             "linecolor": "white",
             "minorgridcolor": "white",
             "startlinecolor": "#2a3f5f"
            },
            "type": "carpet"
           }
          ],
          "choropleth": [
           {
            "colorbar": {
             "outlinewidth": 0,
             "ticks": ""
            },
            "type": "choropleth"
           }
          ],
          "contour": [
           {
            "colorbar": {
             "outlinewidth": 0,
             "ticks": ""
            },
            "colorscale": [
             [
              0,
              "#0d0887"
             ],
             [
              0.1111111111111111,
              "#46039f"
             ],
             [
              0.2222222222222222,
              "#7201a8"
             ],
             [
              0.3333333333333333,
              "#9c179e"
             ],
             [
              0.4444444444444444,
              "#bd3786"
             ],
             [
              0.5555555555555556,
              "#d8576b"
             ],
             [
              0.6666666666666666,
              "#ed7953"
             ],
             [
              0.7777777777777778,
              "#fb9f3a"
             ],
             [
              0.8888888888888888,
              "#fdca26"
             ],
             [
              1,
              "#f0f921"
             ]
            ],
            "type": "contour"
           }
          ],
          "contourcarpet": [
           {
            "colorbar": {
             "outlinewidth": 0,
             "ticks": ""
            },
            "type": "contourcarpet"
           }
          ],
          "heatmap": [
           {
            "colorbar": {
             "outlinewidth": 0,
             "ticks": ""
            },
            "colorscale": [
             [
              0,
              "#0d0887"
             ],
             [
              0.1111111111111111,
              "#46039f"
             ],
             [
              0.2222222222222222,
              "#7201a8"
             ],
             [
              0.3333333333333333,
              "#9c179e"
             ],
             [
              0.4444444444444444,
              "#bd3786"
             ],
             [
              0.5555555555555556,
              "#d8576b"
             ],
             [
              0.6666666666666666,
              "#ed7953"
             ],
             [
              0.7777777777777778,
              "#fb9f3a"
             ],
             [
              0.8888888888888888,
              "#fdca26"
             ],
             [
              1,
              "#f0f921"
             ]
            ],
            "type": "heatmap"
           }
          ],
          "heatmapgl": [
           {
            "colorbar": {
             "outlinewidth": 0,
             "ticks": ""
            },
            "colorscale": [
             [
              0,
              "#0d0887"
             ],
             [
              0.1111111111111111,
              "#46039f"
             ],
             [
              0.2222222222222222,
              "#7201a8"
             ],
             [
              0.3333333333333333,
              "#9c179e"
             ],
             [
              0.4444444444444444,
              "#bd3786"
             ],
             [
              0.5555555555555556,
              "#d8576b"
             ],
             [
              0.6666666666666666,
              "#ed7953"
             ],
             [
              0.7777777777777778,
              "#fb9f3a"
             ],
             [
              0.8888888888888888,
              "#fdca26"
             ],
             [
              1,
              "#f0f921"
             ]
            ],
            "type": "heatmapgl"
           }
          ],
          "histogram": [
           {
            "marker": {
             "pattern": {
              "fillmode": "overlay",
              "size": 10,
              "solidity": 0.2
             }
            },
            "type": "histogram"
           }
          ],
          "histogram2d": [
           {
            "colorbar": {
             "outlinewidth": 0,
             "ticks": ""
            },
            "colorscale": [
             [
              0,
              "#0d0887"
             ],
             [
              0.1111111111111111,
              "#46039f"
             ],
             [
              0.2222222222222222,
              "#7201a8"
             ],
             [
              0.3333333333333333,
              "#9c179e"
             ],
             [
              0.4444444444444444,
              "#bd3786"
             ],
             [
              0.5555555555555556,
              "#d8576b"
             ],
             [
              0.6666666666666666,
              "#ed7953"
             ],
             [
              0.7777777777777778,
              "#fb9f3a"
             ],
             [
              0.8888888888888888,
              "#fdca26"
             ],
             [
              1,
              "#f0f921"
             ]
            ],
            "type": "histogram2d"
           }
          ],
          "histogram2dcontour": [
           {
            "colorbar": {
             "outlinewidth": 0,
             "ticks": ""
            },
            "colorscale": [
             [
              0,
              "#0d0887"
             ],
             [
              0.1111111111111111,
              "#46039f"
             ],
             [
              0.2222222222222222,
              "#7201a8"
             ],
             [
              0.3333333333333333,
              "#9c179e"
             ],
             [
              0.4444444444444444,
              "#bd3786"
             ],
             [
              0.5555555555555556,
              "#d8576b"
             ],
             [
              0.6666666666666666,
              "#ed7953"
             ],
             [
              0.7777777777777778,
              "#fb9f3a"
             ],
             [
              0.8888888888888888,
              "#fdca26"
             ],
             [
              1,
              "#f0f921"
             ]
            ],
            "type": "histogram2dcontour"
           }
          ],
          "mesh3d": [
           {
            "colorbar": {
             "outlinewidth": 0,
             "ticks": ""
            },
            "type": "mesh3d"
           }
          ],
          "parcoords": [
           {
            "line": {
             "colorbar": {
              "outlinewidth": 0,
              "ticks": ""
             }
            },
            "type": "parcoords"
           }
          ],
          "pie": [
           {
            "automargin": true,
            "type": "pie"
           }
          ],
          "scatter": [
           {
            "fillpattern": {
             "fillmode": "overlay",
             "size": 10,
             "solidity": 0.2
            },
            "type": "scatter"
           }
          ],
          "scatter3d": [
           {
            "line": {
             "colorbar": {
              "outlinewidth": 0,
              "ticks": ""
             }
            },
            "marker": {
             "colorbar": {
              "outlinewidth": 0,
              "ticks": ""
             }
            },
            "type": "scatter3d"
           }
          ],
          "scattercarpet": [
           {
            "marker": {
             "colorbar": {
              "outlinewidth": 0,
              "ticks": ""
             }
            },
            "type": "scattercarpet"
           }
          ],
          "scattergeo": [
           {
            "marker": {
             "colorbar": {
              "outlinewidth": 0,
              "ticks": ""
             }
            },
            "type": "scattergeo"
           }
          ],
          "scattergl": [
           {
            "marker": {
             "colorbar": {
              "outlinewidth": 0,
              "ticks": ""
             }
            },
            "type": "scattergl"
           }
          ],
          "scattermapbox": [
           {
            "marker": {
             "colorbar": {
              "outlinewidth": 0,
              "ticks": ""
             }
            },
            "type": "scattermapbox"
           }
          ],
          "scatterpolar": [
           {
            "marker": {
             "colorbar": {
              "outlinewidth": 0,
              "ticks": ""
             }
            },
            "type": "scatterpolar"
           }
          ],
          "scatterpolargl": [
           {
            "marker": {
             "colorbar": {
              "outlinewidth": 0,
              "ticks": ""
             }
            },
            "type": "scatterpolargl"
           }
          ],
          "scatterternary": [
           {
            "marker": {
             "colorbar": {
              "outlinewidth": 0,
              "ticks": ""
             }
            },
            "type": "scatterternary"
           }
          ],
          "surface": [
           {
            "colorbar": {
             "outlinewidth": 0,
             "ticks": ""
            },
            "colorscale": [
             [
              0,
              "#0d0887"
             ],
             [
              0.1111111111111111,
              "#46039f"
             ],
             [
              0.2222222222222222,
              "#7201a8"
             ],
             [
              0.3333333333333333,
              "#9c179e"
             ],
             [
              0.4444444444444444,
              "#bd3786"
             ],
             [
              0.5555555555555556,
              "#d8576b"
             ],
             [
              0.6666666666666666,
              "#ed7953"
             ],
             [
              0.7777777777777778,
              "#fb9f3a"
             ],
             [
              0.8888888888888888,
              "#fdca26"
             ],
             [
              1,
              "#f0f921"
             ]
            ],
            "type": "surface"
           }
          ],
          "table": [
           {
            "cells": {
             "fill": {
              "color": "#EBF0F8"
             },
             "line": {
              "color": "white"
             }
            },
            "header": {
             "fill": {
              "color": "#C8D4E3"
             },
             "line": {
              "color": "white"
             }
            },
            "type": "table"
           }
          ]
         },
         "layout": {
          "annotationdefaults": {
           "arrowcolor": "#2a3f5f",
           "arrowhead": 0,
           "arrowwidth": 1
          },
          "autotypenumbers": "strict",
          "coloraxis": {
           "colorbar": {
            "outlinewidth": 0,
            "ticks": ""
           }
          },
          "colorscale": {
           "diverging": [
            [
             0,
             "#8e0152"
            ],
            [
             0.1,
             "#c51b7d"
            ],
            [
             0.2,
             "#de77ae"
            ],
            [
             0.3,
             "#f1b6da"
            ],
            [
             0.4,
             "#fde0ef"
            ],
            [
             0.5,
             "#f7f7f7"
            ],
            [
             0.6,
             "#e6f5d0"
            ],
            [
             0.7,
             "#b8e186"
            ],
            [
             0.8,
             "#7fbc41"
            ],
            [
             0.9,
             "#4d9221"
            ],
            [
             1,
             "#276419"
            ]
           ],
           "sequential": [
            [
             0,
             "#0d0887"
            ],
            [
             0.1111111111111111,
             "#46039f"
            ],
            [
             0.2222222222222222,
             "#7201a8"
            ],
            [
             0.3333333333333333,
             "#9c179e"
            ],
            [
             0.4444444444444444,
             "#bd3786"
            ],
            [
             0.5555555555555556,
             "#d8576b"
            ],
            [
             0.6666666666666666,
             "#ed7953"
            ],
            [
             0.7777777777777778,
             "#fb9f3a"
            ],
            [
             0.8888888888888888,
             "#fdca26"
            ],
            [
             1,
             "#f0f921"
            ]
           ],
           "sequentialminus": [
            [
             0,
             "#0d0887"
            ],
            [
             0.1111111111111111,
             "#46039f"
            ],
            [
             0.2222222222222222,
             "#7201a8"
            ],
            [
             0.3333333333333333,
             "#9c179e"
            ],
            [
             0.4444444444444444,
             "#bd3786"
            ],
            [
             0.5555555555555556,
             "#d8576b"
            ],
            [
             0.6666666666666666,
             "#ed7953"
            ],
            [
             0.7777777777777778,
             "#fb9f3a"
            ],
            [
             0.8888888888888888,
             "#fdca26"
            ],
            [
             1,
             "#f0f921"
            ]
           ]
          },
          "colorway": [
           "#636efa",
           "#EF553B",
           "#00cc96",
           "#ab63fa",
           "#FFA15A",
           "#19d3f3",
           "#FF6692",
           "#B6E880",
           "#FF97FF",
           "#FECB52"
          ],
          "font": {
           "color": "#2a3f5f"
          },
          "geo": {
           "bgcolor": "white",
           "lakecolor": "white",
           "landcolor": "#E5ECF6",
           "showlakes": true,
           "showland": true,
           "subunitcolor": "white"
          },
          "hoverlabel": {
           "align": "left"
          },
          "hovermode": "closest",
          "mapbox": {
           "style": "light"
          },
          "paper_bgcolor": "white",
          "plot_bgcolor": "#E5ECF6",
          "polar": {
           "angularaxis": {
            "gridcolor": "white",
            "linecolor": "white",
            "ticks": ""
           },
           "bgcolor": "#E5ECF6",
           "radialaxis": {
            "gridcolor": "white",
            "linecolor": "white",
            "ticks": ""
           }
          },
          "scene": {
           "xaxis": {
            "backgroundcolor": "#E5ECF6",
            "gridcolor": "white",
            "gridwidth": 2,
            "linecolor": "white",
            "showbackground": true,
            "ticks": "",
            "zerolinecolor": "white"
           },
           "yaxis": {
            "backgroundcolor": "#E5ECF6",
            "gridcolor": "white",
            "gridwidth": 2,
            "linecolor": "white",
            "showbackground": true,
            "ticks": "",
            "zerolinecolor": "white"
           },
           "zaxis": {
            "backgroundcolor": "#E5ECF6",
            "gridcolor": "white",
            "gridwidth": 2,
            "linecolor": "white",
            "showbackground": true,
            "ticks": "",
            "zerolinecolor": "white"
           }
          },
          "shapedefaults": {
           "line": {
            "color": "#2a3f5f"
           }
          },
          "ternary": {
           "aaxis": {
            "gridcolor": "white",
            "linecolor": "white",
            "ticks": ""
           },
           "baxis": {
            "gridcolor": "white",
            "linecolor": "white",
            "ticks": ""
           },
           "bgcolor": "#E5ECF6",
           "caxis": {
            "gridcolor": "white",
            "linecolor": "white",
            "ticks": ""
           }
          },
          "title": {
           "x": 0.05
          },
          "xaxis": {
           "automargin": true,
           "gridcolor": "white",
           "linecolor": "white",
           "ticks": "",
           "title": {
            "standoff": 15
           },
           "zerolinecolor": "white",
           "zerolinewidth": 2
          },
          "yaxis": {
           "automargin": true,
           "gridcolor": "white",
           "linecolor": "white",
           "ticks": "",
           "title": {
            "standoff": 15
           },
           "zerolinecolor": "white",
           "zerolinewidth": 2
          }
         }
        },
        "title": {
         "text": "Stacked Bar Chart"
        },
        "updatemenus": [
         {
          "buttons": [
           {
            "args": [
             {
              "visible": [
               true,
               false,
               false,
               false,
               false,
               false,
               false,
               false,
               false,
               false,
               false,
               false,
               false,
               false,
               false,
               false,
               false,
               false,
               false,
               false,
               false,
               false,
               false,
               false,
               false,
               false,
               false,
               false,
               false,
               false,
               false,
               false,
               false,
               false,
               false,
               false,
               false,
               false,
               false,
               false,
               false,
               false,
               false,
               false,
               false,
               false,
               false,
               false,
               false,
               false,
               false,
               false,
               false,
               false,
               false
              ]
             }
            ],
            "label": "AAL",
            "method": "update"
           },
           {
            "args": [
             {
              "visible": [
               false,
               true,
               false,
               false,
               false,
               false,
               false,
               false,
               false,
               false,
               false,
               false,
               false,
               false,
               false,
               false,
               false,
               false,
               false,
               false,
               false,
               false,
               false,
               false,
               false,
               false,
               false,
               false,
               false,
               false,
               false,
               false,
               false,
               false,
               false,
               false,
               false,
               false,
               false,
               false,
               false,
               false,
               false,
               false,
               false,
               false,
               false,
               false,
               false,
               false,
               false,
               false,
               false,
               false,
               false
              ]
             }
            ],
            "label": "AEP",
            "method": "update"
           },
           {
            "args": [
             {
              "visible": [
               false,
               false,
               true,
               false,
               false,
               false,
               false,
               false,
               false,
               false,
               false,
               false,
               false,
               false,
               false,
               false,
               false,
               false,
               false,
               false,
               false,
               false,
               false,
               false,
               false,
               false,
               false,
               false,
               false,
               false,
               false,
               false,
               false,
               false,
               false,
               false,
               false,
               false,
               false,
               false,
               false,
               false,
               false,
               false,
               false,
               false,
               false,
               false,
               false,
               false,
               false,
               false,
               false,
               false,
               false
              ]
             }
            ],
            "label": "AMD",
            "method": "update"
           },
           {
            "args": [
             {
              "visible": [
               false,
               false,
               false,
               true,
               false,
               false,
               false,
               false,
               false,
               false,
               false,
               false,
               false,
               false,
               false,
               false,
               false,
               false,
               false,
               false,
               false,
               false,
               false,
               false,
               false,
               false,
               false,
               false,
               false,
               false,
               false,
               false,
               false,
               false,
               false,
               false,
               false,
               false,
               false,
               false,
               false,
               false,
               false,
               false,
               false,
               false,
               false,
               false,
               false,
               false,
               false,
               false,
               false,
               false,
               false
              ]
             }
            ],
            "label": "AMGN",
            "method": "update"
           },
           {
            "args": [
             {
              "visible": [
               false,
               false,
               false,
               false,
               true,
               false,
               false,
               false,
               false,
               false,
               false,
               false,
               false,
               false,
               false,
               false,
               false,
               false,
               false,
               false,
               false,
               false,
               false,
               false,
               false,
               false,
               false,
               false,
               false,
               false,
               false,
               false,
               false,
               false,
               false,
               false,
               false,
               false,
               false,
               false,
               false,
               false,
               false,
               false,
               false,
               false,
               false,
               false,
               false,
               false,
               false,
               false,
               false,
               false,
               false
              ]
             }
            ],
            "label": "AMT",
            "method": "update"
           },
           {
            "args": [
             {
              "visible": [
               false,
               false,
               false,
               false,
               false,
               true,
               false,
               false,
               false,
               false,
               false,
               false,
               false,
               false,
               false,
               false,
               false,
               false,
               false,
               false,
               false,
               false,
               false,
               false,
               false,
               false,
               false,
               false,
               false,
               false,
               false,
               false,
               false,
               false,
               false,
               false,
               false,
               false,
               false,
               false,
               false,
               false,
               false,
               false,
               false,
               false,
               false,
               false,
               false,
               false,
               false,
               false,
               false,
               false,
               false
              ]
             }
            ],
            "label": "AMZN",
            "method": "update"
           },
           {
            "args": [
             {
              "visible": [
               false,
               false,
               false,
               false,
               false,
               false,
               true,
               false,
               false,
               false,
               false,
               false,
               false,
               false,
               false,
               false,
               false,
               false,
               false,
               false,
               false,
               false,
               false,
               false,
               false,
               false,
               false,
               false,
               false,
               false,
               false,
               false,
               false,
               false,
               false,
               false,
               false,
               false,
               false,
               false,
               false,
               false,
               false,
               false,
               false,
               false,
               false,
               false,
               false,
               false,
               false,
               false,
               false,
               false,
               false
              ]
             }
            ],
            "label": "AXP",
            "method": "update"
           },
           {
            "args": [
             {
              "visible": [
               false,
               false,
               false,
               false,
               false,
               false,
               false,
               true,
               false,
               false,
               false,
               false,
               false,
               false,
               false,
               false,
               false,
               false,
               false,
               false,
               false,
               false,
               false,
               false,
               false,
               false,
               false,
               false,
               false,
               false,
               false,
               false,
               false,
               false,
               false,
               false,
               false,
               false,
               false,
               false,
               false,
               false,
               false,
               false,
               false,
               false,
               false,
               false,
               false,
               false,
               false,
               false,
               false,
               false,
               false
              ]
             }
            ],
            "label": "BAC",
            "method": "update"
           },
           {
            "args": [
             {
              "visible": [
               false,
               false,
               false,
               false,
               false,
               false,
               false,
               false,
               true,
               false,
               false,
               false,
               false,
               false,
               false,
               false,
               false,
               false,
               false,
               false,
               false,
               false,
               false,
               false,
               false,
               false,
               false,
               false,
               false,
               false,
               false,
               false,
               false,
               false,
               false,
               false,
               false,
               false,
               false,
               false,
               false,
               false,
               false,
               false,
               false,
               false,
               false,
               false,
               false,
               false,
               false,
               false,
               false,
               false,
               false
              ]
             }
            ],
            "label": "BLDR",
            "method": "update"
           },
           {
            "args": [
             {
              "visible": [
               false,
               false,
               false,
               false,
               false,
               false,
               false,
               false,
               false,
               true,
               false,
               false,
               false,
               false,
               false,
               false,
               false,
               false,
               false,
               false,
               false,
               false,
               false,
               false,
               false,
               false,
               false,
               false,
               false,
               false,
               false,
               false,
               false,
               false,
               false,
               false,
               false,
               false,
               false,
               false,
               false,
               false,
               false,
               false,
               false,
               false,
               false,
               false,
               false,
               false,
               false,
               false,
               false,
               false,
               false
              ]
             }
            ],
            "label": "BP",
            "method": "update"
           },
           {
            "args": [
             {
              "visible": [
               false,
               false,
               false,
               false,
               false,
               false,
               false,
               false,
               false,
               false,
               true,
               false,
               false,
               false,
               false,
               false,
               false,
               false,
               false,
               false,
               false,
               false,
               false,
               false,
               false,
               false,
               false,
               false,
               false,
               false,
               false,
               false,
               false,
               false,
               false,
               false,
               false,
               false,
               false,
               false,
               false,
               false,
               false,
               false,
               false,
               false,
               false,
               false,
               false,
               false,
               false,
               false,
               false,
               false,
               false
              ]
             }
            ],
            "label": "BTC-USD",
            "method": "update"
           },
           {
            "args": [
             {
              "visible": [
               false,
               false,
               false,
               false,
               false,
               false,
               false,
               false,
               false,
               false,
               false,
               true,
               false,
               false,
               false,
               false,
               false,
               false,
               false,
               false,
               false,
               false,
               false,
               false,
               false,
               false,
               false,
               false,
               false,
               false,
               false,
               false,
               false,
               false,
               false,
               false,
               false,
               false,
               false,
               false,
               false,
               false,
               false,
               false,
               false,
               false,
               false,
               false,
               false,
               false,
               false,
               false,
               false,
               false,
               false
              ]
             }
            ],
            "label": "BX",
            "method": "update"
           },
           {
            "args": [
             {
              "visible": [
               false,
               false,
               false,
               false,
               false,
               false,
               false,
               false,
               false,
               false,
               false,
               false,
               true,
               false,
               false,
               false,
               false,
               false,
               false,
               false,
               false,
               false,
               false,
               false,
               false,
               false,
               false,
               false,
               false,
               false,
               false,
               false,
               false,
               false,
               false,
               false,
               false,
               false,
               false,
               false,
               false,
               false,
               false,
               false,
               false,
               false,
               false,
               false,
               false,
               false,
               false,
               false,
               false,
               false,
               false
              ]
             }
            ],
            "label": "COP",
            "method": "update"
           },
           {
            "args": [
             {
              "visible": [
               false,
               false,
               false,
               false,
               false,
               false,
               false,
               false,
               false,
               false,
               false,
               false,
               false,
               true,
               false,
               false,
               false,
               false,
               false,
               false,
               false,
               false,
               false,
               false,
               false,
               false,
               false,
               false,
               false,
               false,
               false,
               false,
               false,
               false,
               false,
               false,
               false,
               false,
               false,
               false,
               false,
               false,
               false,
               false,
               false,
               false,
               false,
               false,
               false,
               false,
               false,
               false,
               false,
               false,
               false
              ]
             }
            ],
            "label": "COST",
            "method": "update"
           },
           {
            "args": [
             {
              "visible": [
               false,
               false,
               false,
               false,
               false,
               false,
               false,
               false,
               false,
               false,
               false,
               false,
               false,
               false,
               true,
               false,
               false,
               false,
               false,
               false,
               false,
               false,
               false,
               false,
               false,
               false,
               false,
               false,
               false,
               false,
               false,
               false,
               false,
               false,
               false,
               false,
               false,
               false,
               false,
               false,
               false,
               false,
               false,
               false,
               false,
               false,
               false,
               false,
               false,
               false,
               false,
               false,
               false,
               false,
               false
              ]
             }
            ],
            "label": "CRM",
            "method": "update"
           },
           {
            "args": [
             {
              "visible": [
               false,
               false,
               false,
               false,
               false,
               false,
               false,
               false,
               false,
               false,
               false,
               false,
               false,
               false,
               false,
               true,
               false,
               false,
               false,
               false,
               false,
               false,
               false,
               false,
               false,
               false,
               false,
               false,
               false,
               false,
               false,
               false,
               false,
               false,
               false,
               false,
               false,
               false,
               false,
               false,
               false,
               false,
               false,
               false,
               false,
               false,
               false,
               false,
               false,
               false,
               false,
               false,
               false,
               false,
               false
              ]
             }
            ],
            "label": "CVX",
            "method": "update"
           },
           {
            "args": [
             {
              "visible": [
               false,
               false,
               false,
               false,
               false,
               false,
               false,
               false,
               false,
               false,
               false,
               false,
               false,
               false,
               false,
               false,
               true,
               false,
               false,
               false,
               false,
               false,
               false,
               false,
               false,
               false,
               false,
               false,
               false,
               false,
               false,
               false,
               false,
               false,
               false,
               false,
               false,
               false,
               false,
               false,
               false,
               false,
               false,
               false,
               false,
               false,
               false,
               false,
               false,
               false,
               false,
               false,
               false,
               false,
               false
              ]
             }
            ],
            "label": "DAL",
            "method": "update"
           },
           {
            "args": [
             {
              "visible": [
               false,
               false,
               false,
               false,
               false,
               false,
               false,
               false,
               false,
               false,
               false,
               false,
               false,
               false,
               false,
               false,
               false,
               true,
               false,
               false,
               false,
               false,
               false,
               false,
               false,
               false,
               false,
               false,
               false,
               false,
               false,
               false,
               false,
               false,
               false,
               false,
               false,
               false,
               false,
               false,
               false,
               false,
               false,
               false,
               false,
               false,
               false,
               false,
               false,
               false,
               false,
               false,
               false,
               false,
               false
              ]
             }
            ],
            "label": "DUK",
            "method": "update"
           },
           {
            "args": [
             {
              "visible": [
               false,
               false,
               false,
               false,
               false,
               false,
               false,
               false,
               false,
               false,
               false,
               false,
               false,
               false,
               false,
               false,
               false,
               false,
               true,
               false,
               false,
               false,
               false,
               false,
               false,
               false,
               false,
               false,
               false,
               false,
               false,
               false,
               false,
               false,
               false,
               false,
               false,
               false,
               false,
               false,
               false,
               false,
               false,
               false,
               false,
               false,
               false,
               false,
               false,
               false,
               false,
               false,
               false,
               false,
               false
              ]
             }
            ],
            "label": "EQIX",
            "method": "update"
           },
           {
            "args": [
             {
              "visible": [
               false,
               false,
               false,
               false,
               false,
               false,
               false,
               false,
               false,
               false,
               false,
               false,
               false,
               false,
               false,
               false,
               false,
               false,
               false,
               true,
               false,
               false,
               false,
               false,
               false,
               false,
               false,
               false,
               false,
               false,
               false,
               false,
               false,
               false,
               false,
               false,
               false,
               false,
               false,
               false,
               false,
               false,
               false,
               false,
               false,
               false,
               false,
               false,
               false,
               false,
               false,
               false,
               false,
               false,
               false
              ]
             }
            ],
            "label": "ETH-USD",
            "method": "update"
           },
           {
            "args": [
             {
              "visible": [
               false,
               false,
               false,
               false,
               false,
               false,
               false,
               false,
               false,
               false,
               false,
               false,
               false,
               false,
               false,
               false,
               false,
               false,
               false,
               false,
               true,
               false,
               false,
               false,
               false,
               false,
               false,
               false,
               false,
               false,
               false,
               false,
               false,
               false,
               false,
               false,
               false,
               false,
               false,
               false,
               false,
               false,
               false,
               false,
               false,
               false,
               false,
               false,
               false,
               false,
               false,
               false,
               false,
               false,
               false
              ]
             }
            ],
            "label": "EXC",
            "method": "update"
           },
           {
            "args": [
             {
              "visible": [
               false,
               false,
               false,
               false,
               false,
               false,
               false,
               false,
               false,
               false,
               false,
               false,
               false,
               false,
               false,
               false,
               false,
               false,
               false,
               false,
               false,
               true,
               false,
               false,
               false,
               false,
               false,
               false,
               false,
               false,
               false,
               false,
               false,
               false,
               false,
               false,
               false,
               false,
               false,
               false,
               false,
               false,
               false,
               false,
               false,
               false,
               false,
               false,
               false,
               false,
               false,
               false,
               false,
               false,
               false
              ]
             }
            ],
            "label": "FDX",
            "method": "update"
           },
           {
            "args": [
             {
              "visible": [
               false,
               false,
               false,
               false,
               false,
               false,
               false,
               false,
               false,
               false,
               false,
               false,
               false,
               false,
               false,
               false,
               false,
               false,
               false,
               false,
               false,
               false,
               true,
               false,
               false,
               false,
               false,
               false,
               false,
               false,
               false,
               false,
               false,
               false,
               false,
               false,
               false,
               false,
               false,
               false,
               false,
               false,
               false,
               false,
               false,
               false,
               false,
               false,
               false,
               false,
               false,
               false,
               false,
               false,
               false
              ]
             }
            ],
            "label": "GOOGL",
            "method": "update"
           },
           {
            "args": [
             {
              "visible": [
               false,
               false,
               false,
               false,
               false,
               false,
               false,
               false,
               false,
               false,
               false,
               false,
               false,
               false,
               false,
               false,
               false,
               false,
               false,
               false,
               false,
               false,
               false,
               true,
               false,
               false,
               false,
               false,
               false,
               false,
               false,
               false,
               false,
               false,
               false,
               false,
               false,
               false,
               false,
               false,
               false,
               false,
               false,
               false,
               false,
               false,
               false,
               false,
               false,
               false,
               false,
               false,
               false,
               false,
               false
              ]
             }
            ],
            "label": "GS",
            "method": "update"
           },
           {
            "args": [
             {
              "visible": [
               false,
               false,
               false,
               false,
               false,
               false,
               false,
               false,
               false,
               false,
               false,
               false,
               false,
               false,
               false,
               false,
               false,
               false,
               false,
               false,
               false,
               false,
               false,
               false,
               true,
               false,
               false,
               false,
               false,
               false,
               false,
               false,
               false,
               false,
               false,
               false,
               false,
               false,
               false,
               false,
               false,
               false,
               false,
               false,
               false,
               false,
               false,
               false,
               false,
               false,
               false,
               false,
               false,
               false,
               false
              ]
             }
            ],
            "label": "HD",
            "method": "update"
           },
           {
            "args": [
             {
              "visible": [
               false,
               false,
               false,
               false,
               false,
               false,
               false,
               false,
               false,
               false,
               false,
               false,
               false,
               false,
               false,
               false,
               false,
               false,
               false,
               false,
               false,
               false,
               false,
               false,
               false,
               true,
               false,
               false,
               false,
               false,
               false,
               false,
               false,
               false,
               false,
               false,
               false,
               false,
               false,
               false,
               false,
               false,
               false,
               false,
               false,
               false,
               false,
               false,
               false,
               false,
               false,
               false,
               false,
               false,
               false
              ]
             }
            ],
            "label": "JNJ",
            "method": "update"
           },
           {
            "args": [
             {
              "visible": [
               false,
               false,
               false,
               false,
               false,
               false,
               false,
               false,
               false,
               false,
               false,
               false,
               false,
               false,
               false,
               false,
               false,
               false,
               false,
               false,
               false,
               false,
               false,
               false,
               false,
               false,
               true,
               false,
               false,
               false,
               false,
               false,
               false,
               false,
               false,
               false,
               false,
               false,
               false,
               false,
               false,
               false,
               false,
               false,
               false,
               false,
               false,
               false,
               false,
               false,
               false,
               false,
               false,
               false,
               false
              ]
             }
            ],
            "label": "JPM",
            "method": "update"
           },
           {
            "args": [
             {
              "visible": [
               false,
               false,
               false,
               false,
               false,
               false,
               false,
               false,
               false,
               false,
               false,
               false,
               false,
               false,
               false,
               false,
               false,
               false,
               false,
               false,
               false,
               false,
               false,
               false,
               false,
               false,
               false,
               true,
               false,
               false,
               false,
               false,
               false,
               false,
               false,
               false,
               false,
               false,
               false,
               false,
               false,
               false,
               false,
               false,
               false,
               false,
               false,
               false,
               false,
               false,
               false,
               false,
               false,
               false,
               false
              ]
             }
            ],
            "label": "KO",
            "method": "update"
           },
           {
            "args": [
             {
              "visible": [
               false,
               false,
               false,
               false,
               false,
               false,
               false,
               false,
               false,
               false,
               false,
               false,
               false,
               false,
               false,
               false,
               false,
               false,
               false,
               false,
               false,
               false,
               false,
               false,
               false,
               false,
               false,
               false,
               true,
               false,
               false,
               false,
               false,
               false,
               false,
               false,
               false,
               false,
               false,
               false,
               false,
               false,
               false,
               false,
               false,
               false,
               false,
               false,
               false,
               false,
               false,
               false,
               false,
               false,
               false
              ]
             }
            ],
            "label": "LLY",
            "method": "update"
           },
           {
            "args": [
             {
              "visible": [
               false,
               false,
               false,
               false,
               false,
               false,
               false,
               false,
               false,
               false,
               false,
               false,
               false,
               false,
               false,
               false,
               false,
               false,
               false,
               false,
               false,
               false,
               false,
               false,
               false,
               false,
               false,
               false,
               false,
               true,
               false,
               false,
               false,
               false,
               false,
               false,
               false,
               false,
               false,
               false,
               false,
               false,
               false,
               false,
               false,
               false,
               false,
               false,
               false,
               false,
               false,
               false,
               false,
               false,
               false
              ]
             }
            ],
            "label": "MA",
            "method": "update"
           },
           {
            "args": [
             {
              "visible": [
               false,
               false,
               false,
               false,
               false,
               false,
               false,
               false,
               false,
               false,
               false,
               false,
               false,
               false,
               false,
               false,
               false,
               false,
               false,
               false,
               false,
               false,
               false,
               false,
               false,
               false,
               false,
               false,
               false,
               false,
               true,
               false,
               false,
               false,
               false,
               false,
               false,
               false,
               false,
               false,
               false,
               false,
               false,
               false,
               false,
               false,
               false,
               false,
               false,
               false,
               false,
               false,
               false,
               false,
               false
              ]
             }
            ],
            "label": "MCD",
            "method": "update"
           },
           {
            "args": [
             {
              "visible": [
               false,
               false,
               false,
               false,
               false,
               false,
               false,
               false,
               false,
               false,
               false,
               false,
               false,
               false,
               false,
               false,
               false,
               false,
               false,
               false,
               false,
               false,
               false,
               false,
               false,
               false,
               false,
               false,
               false,
               false,
               false,
               true,
               false,
               false,
               false,
               false,
               false,
               false,
               false,
               false,
               false,
               false,
               false,
               false,
               false,
               false,
               false,
               false,
               false,
               false,
               false,
               false,
               false,
               false,
               false
              ]
             }
            ],
            "label": "META",
            "method": "update"
           },
           {
            "args": [
             {
              "visible": [
               false,
               false,
               false,
               false,
               false,
               false,
               false,
               false,
               false,
               false,
               false,
               false,
               false,
               false,
               false,
               false,
               false,
               false,
               false,
               false,
               false,
               false,
               false,
               false,
               false,
               false,
               false,
               false,
               false,
               false,
               false,
               false,
               true,
               false,
               false,
               false,
               false,
               false,
               false,
               false,
               false,
               false,
               false,
               false,
               false,
               false,
               false,
               false,
               false,
               false,
               false,
               false,
               false,
               false,
               false
              ]
             }
            ],
            "label": "MRK",
            "method": "update"
           },
           {
            "args": [
             {
              "visible": [
               false,
               false,
               false,
               false,
               false,
               false,
               false,
               false,
               false,
               false,
               false,
               false,
               false,
               false,
               false,
               false,
               false,
               false,
               false,
               false,
               false,
               false,
               false,
               false,
               false,
               false,
               false,
               false,
               false,
               false,
               false,
               false,
               false,
               true,
               false,
               false,
               false,
               false,
               false,
               false,
               false,
               false,
               false,
               false,
               false,
               false,
               false,
               false,
               false,
               false,
               false,
               false,
               false,
               false,
               false
              ]
             }
            ],
            "label": "MSFT",
            "method": "update"
           },
           {
            "args": [
             {
              "visible": [
               false,
               false,
               false,
               false,
               false,
               false,
               false,
               false,
               false,
               false,
               false,
               false,
               false,
               false,
               false,
               false,
               false,
               false,
               false,
               false,
               false,
               false,
               false,
               false,
               false,
               false,
               false,
               false,
               false,
               false,
               false,
               false,
               false,
               false,
               true,
               false,
               false,
               false,
               false,
               false,
               false,
               false,
               false,
               false,
               false,
               false,
               false,
               false,
               false,
               false,
               false,
               false,
               false,
               false,
               false
              ]
             }
            ],
            "label": "NEE",
            "method": "update"
           },
           {
            "args": [
             {
              "visible": [
               false,
               false,
               false,
               false,
               false,
               false,
               false,
               false,
               false,
               false,
               false,
               false,
               false,
               false,
               false,
               false,
               false,
               false,
               false,
               false,
               false,
               false,
               false,
               false,
               false,
               false,
               false,
               false,
               false,
               false,
               false,
               false,
               false,
               false,
               false,
               true,
               false,
               false,
               false,
               false,
               false,
               false,
               false,
               false,
               false,
               false,
               false,
               false,
               false,
               false,
               false,
               false,
               false,
               false,
               false
              ]
             }
            ],
            "label": "NKE",
            "method": "update"
           },
           {
            "args": [
             {
              "visible": [
               false,
               false,
               false,
               false,
               false,
               false,
               false,
               false,
               false,
               false,
               false,
               false,
               false,
               false,
               false,
               false,
               false,
               false,
               false,
               false,
               false,
               false,
               false,
               false,
               false,
               false,
               false,
               false,
               false,
               false,
               false,
               false,
               false,
               false,
               false,
               false,
               true,
               false,
               false,
               false,
               false,
               false,
               false,
               false,
               false,
               false,
               false,
               false,
               false,
               false,
               false,
               false,
               false,
               false,
               false
              ]
             }
            ],
            "label": "NRG",
            "method": "update"
           },
           {
            "args": [
             {
              "visible": [
               false,
               false,
               false,
               false,
               false,
               false,
               false,
               false,
               false,
               false,
               false,
               false,
               false,
               false,
               false,
               false,
               false,
               false,
               false,
               false,
               false,
               false,
               false,
               false,
               false,
               false,
               false,
               false,
               false,
               false,
               false,
               false,
               false,
               false,
               false,
               false,
               false,
               true,
               false,
               false,
               false,
               false,
               false,
               false,
               false,
               false,
               false,
               false,
               false,
               false,
               false,
               false,
               false,
               false,
               false
              ]
             }
            ],
            "label": "NVDA",
            "method": "update"
           },
           {
            "args": [
             {
              "visible": [
               false,
               false,
               false,
               false,
               false,
               false,
               false,
               false,
               false,
               false,
               false,
               false,
               false,
               false,
               false,
               false,
               false,
               false,
               false,
               false,
               false,
               false,
               false,
               false,
               false,
               false,
               false,
               false,
               false,
               false,
               false,
               false,
               false,
               false,
               false,
               false,
               false,
               false,
               true,
               false,
               false,
               false,
               false,
               false,
               false,
               false,
               false,
               false,
               false,
               false,
               false,
               false,
               false,
               false,
               false
              ]
             }
            ],
            "label": "PFE",
            "method": "update"
           },
           {
            "args": [
             {
              "visible": [
               false,
               false,
               false,
               false,
               false,
               false,
               false,
               false,
               false,
               false,
               false,
               false,
               false,
               false,
               false,
               false,
               false,
               false,
               false,
               false,
               false,
               false,
               false,
               false,
               false,
               false,
               false,
               false,
               false,
               false,
               false,
               false,
               false,
               false,
               false,
               false,
               false,
               false,
               false,
               true,
               false,
               false,
               false,
               false,
               false,
               false,
               false,
               false,
               false,
               false,
               false,
               false,
               false,
               false,
               false
              ]
             }
            ],
            "label": "PG",
            "method": "update"
           },
           {
            "args": [
             {
              "visible": [
               false,
               false,
               false,
               false,
               false,
               false,
               false,
               false,
               false,
               false,
               false,
               false,
               false,
               false,
               false,
               false,
               false,
               false,
               false,
               false,
               false,
               false,
               false,
               false,
               false,
               false,
               false,
               false,
               false,
               false,
               false,
               false,
               false,
               false,
               false,
               false,
               false,
               false,
               false,
               false,
               true,
               false,
               false,
               false,
               false,
               false,
               false,
               false,
               false,
               false,
               false,
               false,
               false,
               false,
               false
              ]
             }
            ],
            "label": "PSA",
            "method": "update"
           },
           {
            "args": [
             {
              "visible": [
               false,
               false,
               false,
               false,
               false,
               false,
               false,
               false,
               false,
               false,
               false,
               false,
               false,
               false,
               false,
               false,
               false,
               false,
               false,
               false,
               false,
               false,
               false,
               false,
               false,
               false,
               false,
               false,
               false,
               false,
               false,
               false,
               false,
               false,
               false,
               false,
               false,
               false,
               false,
               false,
               false,
               true,
               false,
               false,
               false,
               false,
               false,
               false,
               false,
               false,
               false,
               false,
               false,
               false,
               false
              ]
             }
            ],
            "label": "SHEL",
            "method": "update"
           },
           {
            "args": [
             {
              "visible": [
               false,
               false,
               false,
               false,
               false,
               false,
               false,
               false,
               false,
               false,
               false,
               false,
               false,
               false,
               false,
               false,
               false,
               false,
               false,
               false,
               false,
               false,
               false,
               false,
               false,
               false,
               false,
               false,
               false,
               false,
               false,
               false,
               false,
               false,
               false,
               false,
               false,
               false,
               false,
               false,
               false,
               false,
               true,
               false,
               false,
               false,
               false,
               false,
               false,
               false,
               false,
               false,
               false,
               false,
               false
              ]
             }
            ],
            "label": "SO",
            "method": "update"
           },
           {
            "args": [
             {
              "visible": [
               false,
               false,
               false,
               false,
               false,
               false,
               false,
               false,
               false,
               false,
               false,
               false,
               false,
               false,
               false,
               false,
               false,
               false,
               false,
               false,
               false,
               false,
               false,
               false,
               false,
               false,
               false,
               false,
               false,
               false,
               false,
               false,
               false,
               false,
               false,
               false,
               false,
               false,
               false,
               false,
               false,
               false,
               false,
               true,
               false,
               false,
               false,
               false,
               false,
               false,
               false,
               false,
               false,
               false,
               false
              ]
             }
            ],
            "label": "SPG",
            "method": "update"
           },
           {
            "args": [
             {
              "visible": [
               false,
               false,
               false,
               false,
               false,
               false,
               false,
               false,
               false,
               false,
               false,
               false,
               false,
               false,
               false,
               false,
               false,
               false,
               false,
               false,
               false,
               false,
               false,
               false,
               false,
               false,
               false,
               false,
               false,
               false,
               false,
               false,
               false,
               false,
               false,
               false,
               false,
               false,
               false,
               false,
               false,
               false,
               false,
               false,
               true,
               false,
               false,
               false,
               false,
               false,
               false,
               false,
               false,
               false,
               false
              ]
             }
            ],
            "label": "T",
            "method": "update"
           },
           {
            "args": [
             {
              "visible": [
               false,
               false,
               false,
               false,
               false,
               false,
               false,
               false,
               false,
               false,
               false,
               false,
               false,
               false,
               false,
               false,
               false,
               false,
               false,
               false,
               false,
               false,
               false,
               false,
               false,
               false,
               false,
               false,
               false,
               false,
               false,
               false,
               false,
               false,
               false,
               false,
               false,
               false,
               false,
               false,
               false,
               false,
               false,
               false,
               false,
               true,
               false,
               false,
               false,
               false,
               false,
               false,
               false,
               false,
               false
              ]
             }
            ],
            "label": "TGT",
            "method": "update"
           },
           {
            "args": [
             {
              "visible": [
               false,
               false,
               false,
               false,
               false,
               false,
               false,
               false,
               false,
               false,
               false,
               false,
               false,
               false,
               false,
               false,
               false,
               false,
               false,
               false,
               false,
               false,
               false,
               false,
               false,
               false,
               false,
               false,
               false,
               false,
               false,
               false,
               false,
               false,
               false,
               false,
               false,
               false,
               false,
               false,
               false,
               false,
               false,
               false,
               false,
               false,
               true,
               false,
               false,
               false,
               false,
               false,
               false,
               false,
               false
              ]
             }
            ],
            "label": "TMUS",
            "method": "update"
           },
           {
            "args": [
             {
              "visible": [
               false,
               false,
               false,
               false,
               false,
               false,
               false,
               false,
               false,
               false,
               false,
               false,
               false,
               false,
               false,
               false,
               false,
               false,
               false,
               false,
               false,
               false,
               false,
               false,
               false,
               false,
               false,
               false,
               false,
               false,
               false,
               false,
               false,
               false,
               false,
               false,
               false,
               false,
               false,
               false,
               false,
               false,
               false,
               false,
               false,
               false,
               false,
               true,
               false,
               false,
               false,
               false,
               false,
               false,
               false
              ]
             }
            ],
            "label": "TSLA",
            "method": "update"
           },
           {
            "args": [
             {
              "visible": [
               false,
               false,
               false,
               false,
               false,
               false,
               false,
               false,
               false,
               false,
               false,
               false,
               false,
               false,
               false,
               false,
               false,
               false,
               false,
               false,
               false,
               false,
               false,
               false,
               false,
               false,
               false,
               false,
               false,
               false,
               false,
               false,
               false,
               false,
               false,
               false,
               false,
               false,
               false,
               false,
               false,
               false,
               false,
               false,
               false,
               false,
               false,
               false,
               true,
               false,
               false,
               false,
               false,
               false,
               false
              ]
             }
            ],
            "label": "UNH",
            "method": "update"
           },
           {
            "args": [
             {
              "visible": [
               false,
               false,
               false,
               false,
               false,
               false,
               false,
               false,
               false,
               false,
               false,
               false,
               false,
               false,
               false,
               false,
               false,
               false,
               false,
               false,
               false,
               false,
               false,
               false,
               false,
               false,
               false,
               false,
               false,
               false,
               false,
               false,
               false,
               false,
               false,
               false,
               false,
               false,
               false,
               false,
               false,
               false,
               false,
               false,
               false,
               false,
               false,
               false,
               false,
               true,
               false,
               false,
               false,
               false,
               false
              ]
             }
            ],
            "label": "UPS",
            "method": "update"
           },
           {
            "args": [
             {
              "visible": [
               false,
               false,
               false,
               false,
               false,
               false,
               false,
               false,
               false,
               false,
               false,
               false,
               false,
               false,
               false,
               false,
               false,
               false,
               false,
               false,
               false,
               false,
               false,
               false,
               false,
               false,
               false,
               false,
               false,
               false,
               false,
               false,
               false,
               false,
               false,
               false,
               false,
               false,
               false,
               false,
               false,
               false,
               false,
               false,
               false,
               false,
               false,
               false,
               false,
               false,
               true,
               false,
               false,
               false,
               false
              ]
             }
            ],
            "label": "V",
            "method": "update"
           },
           {
            "args": [
             {
              "visible": [
               false,
               false,
               false,
               false,
               false,
               false,
               false,
               false,
               false,
               false,
               false,
               false,
               false,
               false,
               false,
               false,
               false,
               false,
               false,
               false,
               false,
               false,
               false,
               false,
               false,
               false,
               false,
               false,
               false,
               false,
               false,
               false,
               false,
               false,
               false,
               false,
               false,
               false,
               false,
               false,
               false,
               false,
               false,
               false,
               false,
               false,
               false,
               false,
               false,
               false,
               false,
               true,
               false,
               false,
               false
              ]
             }
            ],
            "label": "VZ",
            "method": "update"
           },
           {
            "args": [
             {
              "visible": [
               false,
               false,
               false,
               false,
               false,
               false,
               false,
               false,
               false,
               false,
               false,
               false,
               false,
               false,
               false,
               false,
               false,
               false,
               false,
               false,
               false,
               false,
               false,
               false,
               false,
               false,
               false,
               false,
               false,
               false,
               false,
               false,
               false,
               false,
               false,
               false,
               false,
               false,
               false,
               false,
               false,
               false,
               false,
               false,
               false,
               false,
               false,
               false,
               false,
               false,
               false,
               false,
               true,
               false,
               false
              ]
             }
            ],
            "label": "WELL",
            "method": "update"
           },
           {
            "args": [
             {
              "visible": [
               false,
               false,
               false,
               false,
               false,
               false,
               false,
               false,
               false,
               false,
               false,
               false,
               false,
               false,
               false,
               false,
               false,
               false,
               false,
               false,
               false,
               false,
               false,
               false,
               false,
               false,
               false,
               false,
               false,
               false,
               false,
               false,
               false,
               false,
               false,
               false,
               false,
               false,
               false,
               false,
               false,
               false,
               false,
               false,
               false,
               false,
               false,
               false,
               false,
               false,
               false,
               false,
               false,
               true,
               false
              ]
             }
            ],
            "label": "WMT",
            "method": "update"
           },
           {
            "args": [
             {
              "visible": [
               false,
               false,
               false,
               false,
               false,
               false,
               false,
               false,
               false,
               false,
               false,
               false,
               false,
               false,
               false,
               false,
               false,
               false,
               false,
               false,
               false,
               false,
               false,
               false,
               false,
               false,
               false,
               false,
               false,
               false,
               false,
               false,
               false,
               false,
               false,
               false,
               false,
               false,
               false,
               false,
               false,
               false,
               false,
               false,
               false,
               false,
               false,
               false,
               false,
               false,
               false,
               false,
               false,
               false,
               true
              ]
             }
            ],
            "label": "XOM",
            "method": "update"
           },
           {
            "args": [
             {
              "visible": [
               true,
               true,
               true,
               true,
               true,
               true,
               true,
               true,
               true,
               true,
               true,
               true,
               true,
               true,
               true,
               true,
               true,
               true,
               true,
               true,
               true,
               true,
               true,
               true,
               true,
               true,
               true,
               true,
               true,
               true,
               true,
               true,
               true,
               true,
               true,
               true,
               true,
               true,
               true,
               true,
               true,
               true,
               true,
               true,
               true,
               true,
               true,
               true,
               true,
               true,
               true,
               true,
               true,
               true,
               true
              ]
             }
            ],
            "label": "Reset",
            "method": "update"
           }
          ],
          "direction": "down",
          "showactive": true,
          "x": 0.1,
          "xanchor": "left",
          "y": 1.15,
          "yanchor": "top"
         }
        ],
        "xaxis": {
         "anchor": "y",
         "autorange": true,
         "domain": [
          0,
          1
         ],
         "range": [
          -0.5,
          4.5
         ],
         "title": {
          "text": "Category"
         },
         "type": "linear"
        },
        "yaxis": {
         "anchor": "x",
         "autorange": true,
         "domain": [
          0,
          1
         ],
         "range": [
          0,
          1.052631578960572
         ],
         "title": {
          "text": "Values"
         },
         "type": "linear"
        }
       }
      },
      "image/png": "[encoded data removed]",
      "text/html": [
       "<div>                            <div id=\"3f7f325a-8926-4797-8d9d-6b0fd985d410\" class=\"plotly-graph-div\" style=\"height:525px; width:100%;\"></div>            <script type=\"text/javascript\">                require([\"plotly\"], function(Plotly) {                    window.PLOTLYENV=window.PLOTLYENV || {};                                    if (document.getElementById(\"3f7f325a-8926-4797-8d9d-6b0fd985d410\")) {                    Plotly.newPlot(                        \"3f7f325a-8926-4797-8d9d-6b0fd985d410\",                        [{\"alignmentgroup\":\"True\",\"hovertemplate\":\"variable=AAL<br>index=%{x}<br>value=%{y}<extra></extra>\",\"legendgroup\":\"AAL\",\"marker\":{\"color\":\"#636efa\",\"pattern\":{\"shape\":\"\"}},\"name\":\"AAL\",\"offsetgroup\":\"AAL\",\"orientation\":\"v\",\"showlegend\":true,\"textposition\":\"auto\",\"x\":[0,1,2,3,4],\"xaxis\":\"x\",\"y\":[0.0,0.0,1.0585356012031946e-10,0.15,0.0],\"yaxis\":\"y\",\"type\":\"bar\"},{\"alignmentgroup\":\"True\",\"hovertemplate\":\"variable=AEP<br>index=%{x}<br>value=%{y}<extra></extra>\",\"legendgroup\":\"AEP\",\"marker\":{\"color\":\"#EF553B\",\"pattern\":{\"shape\":\"\"}},\"name\":\"AEP\",\"offsetgroup\":\"AEP\",\"orientation\":\"v\",\"showlegend\":true,\"textposition\":\"auto\",\"x\":[0,1,2,3,4],\"xaxis\":\"x\",\"y\":[0.0,0.0,0.0,0.0,0.0],\"yaxis\":\"y\",\"type\":\"bar\"},{\"alignmentgroup\":\"True\",\"hovertemplate\":\"variable=AMD<br>index=%{x}<br>value=%{y}<extra></extra>\",\"legendgroup\":\"AMD\",\"marker\":{\"color\":\"#00cc96\",\"pattern\":{\"shape\":\"\"}},\"name\":\"AMD\",\"offsetgroup\":\"AMD\",\"orientation\":\"v\",\"showlegend\":true,\"textposition\":\"auto\",\"x\":[0,1,2,3,4],\"xaxis\":\"x\",\"y\":[0.09999999998881386,0.14999999996876984,0.0,0.0,0.0],\"yaxis\":\"y\",\"type\":\"bar\"},{\"alignmentgroup\":\"True\",\"hovertemplate\":\"variable=AMGN<br>index=%{x}<br>value=%{y}<extra></extra>\",\"legendgroup\":\"AMGN\",\"marker\":{\"color\":\"#ab63fa\",\"pattern\":{\"shape\":\"\"}},\"name\":\"AMGN\",\"offsetgroup\":\"AMGN\",\"orientation\":\"v\",\"showlegend\":true,\"textposition\":\"auto\",\"x\":[0,1,2,3,4],\"xaxis\":\"x\",\"y\":[0.0,0.0,0.0,0.0,0.0],\"yaxis\":\"y\",\"type\":\"bar\"},{\"alignmentgroup\":\"True\",\"hovertemplate\":\"variable=AMT<br>index=%{x}<br>value=%{y}<extra></extra>\",\"legendgroup\":\"AMT\",\"marker\":{\"color\":\"#FFA15A\",\"pattern\":{\"shape\":\"\"}},\"name\":\"AMT\",\"offsetgroup\":\"AMT\",\"orientation\":\"v\",\"showlegend\":true,\"textposition\":\"auto\",\"x\":[0,1,2,3,4],\"xaxis\":\"x\",\"y\":[0.0,0.0,0.0,0.0,0.0],\"yaxis\":\"y\",\"type\":\"bar\"},{\"alignmentgroup\":\"True\",\"hovertemplate\":\"variable=AMZN<br>index=%{x}<br>value=%{y}<extra></extra>\",\"legendgroup\":\"AMZN\",\"marker\":{\"color\":\"#19d3f3\",\"pattern\":{\"shape\":\"\"}},\"name\":\"AMZN\",\"offsetgroup\":\"AMZN\",\"orientation\":\"v\",\"showlegend\":true,\"textposition\":\"auto\",\"x\":[0,1,2,3,4],\"xaxis\":\"x\",\"y\":[0.0,0.0,0.0,0.0,0.15],\"yaxis\":\"y\",\"type\":\"bar\"},{\"alignmentgroup\":\"True\",\"hovertemplate\":\"variable=AXP<br>index=%{x}<br>value=%{y}<extra></extra>\",\"legendgroup\":\"AXP\",\"marker\":{\"color\":\"#FF6692\",\"pattern\":{\"shape\":\"\"}},\"name\":\"AXP\",\"offsetgroup\":\"AXP\",\"orientation\":\"v\",\"showlegend\":true,\"textposition\":\"auto\",\"x\":[0,1,2,3,4],\"xaxis\":\"x\",\"y\":[0.0,0.0,0.0,0.0,0.0],\"yaxis\":\"y\",\"type\":\"bar\"},{\"alignmentgroup\":\"True\",\"hovertemplate\":\"variable=BAC<br>index=%{x}<br>value=%{y}<extra></extra>\",\"legendgroup\":\"BAC\",\"marker\":{\"color\":\"#B6E880\",\"pattern\":{\"shape\":\"\"}},\"name\":\"BAC\",\"offsetgroup\":\"BAC\",\"orientation\":\"v\",\"showlegend\":true,\"textposition\":\"auto\",\"x\":[0,1,2,3,4],\"xaxis\":\"x\",\"y\":[0.0,0.0,0.0,0.0,0.0],\"yaxis\":\"y\",\"type\":\"bar\"},{\"alignmentgroup\":\"True\",\"hovertemplate\":\"variable=BLDR<br>index=%{x}<br>value=%{y}<extra></extra>\",\"legendgroup\":\"BLDR\",\"marker\":{\"color\":\"#FF97FF\",\"pattern\":{\"shape\":\"\"}},\"name\":\"BLDR\",\"offsetgroup\":\"BLDR\",\"orientation\":\"v\",\"showlegend\":true,\"textposition\":\"auto\",\"x\":[0,1,2,3,4],\"xaxis\":\"x\",\"y\":[0.0,0.09999999438146993,0.09999999991794428,0.0,0.0],\"yaxis\":\"y\",\"type\":\"bar\"},{\"alignmentgroup\":\"True\",\"hovertemplate\":\"variable=BP<br>index=%{x}<br>value=%{y}<extra></extra>\",\"legendgroup\":\"BP\",\"marker\":{\"color\":\"#FECB52\",\"pattern\":{\"shape\":\"\"}},\"name\":\"BP\",\"offsetgroup\":\"BP\",\"orientation\":\"v\",\"showlegend\":true,\"textposition\":\"auto\",\"x\":[0,1,2,3,4],\"xaxis\":\"x\",\"y\":[0.0,0.0,0.0,0.0,0.0],\"yaxis\":\"y\",\"type\":\"bar\"},{\"alignmentgroup\":\"True\",\"hovertemplate\":\"variable=BTC-USD<br>index=%{x}<br>value=%{y}<extra></extra>\",\"legendgroup\":\"BTC-USD\",\"marker\":{\"color\":\"#636efa\",\"pattern\":{\"shape\":\"\"}},\"name\":\"BTC-USD\",\"offsetgroup\":\"BTC-USD\",\"orientation\":\"v\",\"showlegend\":true,\"textposition\":\"auto\",\"x\":[0,1,2,3,4],\"xaxis\":\"x\",\"y\":[0.0,0.14999999996190666,0.0,0.0,0.0],\"yaxis\":\"y\",\"type\":\"bar\"},{\"alignmentgroup\":\"True\",\"hovertemplate\":\"variable=BX<br>index=%{x}<br>value=%{y}<extra></extra>\",\"legendgroup\":\"BX\",\"marker\":{\"color\":\"#EF553B\",\"pattern\":{\"shape\":\"\"}},\"name\":\"BX\",\"offsetgroup\":\"BX\",\"orientation\":\"v\",\"showlegend\":true,\"textposition\":\"auto\",\"x\":[0,1,2,3,4],\"xaxis\":\"x\",\"y\":[0.14999999997394958,0.0,0.0,0.0,0.0],\"yaxis\":\"y\",\"type\":\"bar\"},{\"alignmentgroup\":\"True\",\"hovertemplate\":\"variable=COP<br>index=%{x}<br>value=%{y}<extra></extra>\",\"legendgroup\":\"COP\",\"marker\":{\"color\":\"#00cc96\",\"pattern\":{\"shape\":\"\"}},\"name\":\"COP\",\"offsetgroup\":\"COP\",\"orientation\":\"v\",\"showlegend\":true,\"textposition\":\"auto\",\"x\":[0,1,2,3,4],\"xaxis\":\"x\",\"y\":[0.0,0.14999999994959975,0.14999999974821418,0.15,0.0],\"yaxis\":\"y\",\"type\":\"bar\"},{\"alignmentgroup\":\"True\",\"hovertemplate\":\"variable=COST<br>index=%{x}<br>value=%{y}<extra></extra>\",\"legendgroup\":\"COST\",\"marker\":{\"color\":\"#ab63fa\",\"pattern\":{\"shape\":\"\"}},\"name\":\"COST\",\"offsetgroup\":\"COST\",\"orientation\":\"v\",\"showlegend\":true,\"textposition\":\"auto\",\"x\":[0,1,2,3,4],\"xaxis\":\"x\",\"y\":[0.14999999998895297,0.0,0.0,0.0,0.09999999330956467],\"yaxis\":\"y\",\"type\":\"bar\"},{\"alignmentgroup\":\"True\",\"hovertemplate\":\"variable=CRM<br>index=%{x}<br>value=%{y}<extra></extra>\",\"legendgroup\":\"CRM\",\"marker\":{\"color\":\"#FFA15A\",\"pattern\":{\"shape\":\"\"}},\"name\":\"CRM\",\"offsetgroup\":\"CRM\",\"orientation\":\"v\",\"showlegend\":true,\"textposition\":\"auto\",\"x\":[0,1,2,3,4],\"xaxis\":\"x\",\"y\":[0.0,0.0,0.0,0.0,0.0],\"yaxis\":\"y\",\"type\":\"bar\"},{\"alignmentgroup\":\"True\",\"hovertemplate\":\"variable=CVX<br>index=%{x}<br>value=%{y}<extra></extra>\",\"legendgroup\":\"CVX\",\"marker\":{\"color\":\"#19d3f3\",\"pattern\":{\"shape\":\"\"}},\"name\":\"CVX\",\"offsetgroup\":\"CVX\",\"orientation\":\"v\",\"showlegend\":true,\"textposition\":\"auto\",\"x\":[0,1,2,3,4],\"xaxis\":\"x\",\"y\":[0.0,0.0,0.14999999970939043,0.15,0.0],\"yaxis\":\"y\",\"type\":\"bar\"},{\"alignmentgroup\":\"True\",\"hovertemplate\":\"variable=DAL<br>index=%{x}<br>value=%{y}<extra></extra>\",\"legendgroup\":\"DAL\",\"marker\":{\"color\":\"#FF6692\",\"pattern\":{\"shape\":\"\"}},\"name\":\"DAL\",\"offsetgroup\":\"DAL\",\"orientation\":\"v\",\"showlegend\":true,\"textposition\":\"auto\",\"x\":[0,1,2,3,4],\"xaxis\":\"x\",\"y\":[0.0,0.0,0.0,0.0,0.0],\"yaxis\":\"y\",\"type\":\"bar\"},{\"alignmentgroup\":\"True\",\"hovertemplate\":\"variable=DUK<br>index=%{x}<br>value=%{y}<extra></extra>\",\"legendgroup\":\"DUK\",\"marker\":{\"color\":\"#B6E880\",\"pattern\":{\"shape\":\"\"}},\"name\":\"DUK\",\"offsetgroup\":\"DUK\",\"orientation\":\"v\",\"showlegend\":true,\"textposition\":\"auto\",\"x\":[0,1,2,3,4],\"xaxis\":\"x\",\"y\":[0.0,0.0,0.0,0.0,0.0],\"yaxis\":\"y\",\"type\":\"bar\"},{\"alignmentgroup\":\"True\",\"hovertemplate\":\"variable=EQIX<br>index=%{x}<br>value=%{y}<extra></extra>\",\"legendgroup\":\"EQIX\",\"marker\":{\"color\":\"#FF97FF\",\"pattern\":{\"shape\":\"\"}},\"name\":\"EQIX\",\"offsetgroup\":\"EQIX\",\"orientation\":\"v\",\"showlegend\":true,\"textposition\":\"auto\",\"x\":[0,1,2,3,4],\"xaxis\":\"x\",\"y\":[0.1499999999875281,0.0,0.0,0.0,0.0],\"yaxis\":\"y\",\"type\":\"bar\"},{\"alignmentgroup\":\"True\",\"hovertemplate\":\"variable=ETH-USD<br>index=%{x}<br>value=%{y}<extra></extra>\",\"legendgroup\":\"ETH-USD\",\"marker\":{\"color\":\"#FECB52\",\"pattern\":{\"shape\":\"\"}},\"name\":\"ETH-USD\",\"offsetgroup\":\"ETH-USD\",\"orientation\":\"v\",\"showlegend\":true,\"textposition\":\"auto\",\"x\":[0,1,2,3,4],\"xaxis\":\"x\",\"y\":[0.0,0.1499999999638567,0.0,0.0,0.15],\"yaxis\":\"y\",\"type\":\"bar\"},{\"alignmentgroup\":\"True\",\"hovertemplate\":\"variable=EXC<br>index=%{x}<br>value=%{y}<extra></extra>\",\"legendgroup\":\"EXC\",\"marker\":{\"color\":\"#636efa\",\"pattern\":{\"shape\":\"\"}},\"name\":\"EXC\",\"offsetgroup\":\"EXC\",\"orientation\":\"v\",\"showlegend\":true,\"textposition\":\"auto\",\"x\":[0,1,2,3,4],\"xaxis\":\"x\",\"y\":[0.0,0.0,0.14999999988339155,0.15,0.0],\"yaxis\":\"y\",\"type\":\"bar\"},{\"alignmentgroup\":\"True\",\"hovertemplate\":\"variable=FDX<br>index=%{x}<br>value=%{y}<extra></extra>\",\"legendgroup\":\"FDX\",\"marker\":{\"color\":\"#EF553B\",\"pattern\":{\"shape\":\"\"}},\"name\":\"FDX\",\"offsetgroup\":\"FDX\",\"orientation\":\"v\",\"showlegend\":true,\"textposition\":\"auto\",\"x\":[0,1,2,3,4],\"xaxis\":\"x\",\"y\":[0.0,0.0,1.3899638962556453e-10,0.0,0.0],\"yaxis\":\"y\",\"type\":\"bar\"},{\"alignmentgroup\":\"True\",\"hovertemplate\":\"variable=GOOGL<br>index=%{x}<br>value=%{y}<extra></extra>\",\"legendgroup\":\"GOOGL\",\"marker\":{\"color\":\"#00cc96\",\"pattern\":{\"shape\":\"\"}},\"name\":\"GOOGL\",\"offsetgroup\":\"GOOGL\",\"orientation\":\"v\",\"showlegend\":true,\"textposition\":\"auto\",\"x\":[0,1,2,3,4],\"xaxis\":\"x\",\"y\":[0.0,0.0,0.0,0.0,0.0],\"yaxis\":\"y\",\"type\":\"bar\"},{\"alignmentgroup\":\"True\",\"hovertemplate\":\"variable=GS<br>index=%{x}<br>value=%{y}<extra></extra>\",\"legendgroup\":\"GS\",\"marker\":{\"color\":\"#ab63fa\",\"pattern\":{\"shape\":\"\"}},\"name\":\"GS\",\"offsetgroup\":\"GS\",\"orientation\":\"v\",\"showlegend\":true,\"textposition\":\"auto\",\"x\":[0,1,2,3,4],\"xaxis\":\"x\",\"y\":[0.0,0.0,0.0,0.0,0.0],\"yaxis\":\"y\",\"type\":\"bar\"},{\"alignmentgroup\":\"True\",\"hovertemplate\":\"variable=HD<br>index=%{x}<br>value=%{y}<extra></extra>\",\"legendgroup\":\"HD\",\"marker\":{\"color\":\"#FFA15A\",\"pattern\":{\"shape\":\"\"}},\"name\":\"HD\",\"offsetgroup\":\"HD\",\"orientation\":\"v\",\"showlegend\":true,\"textposition\":\"auto\",\"x\":[0,1,2,3,4],\"xaxis\":\"x\",\"y\":[0.0,0.0,0.0,0.0,0.0],\"yaxis\":\"y\",\"type\":\"bar\"},{\"alignmentgroup\":\"True\",\"hovertemplate\":\"variable=JNJ<br>index=%{x}<br>value=%{y}<extra></extra>\",\"legendgroup\":\"JNJ\",\"marker\":{\"color\":\"#19d3f3\",\"pattern\":{\"shape\":\"\"}},\"name\":\"JNJ\",\"offsetgroup\":\"JNJ\",\"orientation\":\"v\",\"showlegend\":true,\"textposition\":\"auto\",\"x\":[0,1,2,3,4],\"xaxis\":\"x\",\"y\":[0.0,0.0,0.0,0.0,0.0],\"yaxis\":\"y\",\"type\":\"bar\"},{\"alignmentgroup\":\"True\",\"hovertemplate\":\"variable=JPM<br>index=%{x}<br>value=%{y}<extra></extra>\",\"legendgroup\":\"JPM\",\"marker\":{\"color\":\"#FF6692\",\"pattern\":{\"shape\":\"\"}},\"name\":\"JPM\",\"offsetgroup\":\"JPM\",\"orientation\":\"v\",\"showlegend\":true,\"textposition\":\"auto\",\"x\":[0,1,2,3,4],\"xaxis\":\"x\",\"y\":[0.0,0.0,0.0,0.0,0.0],\"yaxis\":\"y\",\"type\":\"bar\"},{\"alignmentgroup\":\"True\",\"hovertemplate\":\"variable=KO<br>index=%{x}<br>value=%{y}<extra></extra>\",\"legendgroup\":\"KO\",\"marker\":{\"color\":\"#B6E880\",\"pattern\":{\"shape\":\"\"}},\"name\":\"KO\",\"offsetgroup\":\"KO\",\"orientation\":\"v\",\"showlegend\":true,\"textposition\":\"auto\",\"x\":[0,1,2,3,4],\"xaxis\":\"x\",\"y\":[0.0,0.0,0.0,0.0,0.0],\"yaxis\":\"y\",\"type\":\"bar\"},{\"alignmentgroup\":\"True\",\"hovertemplate\":\"variable=LLY<br>index=%{x}<br>value=%{y}<extra></extra>\",\"legendgroup\":\"LLY\",\"marker\":{\"color\":\"#FF97FF\",\"pattern\":{\"shape\":\"\"}},\"name\":\"LLY\",\"offsetgroup\":\"LLY\",\"orientation\":\"v\",\"showlegend\":true,\"textposition\":\"auto\",\"x\":[0,1,2,3,4],\"xaxis\":\"x\",\"y\":[0.14999999998332522,0.0,0.0,0.15,0.0],\"yaxis\":\"y\",\"type\":\"bar\"},{\"alignmentgroup\":\"True\",\"hovertemplate\":\"variable=MA<br>index=%{x}<br>value=%{y}<extra></extra>\",\"legendgroup\":\"MA\",\"marker\":{\"color\":\"#FECB52\",\"pattern\":{\"shape\":\"\"}},\"name\":\"MA\",\"offsetgroup\":\"MA\",\"orientation\":\"v\",\"showlegend\":true,\"textposition\":\"auto\",\"x\":[0,1,2,3,4],\"xaxis\":\"x\",\"y\":[0.0,0.0,0.0,0.0,0.0],\"yaxis\":\"y\",\"type\":\"bar\"},{\"alignmentgroup\":\"True\",\"hovertemplate\":\"variable=MCD<br>index=%{x}<br>value=%{y}<extra></extra>\",\"legendgroup\":\"MCD\",\"marker\":{\"color\":\"#636efa\",\"pattern\":{\"shape\":\"\"}},\"name\":\"MCD\",\"offsetgroup\":\"MCD\",\"orientation\":\"v\",\"showlegend\":true,\"textposition\":\"auto\",\"x\":[0,1,2,3,4],\"xaxis\":\"x\",\"y\":[0.0,0.0,0.0,0.0,0.0],\"yaxis\":\"y\",\"type\":\"bar\"},{\"alignmentgroup\":\"True\",\"hovertemplate\":\"variable=META<br>index=%{x}<br>value=%{y}<extra></extra>\",\"legendgroup\":\"META\",\"marker\":{\"color\":\"#EF553B\",\"pattern\":{\"shape\":\"\"}},\"name\":\"META\",\"offsetgroup\":\"META\",\"orientation\":\"v\",\"showlegend\":true,\"textposition\":\"auto\",\"x\":[0,1,2,3,4],\"xaxis\":\"x\",\"y\":[0.0,0.0,3.542730323182839e-10,0.0,0.0],\"yaxis\":\"y\",\"type\":\"bar\"},{\"alignmentgroup\":\"True\",\"hovertemplate\":\"variable=MRK<br>index=%{x}<br>value=%{y}<extra></extra>\",\"legendgroup\":\"MRK\",\"marker\":{\"color\":\"#00cc96\",\"pattern\":{\"shape\":\"\"}},\"name\":\"MRK\",\"offsetgroup\":\"MRK\",\"orientation\":\"v\",\"showlegend\":true,\"textposition\":\"auto\",\"x\":[0,1,2,3,4],\"xaxis\":\"x\",\"y\":[0.0,0.0,0.0,0.10000000001254361,0.0],\"yaxis\":\"y\",\"type\":\"bar\"},{\"alignmentgroup\":\"True\",\"hovertemplate\":\"variable=MSFT<br>index=%{x}<br>value=%{y}<extra></extra>\",\"legendgroup\":\"MSFT\",\"marker\":{\"color\":\"#ab63fa\",\"pattern\":{\"shape\":\"\"}},\"name\":\"MSFT\",\"offsetgroup\":\"MSFT\",\"orientation\":\"v\",\"showlegend\":true,\"textposition\":\"auto\",\"x\":[0,1,2,3,4],\"xaxis\":\"x\",\"y\":[0.0,0.0,0.0,0.0,0.0],\"yaxis\":\"y\",\"type\":\"bar\"},{\"alignmentgroup\":\"True\",\"hovertemplate\":\"variable=NEE<br>index=%{x}<br>value=%{y}<extra></extra>\",\"legendgroup\":\"NEE\",\"marker\":{\"color\":\"#FFA15A\",\"pattern\":{\"shape\":\"\"}},\"name\":\"NEE\",\"offsetgroup\":\"NEE\",\"orientation\":\"v\",\"showlegend\":true,\"textposition\":\"auto\",\"x\":[0,1,2,3,4],\"xaxis\":\"x\",\"y\":[0.0,0.0,0.0,0.0,0.15],\"yaxis\":\"y\",\"type\":\"bar\"},{\"alignmentgroup\":\"True\",\"hovertemplate\":\"variable=NKE<br>index=%{x}<br>value=%{y}<extra></extra>\",\"legendgroup\":\"NKE\",\"marker\":{\"color\":\"#19d3f3\",\"pattern\":{\"shape\":\"\"}},\"name\":\"NKE\",\"offsetgroup\":\"NKE\",\"orientation\":\"v\",\"showlegend\":true,\"textposition\":\"auto\",\"x\":[0,1,2,3,4],\"xaxis\":\"x\",\"y\":[0.0,0.0,1.4237496933323445e-10,0.0,0.0],\"yaxis\":\"y\",\"type\":\"bar\"},{\"alignmentgroup\":\"True\",\"hovertemplate\":\"variable=NRG<br>index=%{x}<br>value=%{y}<extra></extra>\",\"legendgroup\":\"NRG\",\"marker\":{\"color\":\"#FF6692\",\"pattern\":{\"shape\":\"\"}},\"name\":\"NRG\",\"offsetgroup\":\"NRG\",\"orientation\":\"v\",\"showlegend\":true,\"textposition\":\"auto\",\"x\":[0,1,2,3,4],\"xaxis\":\"x\",\"y\":[0.14999999998750269,0.0,0.0,0.0,0.0],\"yaxis\":\"y\",\"type\":\"bar\"},{\"alignmentgroup\":\"True\",\"hovertemplate\":\"variable=NVDA<br>index=%{x}<br>value=%{y}<extra></extra>\",\"legendgroup\":\"NVDA\",\"marker\":{\"color\":\"#B6E880\",\"pattern\":{\"shape\":\"\"}},\"name\":\"NVDA\",\"offsetgroup\":\"NVDA\",\"orientation\":\"v\",\"showlegend\":true,\"textposition\":\"auto\",\"x\":[0,1,2,3,4],\"xaxis\":\"x\",\"y\":[0.14999999996725272,0.14999999996381008,0.0,0.0,0.0],\"yaxis\":\"y\",\"type\":\"bar\"},{\"alignmentgroup\":\"True\",\"hovertemplate\":\"variable=PFE<br>index=%{x}<br>value=%{y}<extra></extra>\",\"legendgroup\":\"PFE\",\"marker\":{\"color\":\"#FF97FF\",\"pattern\":{\"shape\":\"\"}},\"name\":\"PFE\",\"offsetgroup\":\"PFE\",\"orientation\":\"v\",\"showlegend\":true,\"textposition\":\"auto\",\"x\":[0,1,2,3,4],\"xaxis\":\"x\",\"y\":[0.0,0.0,0.0,0.0,0.0],\"yaxis\":\"y\",\"type\":\"bar\"},{\"alignmentgroup\":\"True\",\"hovertemplate\":\"variable=PG<br>index=%{x}<br>value=%{y}<extra></extra>\",\"legendgroup\":\"PG\",\"marker\":{\"color\":\"#FECB52\",\"pattern\":{\"shape\":\"\"}},\"name\":\"PG\",\"offsetgroup\":\"PG\",\"orientation\":\"v\",\"showlegend\":true,\"textposition\":\"auto\",\"x\":[0,1,2,3,4],\"xaxis\":\"x\",\"y\":[0.0,0.0,0.0,0.0,0.0],\"yaxis\":\"y\",\"type\":\"bar\"},{\"alignmentgroup\":\"True\",\"hovertemplate\":\"variable=PSA<br>index=%{x}<br>value=%{y}<extra></extra>\",\"legendgroup\":\"PSA\",\"marker\":{\"color\":\"#636efa\",\"pattern\":{\"shape\":\"\"}},\"name\":\"PSA\",\"offsetgroup\":\"PSA\",\"orientation\":\"v\",\"showlegend\":true,\"textposition\":\"auto\",\"x\":[0,1,2,3,4],\"xaxis\":\"x\",\"y\":[0.0,0.0,0.0,0.0,0.15],\"yaxis\":\"y\",\"type\":\"bar\"},{\"alignmentgroup\":\"True\",\"hovertemplate\":\"variable=SHEL<br>index=%{x}<br>value=%{y}<extra></extra>\",\"legendgroup\":\"SHEL\",\"marker\":{\"color\":\"#EF553B\",\"pattern\":{\"shape\":\"\"}},\"name\":\"SHEL\",\"offsetgroup\":\"SHEL\",\"orientation\":\"v\",\"showlegend\":true,\"textposition\":\"auto\",\"x\":[0,1,2,3,4],\"xaxis\":\"x\",\"y\":[0.0,0.0,0.1499999998801442,0.0,0.0],\"yaxis\":\"y\",\"type\":\"bar\"},{\"alignmentgroup\":\"True\",\"hovertemplate\":\"variable=SO<br>index=%{x}<br>value=%{y}<extra></extra>\",\"legendgroup\":\"SO\",\"marker\":{\"color\":\"#00cc96\",\"pattern\":{\"shape\":\"\"}},\"name\":\"SO\",\"offsetgroup\":\"SO\",\"orientation\":\"v\",\"showlegend\":true,\"textposition\":\"auto\",\"x\":[0,1,2,3,4],\"xaxis\":\"x\",\"y\":[0.0,0.0,0.0,0.0,0.15],\"yaxis\":\"y\",\"type\":\"bar\"},{\"alignmentgroup\":\"True\",\"hovertemplate\":\"variable=SPG<br>index=%{x}<br>value=%{y}<extra></extra>\",\"legendgroup\":\"SPG\",\"marker\":{\"color\":\"#ab63fa\",\"pattern\":{\"shape\":\"\"}},\"name\":\"SPG\",\"offsetgroup\":\"SPG\",\"orientation\":\"v\",\"showlegend\":true,\"textposition\":\"auto\",\"x\":[0,1,2,3,4],\"xaxis\":\"x\",\"y\":[0.0,0.0,0.0,0.0,0.0],\"yaxis\":\"y\",\"type\":\"bar\"},{\"alignmentgroup\":\"True\",\"hovertemplate\":\"variable=T<br>index=%{x}<br>value=%{y}<extra></extra>\",\"legendgroup\":\"T\",\"marker\":{\"color\":\"#FFA15A\",\"pattern\":{\"shape\":\"\"}},\"name\":\"T\",\"offsetgroup\":\"T\",\"orientation\":\"v\",\"showlegend\":true,\"textposition\":\"auto\",\"x\":[0,1,2,3,4],\"xaxis\":\"x\",\"y\":[0.0,0.0,0.0,0.0,0.0],\"yaxis\":\"y\",\"type\":\"bar\"},{\"alignmentgroup\":\"True\",\"hovertemplate\":\"variable=TGT<br>index=%{x}<br>value=%{y}<extra></extra>\",\"legendgroup\":\"TGT\",\"marker\":{\"color\":\"#19d3f3\",\"pattern\":{\"shape\":\"\"}},\"name\":\"TGT\",\"offsetgroup\":\"TGT\",\"orientation\":\"v\",\"showlegend\":true,\"textposition\":\"auto\",\"x\":[0,1,2,3,4],\"xaxis\":\"x\",\"y\":[0.0,0.0,0.0,0.0,0.0],\"yaxis\":\"y\",\"type\":\"bar\"},{\"alignmentgroup\":\"True\",\"hovertemplate\":\"variable=TMUS<br>index=%{x}<br>value=%{y}<extra></extra>\",\"legendgroup\":\"TMUS\",\"marker\":{\"color\":\"#FF6692\",\"pattern\":{\"shape\":\"\"}},\"name\":\"TMUS\",\"offsetgroup\":\"TMUS\",\"orientation\":\"v\",\"showlegend\":true,\"textposition\":\"auto\",\"x\":[0,1,2,3,4],\"xaxis\":\"x\",\"y\":[0.0,0.0,0.14999999987833587,0.0,0.0],\"yaxis\":\"y\",\"type\":\"bar\"},{\"alignmentgroup\":\"True\",\"hovertemplate\":\"variable=TSLA<br>index=%{x}<br>value=%{y}<extra></extra>\",\"legendgroup\":\"TSLA\",\"marker\":{\"color\":\"#B6E880\",\"pattern\":{\"shape\":\"\"}},\"name\":\"TSLA\",\"offsetgroup\":\"TSLA\",\"orientation\":\"v\",\"showlegend\":true,\"textposition\":\"auto\",\"x\":[0,1,2,3,4],\"xaxis\":\"x\",\"y\":[0.0,0.14999999993811025,0.0,0.0,0.15],\"yaxis\":\"y\",\"type\":\"bar\"},{\"alignmentgroup\":\"True\",\"hovertemplate\":\"variable=UNH<br>index=%{x}<br>value=%{y}<extra></extra>\",\"legendgroup\":\"UNH\",\"marker\":{\"color\":\"#FF97FF\",\"pattern\":{\"shape\":\"\"}},\"name\":\"UNH\",\"offsetgroup\":\"UNH\",\"orientation\":\"v\",\"showlegend\":true,\"textposition\":\"auto\",\"x\":[0,1,2,3,4],\"xaxis\":\"x\",\"y\":[0.0,0.0,0.0,0.0,0.0],\"yaxis\":\"y\",\"type\":\"bar\"},{\"alignmentgroup\":\"True\",\"hovertemplate\":\"variable=UPS<br>index=%{x}<br>value=%{y}<extra></extra>\",\"legendgroup\":\"UPS\",\"marker\":{\"color\":\"#FECB52\",\"pattern\":{\"shape\":\"\"}},\"name\":\"UPS\",\"offsetgroup\":\"UPS\",\"orientation\":\"v\",\"showlegend\":true,\"textposition\":\"auto\",\"x\":[0,1,2,3,4],\"xaxis\":\"x\",\"y\":[0.0,0.0,0.0,0.0,0.0],\"yaxis\":\"y\",\"type\":\"bar\"},{\"alignmentgroup\":\"True\",\"hovertemplate\":\"variable=V<br>index=%{x}<br>value=%{y}<extra></extra>\",\"legendgroup\":\"V\",\"marker\":{\"color\":\"#636efa\",\"pattern\":{\"shape\":\"\"}},\"name\":\"V\",\"offsetgroup\":\"V\",\"orientation\":\"v\",\"showlegend\":true,\"textposition\":\"auto\",\"x\":[0,1,2,3,4],\"xaxis\":\"x\",\"y\":[0.0,0.0,0.0,0.0,0.0],\"yaxis\":\"y\",\"type\":\"bar\"},{\"alignmentgroup\":\"True\",\"hovertemplate\":\"variable=VZ<br>index=%{x}<br>value=%{y}<extra></extra>\",\"legendgroup\":\"VZ\",\"marker\":{\"color\":\"#EF553B\",\"pattern\":{\"shape\":\"\"}},\"name\":\"VZ\",\"offsetgroup\":\"VZ\",\"orientation\":\"v\",\"showlegend\":true,\"textposition\":\"auto\",\"x\":[0,1,2,3,4],\"xaxis\":\"x\",\"y\":[0.0,0.0,0.0,0.0,0.0],\"yaxis\":\"y\",\"type\":\"bar\"},{\"alignmentgroup\":\"True\",\"hovertemplate\":\"variable=WELL<br>index=%{x}<br>value=%{y}<extra></extra>\",\"legendgroup\":\"WELL\",\"marker\":{\"color\":\"#00cc96\",\"pattern\":{\"shape\":\"\"}},\"name\":\"WELL\",\"offsetgroup\":\"WELL\",\"orientation\":\"v\",\"showlegend\":true,\"textposition\":\"auto\",\"x\":[0,1,2,3,4],\"xaxis\":\"x\",\"y\":[0.0,0.0,0.0,0.0,0.0],\"yaxis\":\"y\",\"type\":\"bar\"},{\"alignmentgroup\":\"True\",\"hovertemplate\":\"variable=WMT<br>index=%{x}<br>value=%{y}<extra></extra>\",\"legendgroup\":\"WMT\",\"marker\":{\"color\":\"#ab63fa\",\"pattern\":{\"shape\":\"\"}},\"name\":\"WMT\",\"offsetgroup\":\"WMT\",\"orientation\":\"v\",\"showlegend\":true,\"textposition\":\"auto\",\"x\":[0,1,2,3,4],\"xaxis\":\"x\",\"y\":[0.0,0.0,0.0,0.0,0.0],\"yaxis\":\"y\",\"type\":\"bar\"},{\"alignmentgroup\":\"True\",\"hovertemplate\":\"variable=XOM<br>index=%{x}<br>value=%{y}<extra></extra>\",\"legendgroup\":\"XOM\",\"marker\":{\"color\":\"#FFA15A\",\"pattern\":{\"shape\":\"\"}},\"name\":\"XOM\",\"offsetgroup\":\"XOM\",\"orientation\":\"v\",\"showlegend\":true,\"textposition\":\"auto\",\"x\":[0,1,2,3,4],\"xaxis\":\"x\",\"y\":[0.0,0.0,0.14999999977745304,0.15,0.0],\"yaxis\":\"y\",\"type\":\"bar\"}],                        {\"template\":{\"data\":{\"histogram2dcontour\":[{\"type\":\"histogram2dcontour\",\"colorbar\":{\"outlinewidth\":0,\"ticks\":\"\"},\"colorscale\":[[0.0,\"#0d0887\"],[0.1111111111111111,\"#46039f\"],[0.2222222222222222,\"#7201a8\"],[0.3333333333333333,\"#9c179e\"],[0.4444444444444444,\"#bd3786\"],[0.5555555555555556,\"#d8576b\"],[0.6666666666666666,\"#ed7953\"],[0.7777777777777778,\"#fb9f3a\"],[0.8888888888888888,\"#fdca26\"],[1.0,\"#f0f921\"]]}],\"choropleth\":[{\"type\":\"choropleth\",\"colorbar\":{\"outlinewidth\":0,\"ticks\":\"\"}}],\"histogram2d\":[{\"type\":\"histogram2d\",\"colorbar\":{\"outlinewidth\":0,\"ticks\":\"\"},\"colorscale\":[[0.0,\"#0d0887\"],[0.1111111111111111,\"#46039f\"],[0.2222222222222222,\"#7201a8\"],[0.3333333333333333,\"#9c179e\"],[0.4444444444444444,\"#bd3786\"],[0.5555555555555556,\"#d8576b\"],[0.6666666666666666,\"#ed7953\"],[0.7777777777777778,\"#fb9f3a\"],[0.8888888888888888,\"#fdca26\"],[1.0,\"#f0f921\"]]}],\"heatmap\":[{\"type\":\"heatmap\",\"colorbar\":{\"outlinewidth\":0,\"ticks\":\"\"},\"colorscale\":[[0.0,\"#0d0887\"],[0.1111111111111111,\"#46039f\"],[0.2222222222222222,\"#7201a8\"],[0.3333333333333333,\"#9c179e\"],[0.4444444444444444,\"#bd3786\"],[0.5555555555555556,\"#d8576b\"],[0.6666666666666666,\"#ed7953\"],[0.7777777777777778,\"#fb9f3a\"],[0.8888888888888888,\"#fdca26\"],[1.0,\"#f0f921\"]]}],\"heatmapgl\":[{\"type\":\"heatmapgl\",\"colorbar\":{\"outlinewidth\":0,\"ticks\":\"\"},\"colorscale\":[[0.0,\"#0d0887\"],[0.1111111111111111,\"#46039f\"],[0.2222222222222222,\"#7201a8\"],[0.3333333333333333,\"#9c179e\"],[0.4444444444444444,\"#bd3786\"],[0.5555555555555556,\"#d8576b\"],[0.6666666666666666,\"#ed7953\"],[0.7777777777777778,\"#fb9f3a\"],[0.8888888888888888,\"#fdca26\"],[1.0,\"#f0f921\"]]}],\"contourcarpet\":[{\"type\":\"contourcarpet\",\"colorbar\":{\"outlinewidth\":0,\"ticks\":\"\"}}],\"contour\":[{\"type\":\"contour\",\"colorbar\":{\"outlinewidth\":0,\"ticks\":\"\"},\"colorscale\":[[0.0,\"#0d0887\"],[0.1111111111111111,\"#46039f\"],[0.2222222222222222,\"#7201a8\"],[0.3333333333333333,\"#9c179e\"],[0.4444444444444444,\"#bd3786\"],[0.5555555555555556,\"#d8576b\"],[0.6666666666666666,\"#ed7953\"],[0.7777777777777778,\"#fb9f3a\"],[0.8888888888888888,\"#fdca26\"],[1.0,\"#f0f921\"]]}],\"surface\":[{\"type\":\"surface\",\"colorbar\":{\"outlinewidth\":0,\"ticks\":\"\"},\"colorscale\":[[0.0,\"#0d0887\"],[0.1111111111111111,\"#46039f\"],[0.2222222222222222,\"#7201a8\"],[0.3333333333333333,\"#9c179e\"],[0.4444444444444444,\"#bd3786\"],[0.5555555555555556,\"#d8576b\"],[0.6666666666666666,\"#ed7953\"],[0.7777777777777778,\"#fb9f3a\"],[0.8888888888888888,\"#fdca26\"],[1.0,\"#f0f921\"]]}],\"mesh3d\":[{\"type\":\"mesh3d\",\"colorbar\":{\"outlinewidth\":0,\"ticks\":\"\"}}],\"scatter\":[{\"fillpattern\":{\"fillmode\":\"overlay\",\"size\":10,\"solidity\":0.2},\"type\":\"scatter\"}],\"parcoords\":[{\"type\":\"parcoords\",\"line\":{\"colorbar\":{\"outlinewidth\":0,\"ticks\":\"\"}}}],\"scatterpolargl\":[{\"type\":\"scatterpolargl\",\"marker\":{\"colorbar\":{\"outlinewidth\":0,\"ticks\":\"\"}}}],\"bar\":[{\"error_x\":{\"color\":\"#2a3f5f\"},\"error_y\":{\"color\":\"#2a3f5f\"},\"marker\":{\"line\":{\"color\":\"#E5ECF6\",\"width\":0.5},\"pattern\":{\"fillmode\":\"overlay\",\"size\":10,\"solidity\":0.2}},\"type\":\"bar\"}],\"scattergeo\":[{\"type\":\"scattergeo\",\"marker\":{\"colorbar\":{\"outlinewidth\":0,\"ticks\":\"\"}}}],\"scatterpolar\":[{\"type\":\"scatterpolar\",\"marker\":{\"colorbar\":{\"outlinewidth\":0,\"ticks\":\"\"}}}],\"histogram\":[{\"marker\":{\"pattern\":{\"fillmode\":\"overlay\",\"size\":10,\"solidity\":0.2}},\"type\":\"histogram\"}],\"scattergl\":[{\"type\":\"scattergl\",\"marker\":{\"colorbar\":{\"outlinewidth\":0,\"ticks\":\"\"}}}],\"scatter3d\":[{\"type\":\"scatter3d\",\"line\":{\"colorbar\":{\"outlinewidth\":0,\"ticks\":\"\"}},\"marker\":{\"colorbar\":{\"outlinewidth\":0,\"ticks\":\"\"}}}],\"scattermapbox\":[{\"type\":\"scattermapbox\",\"marker\":{\"colorbar\":{\"outlinewidth\":0,\"ticks\":\"\"}}}],\"scatterternary\":[{\"type\":\"scatterternary\",\"marker\":{\"colorbar\":{\"outlinewidth\":0,\"ticks\":\"\"}}}],\"scattercarpet\":[{\"type\":\"scattercarpet\",\"marker\":{\"colorbar\":{\"outlinewidth\":0,\"ticks\":\"\"}}}],\"carpet\":[{\"aaxis\":{\"endlinecolor\":\"#2a3f5f\",\"gridcolor\":\"white\",\"linecolor\":\"white\",\"minorgridcolor\":\"white\",\"startlinecolor\":\"#2a3f5f\"},\"baxis\":{\"endlinecolor\":\"#2a3f5f\",\"gridcolor\":\"white\",\"linecolor\":\"white\",\"minorgridcolor\":\"white\",\"startlinecolor\":\"#2a3f5f\"},\"type\":\"carpet\"}],\"table\":[{\"cells\":{\"fill\":{\"color\":\"#EBF0F8\"},\"line\":{\"color\":\"white\"}},\"header\":{\"fill\":{\"color\":\"#C8D4E3\"},\"line\":{\"color\":\"white\"}},\"type\":\"table\"}],\"barpolar\":[{\"marker\":{\"line\":{\"color\":\"#E5ECF6\",\"width\":0.5},\"pattern\":{\"fillmode\":\"overlay\",\"size\":10,\"solidity\":0.2}},\"type\":\"barpolar\"}],\"pie\":[{\"automargin\":true,\"type\":\"pie\"}]},\"layout\":{\"autotypenumbers\":\"strict\",\"colorway\":[\"#636efa\",\"#EF553B\",\"#00cc96\",\"#ab63fa\",\"#FFA15A\",\"#19d3f3\",\"#FF6692\",\"#B6E880\",\"#FF97FF\",\"#FECB52\"],\"font\":{\"color\":\"#2a3f5f\"},\"hovermode\":\"closest\",\"hoverlabel\":{\"align\":\"left\"},\"paper_bgcolor\":\"white\",\"plot_bgcolor\":\"#E5ECF6\",\"polar\":{\"bgcolor\":\"#E5ECF6\",\"angularaxis\":{\"gridcolor\":\"white\",\"linecolor\":\"white\",\"ticks\":\"\"},\"radialaxis\":{\"gridcolor\":\"white\",\"linecolor\":\"white\",\"ticks\":\"\"}},\"ternary\":{\"bgcolor\":\"#E5ECF6\",\"aaxis\":{\"gridcolor\":\"white\",\"linecolor\":\"white\",\"ticks\":\"\"},\"baxis\":{\"gridcolor\":\"white\",\"linecolor\":\"white\",\"ticks\":\"\"},\"caxis\":{\"gridcolor\":\"white\",\"linecolor\":\"white\",\"ticks\":\"\"}},\"coloraxis\":{\"colorbar\":{\"outlinewidth\":0,\"ticks\":\"\"}},\"colorscale\":{\"sequential\":[[0.0,\"#0d0887\"],[0.1111111111111111,\"#46039f\"],[0.2222222222222222,\"#7201a8\"],[0.3333333333333333,\"#9c179e\"],[0.4444444444444444,\"#bd3786\"],[0.5555555555555556,\"#d8576b\"],[0.6666666666666666,\"#ed7953\"],[0.7777777777777778,\"#fb9f3a\"],[0.8888888888888888,\"#fdca26\"],[1.0,\"#f0f921\"]],\"sequentialminus\":[[0.0,\"#0d0887\"],[0.1111111111111111,\"#46039f\"],[0.2222222222222222,\"#7201a8\"],[0.3333333333333333,\"#9c179e\"],[0.4444444444444444,\"#bd3786\"],[0.5555555555555556,\"#d8576b\"],[0.6666666666666666,\"#ed7953\"],[0.7777777777777778,\"#fb9f3a\"],[0.8888888888888888,\"#fdca26\"],[1.0,\"#f0f921\"]],\"diverging\":[[0,\"#8e0152\"],[0.1,\"#c51b7d\"],[0.2,\"#de77ae\"],[0.3,\"#f1b6da\"],[0.4,\"#fde0ef\"],[0.5,\"#f7f7f7\"],[0.6,\"#e6f5d0\"],[0.7,\"#b8e186\"],[0.8,\"#7fbc41\"],[0.9,\"#4d9221\"],[1,\"#276419\"]]},\"xaxis\":{\"gridcolor\":\"white\",\"linecolor\":\"white\",\"ticks\":\"\",\"title\":{\"standoff\":15},\"zerolinecolor\":\"white\",\"automargin\":true,\"zerolinewidth\":2},\"yaxis\":{\"gridcolor\":\"white\",\"linecolor\":\"white\",\"ticks\":\"\",\"title\":{\"standoff\":15},\"zerolinecolor\":\"white\",\"automargin\":true,\"zerolinewidth\":2},\"scene\":{\"xaxis\":{\"backgroundcolor\":\"#E5ECF6\",\"gridcolor\":\"white\",\"linecolor\":\"white\",\"showbackground\":true,\"ticks\":\"\",\"zerolinecolor\":\"white\",\"gridwidth\":2},\"yaxis\":{\"backgroundcolor\":\"#E5ECF6\",\"gridcolor\":\"white\",\"linecolor\":\"white\",\"showbackground\":true,\"ticks\":\"\",\"zerolinecolor\":\"white\",\"gridwidth\":2},\"zaxis\":{\"backgroundcolor\":\"#E5ECF6\",\"gridcolor\":\"white\",\"linecolor\":\"white\",\"showbackground\":true,\"ticks\":\"\",\"zerolinecolor\":\"white\",\"gridwidth\":2}},\"shapedefaults\":{\"line\":{\"color\":\"#2a3f5f\"}},\"annotationdefaults\":{\"arrowcolor\":\"#2a3f5f\",\"arrowhead\":0,\"arrowwidth\":1},\"geo\":{\"bgcolor\":\"white\",\"landcolor\":\"#E5ECF6\",\"subunitcolor\":\"white\",\"showland\":true,\"showlakes\":true,\"lakecolor\":\"white\"},\"title\":{\"x\":0.05},\"mapbox\":{\"style\":\"light\"}}},\"xaxis\":{\"anchor\":\"y\",\"domain\":[0.0,1.0],\"title\":{\"text\":\"Category\"}},\"yaxis\":{\"anchor\":\"x\",\"domain\":[0.0,1.0],\"title\":{\"text\":\"Values\"}},\"legend\":{\"title\":{\"text\":\"Assets\"},\"tracegroupgap\":0},\"margin\":{\"t\":60},\"barmode\":\"stack\",\"title\":{\"text\":\"Stacked Bar Chart\"},\"updatemenus\":[{\"buttons\":[{\"args\":[{\"visible\":[true,false,false,false,false,false,false,false,false,false,false,false,false,false,false,false,false,false,false,false,false,false,false,false,false,false,false,false,false,false,false,false,false,false,false,false,false,false,false,false,false,false,false,false,false,false,false,false,false,false,false,false,false,false,false]}],\"label\":\"AAL\",\"method\":\"update\"},{\"args\":[{\"visible\":[false,true,false,false,false,false,false,false,false,false,false,false,false,false,false,false,false,false,false,false,false,false,false,false,false,false,false,false,false,false,false,false,false,false,false,false,false,false,false,false,false,false,false,false,false,false,false,false,false,false,false,false,false,false,false]}],\"label\":\"AEP\",\"method\":\"update\"},{\"args\":[{\"visible\":[false,false,true,false,false,false,false,false,false,false,false,false,false,false,false,false,false,false,false,false,false,false,false,false,false,false,false,false,false,false,false,false,false,false,false,false,false,false,false,false,false,false,false,false,false,false,false,false,false,false,false,false,false,false,false]}],\"label\":\"AMD\",\"method\":\"update\"},{\"args\":[{\"visible\":[false,false,false,true,false,false,false,false,false,false,false,false,false,false,false,false,false,false,false,false,false,false,false,false,false,false,false,false,false,false,false,false,false,false,false,false,false,false,false,false,false,false,false,false,false,false,false,false,false,false,false,false,false,false,false]}],\"label\":\"AMGN\",\"method\":\"update\"},{\"args\":[{\"visible\":[false,false,false,false,true,false,false,false,false,false,false,false,false,false,false,false,false,false,false,false,false,false,false,false,false,false,false,false,false,false,false,false,false,false,false,false,false,false,false,false,false,false,false,false,false,false,false,false,false,false,false,false,false,false,false]}],\"label\":\"AMT\",\"method\":\"update\"},{\"args\":[{\"visible\":[false,false,false,false,false,true,false,false,false,false,false,false,false,false,false,false,false,false,false,false,false,false,false,false,false,false,false,false,false,false,false,false,false,false,false,false,false,false,false,false,false,false,false,false,false,false,false,false,false,false,false,false,false,false,false]}],\"label\":\"AMZN\",\"method\":\"update\"},{\"args\":[{\"visible\":[false,false,false,false,false,false,true,false,false,false,false,false,false,false,false,false,false,false,false,false,false,false,false,false,false,false,false,false,false,false,false,false,false,false,false,false,false,false,false,false,false,false,false,false,false,false,false,false,false,false,false,false,false,false,false]}],\"label\":\"AXP\",\"method\":\"update\"},{\"args\":[{\"visible\":[false,false,false,false,false,false,false,true,false,false,false,false,false,false,false,false,false,false,false,false,false,false,false,false,false,false,false,false,false,false,false,false,false,false,false,false,false,false,false,false,false,false,false,false,false,false,false,false,false,false,false,false,false,false,false]}],\"label\":\"BAC\",\"method\":\"update\"},{\"args\":[{\"visible\":[false,false,false,false,false,false,false,false,true,false,false,false,false,false,false,false,false,false,false,false,false,false,false,false,false,false,false,false,false,false,false,false,false,false,false,false,false,false,false,false,false,false,false,false,false,false,false,false,false,false,false,false,false,false,false]}],\"label\":\"BLDR\",\"method\":\"update\"},{\"args\":[{\"visible\":[false,false,false,false,false,false,false,false,false,true,false,false,false,false,false,false,false,false,false,false,false,false,false,false,false,false,false,false,false,false,false,false,false,false,false,false,false,false,false,false,false,false,false,false,false,false,false,false,false,false,false,false,false,false,false]}],\"label\":\"BP\",\"method\":\"update\"},{\"args\":[{\"visible\":[false,false,false,false,false,false,false,false,false,false,true,false,false,false,false,false,false,false,false,false,false,false,false,false,false,false,false,false,false,false,false,false,false,false,false,false,false,false,false,false,false,false,false,false,false,false,false,false,false,false,false,false,false,false,false]}],\"label\":\"BTC-USD\",\"method\":\"update\"},{\"args\":[{\"visible\":[false,false,false,false,false,false,false,false,false,false,false,true,false,false,false,false,false,false,false,false,false,false,false,false,false,false,false,false,false,false,false,false,false,false,false,false,false,false,false,false,false,false,false,false,false,false,false,false,false,false,false,false,false,false,false]}],\"label\":\"BX\",\"method\":\"update\"},{\"args\":[{\"visible\":[false,false,false,false,false,false,false,false,false,false,false,false,true,false,false,false,false,false,false,false,false,false,false,false,false,false,false,false,false,false,false,false,false,false,false,false,false,false,false,false,false,false,false,false,false,false,false,false,false,false,false,false,false,false,false]}],\"label\":\"COP\",\"method\":\"update\"},{\"args\":[{\"visible\":[false,false,false,false,false,false,false,false,false,false,false,false,false,true,false,false,false,false,false,false,false,false,false,false,false,false,false,false,false,false,false,false,false,false,false,false,false,false,false,false,false,false,false,false,false,false,false,false,false,false,false,false,false,false,false]}],\"label\":\"COST\",\"method\":\"update\"},{\"args\":[{\"visible\":[false,false,false,false,false,false,false,false,false,false,false,false,false,false,true,false,false,false,false,false,false,false,false,false,false,false,false,false,false,false,false,false,false,false,false,false,false,false,false,false,false,false,false,false,false,false,false,false,false,false,false,false,false,false,false]}],\"label\":\"CRM\",\"method\":\"update\"},{\"args\":[{\"visible\":[false,false,false,false,false,false,false,false,false,false,false,false,false,false,false,true,false,false,false,false,false,false,false,false,false,false,false,false,false,false,false,false,false,false,false,false,false,false,false,false,false,false,false,false,false,false,false,false,false,false,false,false,false,false,false]}],\"label\":\"CVX\",\"method\":\"update\"},{\"args\":[{\"visible\":[false,false,false,false,false,false,false,false,false,false,false,false,false,false,false,false,true,false,false,false,false,false,false,false,false,false,false,false,false,false,false,false,false,false,false,false,false,false,false,false,false,false,false,false,false,false,false,false,false,false,false,false,false,false,false]}],\"label\":\"DAL\",\"method\":\"update\"},{\"args\":[{\"visible\":[false,false,false,false,false,false,false,false,false,false,false,false,false,false,false,false,false,true,false,false,false,false,false,false,false,false,false,false,false,false,false,false,false,false,false,false,false,false,false,false,false,false,false,false,false,false,false,false,false,false,false,false,false,false,false]}],\"label\":\"DUK\",\"method\":\"update\"},{\"args\":[{\"visible\":[false,false,false,false,false,false,false,false,false,false,false,false,false,false,false,false,false,false,true,false,false,false,false,false,false,false,false,false,false,false,false,false,false,false,false,false,false,false,false,false,false,false,false,false,false,false,false,false,false,false,false,false,false,false,false]}],\"label\":\"EQIX\",\"method\":\"update\"},{\"args\":[{\"visible\":[false,false,false,false,false,false,false,false,false,false,false,false,false,false,false,false,false,false,false,true,false,false,false,false,false,false,false,false,false,false,false,false,false,false,false,false,false,false,false,false,false,false,false,false,false,false,false,false,false,false,false,false,false,false,false]}],\"label\":\"ETH-USD\",\"method\":\"update\"},{\"args\":[{\"visible\":[false,false,false,false,false,false,false,false,false,false,false,false,false,false,false,false,false,false,false,false,true,false,false,false,false,false,false,false,false,false,false,false,false,false,false,false,false,false,false,false,false,false,false,false,false,false,false,false,false,false,false,false,false,false,false]}],\"label\":\"EXC\",\"method\":\"update\"},{\"args\":[{\"visible\":[false,false,false,false,false,false,false,false,false,false,false,false,false,false,false,false,false,false,false,false,false,true,false,false,false,false,false,false,false,false,false,false,false,false,false,false,false,false,false,false,false,false,false,false,false,false,false,false,false,false,false,false,false,false,false]}],\"label\":\"FDX\",\"method\":\"update\"},{\"args\":[{\"visible\":[false,false,false,false,false,false,false,false,false,false,false,false,false,false,false,false,false,false,false,false,false,false,true,false,false,false,false,false,false,false,false,false,false,false,false,false,false,false,false,false,false,false,false,false,false,false,false,false,false,false,false,false,false,false,false]}],\"label\":\"GOOGL\",\"method\":\"update\"},{\"args\":[{\"visible\":[false,false,false,false,false,false,false,false,false,false,false,false,false,false,false,false,false,false,false,false,false,false,false,true,false,false,false,false,false,false,false,false,false,false,false,false,false,false,false,false,false,false,false,false,false,false,false,false,false,false,false,false,false,false,false]}],\"label\":\"GS\",\"method\":\"update\"},{\"args\":[{\"visible\":[false,false,false,false,false,false,false,false,false,false,false,false,false,false,false,false,false,false,false,false,false,false,false,false,true,false,false,false,false,false,false,false,false,false,false,false,false,false,false,false,false,false,false,false,false,false,false,false,false,false,false,false,false,false,false]}],\"label\":\"HD\",\"method\":\"update\"},{\"args\":[{\"visible\":[false,false,false,false,false,false,false,false,false,false,false,false,false,false,false,false,false,false,false,false,false,false,false,false,false,true,false,false,false,false,false,false,false,false,false,false,false,false,false,false,false,false,false,false,false,false,false,false,false,false,false,false,false,false,false]}],\"label\":\"JNJ\",\"method\":\"update\"},{\"args\":[{\"visible\":[false,false,false,false,false,false,false,false,false,false,false,false,false,false,false,false,false,false,false,false,false,false,false,false,false,false,true,false,false,false,false,false,false,false,false,false,false,false,false,false,false,false,false,false,false,false,false,false,false,false,false,false,false,false,false]}],\"label\":\"JPM\",\"method\":\"update\"},{\"args\":[{\"visible\":[false,false,false,false,false,false,false,false,false,false,false,false,false,false,false,false,false,false,false,false,false,false,false,false,false,false,false,true,false,false,false,false,false,false,false,false,false,false,false,false,false,false,false,false,false,false,false,false,false,false,false,false,false,false,false]}],\"label\":\"KO\",\"method\":\"update\"},{\"args\":[{\"visible\":[false,false,false,false,false,false,false,false,false,false,false,false,false,false,false,false,false,false,false,false,false,false,false,false,false,false,false,false,true,false,false,false,false,false,false,false,false,false,false,false,false,false,false,false,false,false,false,false,false,false,false,false,false,false,false]}],\"label\":\"LLY\",\"method\":\"update\"},{\"args\":[{\"visible\":[false,false,false,false,false,false,false,false,false,false,false,false,false,false,false,false,false,false,false,false,false,false,false,false,false,false,false,false,false,true,false,false,false,false,false,false,false,false,false,false,false,false,false,false,false,false,false,false,false,false,false,false,false,false,false]}],\"label\":\"MA\",\"method\":\"update\"},{\"args\":[{\"visible\":[false,false,false,false,false,false,false,false,false,false,false,false,false,false,false,false,false,false,false,false,false,false,false,false,false,false,false,false,false,false,true,false,false,false,false,false,false,false,false,false,false,false,false,false,false,false,false,false,false,false,false,false,false,false,false]}],\"label\":\"MCD\",\"method\":\"update\"},{\"args\":[{\"visible\":[false,false,false,false,false,false,false,false,false,false,false,false,false,false,false,false,false,false,false,false,false,false,false,false,false,false,false,false,false,false,false,true,false,false,false,false,false,false,false,false,false,false,false,false,false,false,false,false,false,false,false,false,false,false,false]}],\"label\":\"META\",\"method\":\"update\"},{\"args\":[{\"visible\":[false,false,false,false,false,false,false,false,false,false,false,false,false,false,false,false,false,false,false,false,false,false,false,false,false,false,false,false,false,false,false,false,true,false,false,false,false,false,false,false,false,false,false,false,false,false,false,false,false,false,false,false,false,false,false]}],\"label\":\"MRK\",\"method\":\"update\"},{\"args\":[{\"visible\":[false,false,false,false,false,false,false,false,false,false,false,false,false,false,false,false,false,false,false,false,false,false,false,false,false,false,false,false,false,false,false,false,false,true,false,false,false,false,false,false,false,false,false,false,false,false,false,false,false,false,false,false,false,false,false]}],\"label\":\"MSFT\",\"method\":\"update\"},{\"args\":[{\"visible\":[false,false,false,false,false,false,false,false,false,false,false,false,false,false,false,false,false,false,false,false,false,false,false,false,false,false,false,false,false,false,false,false,false,false,true,false,false,false,false,false,false,false,false,false,false,false,false,false,false,false,false,false,false,false,false]}],\"label\":\"NEE\",\"method\":\"update\"},{\"args\":[{\"visible\":[false,false,false,false,false,false,false,false,false,false,false,false,false,false,false,false,false,false,false,false,false,false,false,false,false,false,false,false,false,false,false,false,false,false,false,true,false,false,false,false,false,false,false,false,false,false,false,false,false,false,false,false,false,false,false]}],\"label\":\"NKE\",\"method\":\"update\"},{\"args\":[{\"visible\":[false,false,false,false,false,false,false,false,false,false,false,false,false,false,false,false,false,false,false,false,false,false,false,false,false,false,false,false,false,false,false,false,false,false,false,false,true,false,false,false,false,false,false,false,false,false,false,false,false,false,false,false,false,false,false]}],\"label\":\"NRG\",\"method\":\"update\"},{\"args\":[{\"visible\":[false,false,false,false,false,false,false,false,false,false,false,false,false,false,false,false,false,false,false,false,false,false,false,false,false,false,false,false,false,false,false,false,false,false,false,false,false,true,false,false,false,false,false,false,false,false,false,false,false,false,false,false,false,false,false]}],\"label\":\"NVDA\",\"method\":\"update\"},{\"args\":[{\"visible\":[false,false,false,false,false,false,false,false,false,false,false,false,false,false,false,false,false,false,false,false,false,false,false,false,false,false,false,false,false,false,false,false,false,false,false,false,false,false,true,false,false,false,false,false,false,false,false,false,false,false,false,false,false,false,false]}],\"label\":\"PFE\",\"method\":\"update\"},{\"args\":[{\"visible\":[false,false,false,false,false,false,false,false,false,false,false,false,false,false,false,false,false,false,false,false,false,false,false,false,false,false,false,false,false,false,false,false,false,false,false,false,false,false,false,true,false,false,false,false,false,false,false,false,false,false,false,false,false,false,false]}],\"label\":\"PG\",\"method\":\"update\"},{\"args\":[{\"visible\":[false,false,false,false,false,false,false,false,false,false,false,false,false,false,false,false,false,false,false,false,false,false,false,false,false,false,false,false,false,false,false,false,false,false,false,false,false,false,false,false,true,false,false,false,false,false,false,false,false,false,false,false,false,false,false]}],\"label\":\"PSA\",\"method\":\"update\"},{\"args\":[{\"visible\":[false,false,false,false,false,false,false,false,false,false,false,false,false,false,false,false,false,false,false,false,false,false,false,false,false,false,false,false,false,false,false,false,false,false,false,false,false,false,false,false,false,true,false,false,false,false,false,false,false,false,false,false,false,false,false]}],\"label\":\"SHEL\",\"method\":\"update\"},{\"args\":[{\"visible\":[false,false,false,false,false,false,false,false,false,false,false,false,false,false,false,false,false,false,false,false,false,false,false,false,false,false,false,false,false,false,false,false,false,false,false,false,false,false,false,false,false,false,true,false,false,false,false,false,false,false,false,false,false,false,false]}],\"label\":\"SO\",\"method\":\"update\"},{\"args\":[{\"visible\":[false,false,false,false,false,false,false,false,false,false,false,false,false,false,false,false,false,false,false,false,false,false,false,false,false,false,false,false,false,false,false,false,false,false,false,false,false,false,false,false,false,false,false,true,false,false,false,false,false,false,false,false,false,false,false]}],\"label\":\"SPG\",\"method\":\"update\"},{\"args\":[{\"visible\":[false,false,false,false,false,false,false,false,false,false,false,false,false,false,false,false,false,false,false,false,false,false,false,false,false,false,false,false,false,false,false,false,false,false,false,false,false,false,false,false,false,false,false,false,true,false,false,false,false,false,false,false,false,false,false]}],\"label\":\"T\",\"method\":\"update\"},{\"args\":[{\"visible\":[false,false,false,false,false,false,false,false,false,false,false,false,false,false,false,false,false,false,false,false,false,false,false,false,false,false,false,false,false,false,false,false,false,false,false,false,false,false,false,false,false,false,false,false,false,true,false,false,false,false,false,false,false,false,false]}],\"label\":\"TGT\",\"method\":\"update\"},{\"args\":[{\"visible\":[false,false,false,false,false,false,false,false,false,false,false,false,false,false,false,false,false,false,false,false,false,false,false,false,false,false,false,false,false,false,false,false,false,false,false,false,false,false,false,false,false,false,false,false,false,false,true,false,false,false,false,false,false,false,false]}],\"label\":\"TMUS\",\"method\":\"update\"},{\"args\":[{\"visible\":[false,false,false,false,false,false,false,false,false,false,false,false,false,false,false,false,false,false,false,false,false,false,false,false,false,false,false,false,false,false,false,false,false,false,false,false,false,false,false,false,false,false,false,false,false,false,false,true,false,false,false,false,false,false,false]}],\"label\":\"TSLA\",\"method\":\"update\"},{\"args\":[{\"visible\":[false,false,false,false,false,false,false,false,false,false,false,false,false,false,false,false,false,false,false,false,false,false,false,false,false,false,false,false,false,false,false,false,false,false,false,false,false,false,false,false,false,false,false,false,false,false,false,false,true,false,false,false,false,false,false]}],\"label\":\"UNH\",\"method\":\"update\"},{\"args\":[{\"visible\":[false,false,false,false,false,false,false,false,false,false,false,false,false,false,false,false,false,false,false,false,false,false,false,false,false,false,false,false,false,false,false,false,false,false,false,false,false,false,false,false,false,false,false,false,false,false,false,false,false,true,false,false,false,false,false]}],\"label\":\"UPS\",\"method\":\"update\"},{\"args\":[{\"visible\":[false,false,false,false,false,false,false,false,false,false,false,false,false,false,false,false,false,false,false,false,false,false,false,false,false,false,false,false,false,false,false,false,false,false,false,false,false,false,false,false,false,false,false,false,false,false,false,false,false,false,true,false,false,false,false]}],\"label\":\"V\",\"method\":\"update\"},{\"args\":[{\"visible\":[false,false,false,false,false,false,false,false,false,false,false,false,false,false,false,false,false,false,false,false,false,false,false,false,false,false,false,false,false,false,false,false,false,false,false,false,false,false,false,false,false,false,false,false,false,false,false,false,false,false,false,true,false,false,false]}],\"label\":\"VZ\",\"method\":\"update\"},{\"args\":[{\"visible\":[false,false,false,false,false,false,false,false,false,false,false,false,false,false,false,false,false,false,false,false,false,false,false,false,false,false,false,false,false,false,false,false,false,false,false,false,false,false,false,false,false,false,false,false,false,false,false,false,false,false,false,false,true,false,false]}],\"label\":\"WELL\",\"method\":\"update\"},{\"args\":[{\"visible\":[false,false,false,false,false,false,false,false,false,false,false,false,false,false,false,false,false,false,false,false,false,false,false,false,false,false,false,false,false,false,false,false,false,false,false,false,false,false,false,false,false,false,false,false,false,false,false,false,false,false,false,false,false,true,false]}],\"label\":\"WMT\",\"method\":\"update\"},{\"args\":[{\"visible\":[false,false,false,false,false,false,false,false,false,false,false,false,false,false,false,false,false,false,false,false,false,false,false,false,false,false,false,false,false,false,false,false,false,false,false,false,false,false,false,false,false,false,false,false,false,false,false,false,false,false,false,false,false,false,true]}],\"label\":\"XOM\",\"method\":\"update\"},{\"args\":[{\"visible\":[true,true,true,true,true,true,true,true,true,true,true,true,true,true,true,true,true,true,true,true,true,true,true,true,true,true,true,true,true,true,true,true,true,true,true,true,true,true,true,true,true,true,true,true,true,true,true,true,true,true,true,true,true,true,true]}],\"label\":\"Reset\",\"method\":\"update\"}],\"direction\":\"down\",\"showactive\":true,\"x\":0.1,\"xanchor\":\"left\",\"y\":1.15,\"yanchor\":\"top\"}]},                        {\"responsive\": true}                    ).then(function(){\n",
       "                            \n",
       "var gd = document.getElementById('3f7f325a-8926-4797-8d9d-6b0fd985d410');\n",
       "var x = new MutationObserver(function (mutations, observer) {{\n",
       "        var display = window.getComputedStyle(gd).display;\n",
       "        if (!display || display === 'none') {{\n",
       "            console.log([gd, 'removed!']);\n",
       "            Plotly.purge(gd);\n",
       "            observer.disconnect();\n",
       "        }}\n",
       "}});\n",
       "\n",
       "// Listen for the removal of the full notebook cells\n",
       "var notebookContainer = gd.closest('#notebook-container');\n",
       "if (notebookContainer) {{\n",
       "    x.observe(notebookContainer, {childList: true});\n",
       "}}\n",
       "\n",
       "// Listen for the clearing of the current output cell\n",
       "var outputEl = gd.closest('.output');\n",
       "if (outputEl) {{\n",
       "    x.observe(outputEl, {childList: true});\n",
       "}}\n",
       "\n",
       "                        })                };                });            </script>        </div>"
      ]
     },
     "metadata": {},
     "output_type": "display_data"
    }
   ],
   "source": [
    "import plotly.express as px\n",
    "\n",
    "# Assuming df is your DataFrame with data\n",
    "fig = px.bar(df, barmode='stack')\n",
    "fig.update_layout(\n",
    "    title='Stacked Bar Chart',\n",
    "    xaxis=dict(title='Category'),\n",
    "    yaxis=dict(title='Values'),\n",
    "    legend=dict(title='Assets'),\n",
    ")\n",
    "# Create dropdown menu for variable selection\n",
    "buttons = [\n",
    "    dict(label=var, method='update', args=[{'visible': [col == var for col in df.columns]}])\n",
    "    for var in df.columns\n",
    "]\n",
    "# Add an option to reset the graph\n",
    "buttons.append(\n",
    "    dict(label=\"Reset\", method=\"update\", args=[{'visible': [True] * len(df.columns)}])\n",
    ")\n",
    "\n",
    "fig.update_layout(\n",
    "    updatemenus=[\n",
    "        dict(\n",
    "            buttons=buttons,\n",
    "            direction='down',\n",
    "            showactive=True,\n",
    "            x=0.1,\n",
    "            xanchor='left',\n",
    "            y=1.15,\n",
    "            yanchor='top'\n",
    "        ),\n",
    "    ]\n",
    ")\n",
    "fig.show()"
   ]
  },
  {
   "cell_type": "code",
   "execution_count": 144,
   "metadata": {
    "colab": {
     "base_uri": "https://localhost:8080/"
    },
    "id": "rc0IRt8cKm_R",
    "outputId": "8be3a8f9-1329-438a-ece1-6dcfc19a561a"
   },
   "outputs": [
    {
     "data": {
      "text/plain": [
       "[1.95, 1.65, 1.5, 0.8999999999999999, 2.1]"
      ]
     },
     "execution_count": 144,
     "metadata": {},
     "output_type": "execute_result"
    }
   ],
   "source": [
    "hapi"
   ]
  },
  {
   "cell_type": "code",
   "execution_count": 145,
   "metadata": {
    "colab": {
     "base_uri": "https://localhost:8080/"
    },
    "id": "5QJPp3B9_Vwz",
    "outputId": "9ab5113e-01b2-465f-82b1-23d63f9ef13e"
   },
   "outputs": [
    {
     "name": "stdout",
     "output_type": "stream",
     "text": [
      "Total cost fee USD 8.1\n",
      "% cost total investment 0.8099999999999999\n",
      "Total % return -16.369108825939\n",
      "S&P 500 % return -17.21171127379597\n"
     ]
    }
   ],
   "source": [
    "print('Total cost fee USD',sum(hapi))\n",
    "print('% cost total investment', sum(hapi)/1_000 *100 )\n",
    "print('Total % return', (df_portfolio[-1]-df_portfolio[0])/df_portfolio[0]*100)\n",
    "print('S&P 500 % return', (market[-1]-market[0])/market[0]*100)"
   ]
  },
  {
   "cell_type": "code",
   "execution_count": 146,
   "metadata": {
    "id": "tQHguLudIRcH"
   },
   "outputs": [],
   "source": [
    "#3 months results\n",
    "#Total cost fee USD 12.45\n",
    "#% cost total investment 1.2449999999999999\n",
    "#Total % return 44.64566895594882\n",
    "#S&P 500 % return 9.27685093331147"
   ]
  },
  {
   "cell_type": "code",
   "execution_count": 147,
   "metadata": {
    "colab": {
     "base_uri": "https://localhost:8080/",
     "height": 1000
    },
    "id": "V94qud0QO35N",
    "outputId": "28631a94-65be-4df7-e2f3-1ad95b126a4f"
   },
   "outputs": [
    {
     "data": {
      "text/html": [
       "<div>\n",
       "<style scoped>\n",
       "    .dataframe tbody tr th:only-of-type {\n",
       "        vertical-align: middle;\n",
       "    }\n",
       "\n",
       "    .dataframe tbody tr th {\n",
       "        vertical-align: top;\n",
       "    }\n",
       "\n",
       "    .dataframe thead th {\n",
       "        text-align: right;\n",
       "    }\n",
       "</style>\n",
       "<table border=\"1\" class=\"dataframe\">\n",
       "  <thead>\n",
       "    <tr style=\"text-align: right;\">\n",
       "      <th></th>\n",
       "      <th>0</th>\n",
       "      <th>1</th>\n",
       "      <th>2</th>\n",
       "      <th>3</th>\n",
       "      <th>4</th>\n",
       "    </tr>\n",
       "  </thead>\n",
       "  <tbody>\n",
       "    <tr>\n",
       "      <th>AAL</th>\n",
       "      <td>NaN</td>\n",
       "      <td>NaN</td>\n",
       "      <td>NaN</td>\n",
       "      <td>0.15</td>\n",
       "      <td>NaN</td>\n",
       "    </tr>\n",
       "    <tr>\n",
       "      <th>AMD</th>\n",
       "      <td>0.10</td>\n",
       "      <td>0.15</td>\n",
       "      <td>NaN</td>\n",
       "      <td>NaN</td>\n",
       "      <td>NaN</td>\n",
       "    </tr>\n",
       "    <tr>\n",
       "      <th>AMZN</th>\n",
       "      <td>NaN</td>\n",
       "      <td>NaN</td>\n",
       "      <td>NaN</td>\n",
       "      <td>NaN</td>\n",
       "      <td>0.15</td>\n",
       "    </tr>\n",
       "    <tr>\n",
       "      <th>BLDR</th>\n",
       "      <td>NaN</td>\n",
       "      <td>0.10</td>\n",
       "      <td>0.10</td>\n",
       "      <td>NaN</td>\n",
       "      <td>NaN</td>\n",
       "    </tr>\n",
       "    <tr>\n",
       "      <th>BTC-USD</th>\n",
       "      <td>NaN</td>\n",
       "      <td>0.15</td>\n",
       "      <td>NaN</td>\n",
       "      <td>NaN</td>\n",
       "      <td>NaN</td>\n",
       "    </tr>\n",
       "    <tr>\n",
       "      <th>BX</th>\n",
       "      <td>0.15</td>\n",
       "      <td>NaN</td>\n",
       "      <td>NaN</td>\n",
       "      <td>NaN</td>\n",
       "      <td>NaN</td>\n",
       "    </tr>\n",
       "    <tr>\n",
       "      <th>COP</th>\n",
       "      <td>NaN</td>\n",
       "      <td>0.15</td>\n",
       "      <td>0.15</td>\n",
       "      <td>0.15</td>\n",
       "      <td>NaN</td>\n",
       "    </tr>\n",
       "    <tr>\n",
       "      <th>COST</th>\n",
       "      <td>0.15</td>\n",
       "      <td>NaN</td>\n",
       "      <td>NaN</td>\n",
       "      <td>NaN</td>\n",
       "      <td>0.10</td>\n",
       "    </tr>\n",
       "    <tr>\n",
       "      <th>CVX</th>\n",
       "      <td>NaN</td>\n",
       "      <td>NaN</td>\n",
       "      <td>0.15</td>\n",
       "      <td>0.15</td>\n",
       "      <td>NaN</td>\n",
       "    </tr>\n",
       "    <tr>\n",
       "      <th>EQIX</th>\n",
       "      <td>0.15</td>\n",
       "      <td>NaN</td>\n",
       "      <td>NaN</td>\n",
       "      <td>NaN</td>\n",
       "      <td>NaN</td>\n",
       "    </tr>\n",
       "    <tr>\n",
       "      <th>ETH-USD</th>\n",
       "      <td>NaN</td>\n",
       "      <td>0.15</td>\n",
       "      <td>NaN</td>\n",
       "      <td>NaN</td>\n",
       "      <td>0.15</td>\n",
       "    </tr>\n",
       "    <tr>\n",
       "      <th>EXC</th>\n",
       "      <td>NaN</td>\n",
       "      <td>NaN</td>\n",
       "      <td>0.15</td>\n",
       "      <td>0.15</td>\n",
       "      <td>NaN</td>\n",
       "    </tr>\n",
       "    <tr>\n",
       "      <th>LLY</th>\n",
       "      <td>0.15</td>\n",
       "      <td>NaN</td>\n",
       "      <td>NaN</td>\n",
       "      <td>0.15</td>\n",
       "      <td>NaN</td>\n",
       "    </tr>\n",
       "    <tr>\n",
       "      <th>MRK</th>\n",
       "      <td>NaN</td>\n",
       "      <td>NaN</td>\n",
       "      <td>NaN</td>\n",
       "      <td>0.10</td>\n",
       "      <td>NaN</td>\n",
       "    </tr>\n",
       "    <tr>\n",
       "      <th>NEE</th>\n",
       "      <td>NaN</td>\n",
       "      <td>NaN</td>\n",
       "      <td>NaN</td>\n",
       "      <td>NaN</td>\n",
       "      <td>0.15</td>\n",
       "    </tr>\n",
       "    <tr>\n",
       "      <th>NRG</th>\n",
       "      <td>0.15</td>\n",
       "      <td>NaN</td>\n",
       "      <td>NaN</td>\n",
       "      <td>NaN</td>\n",
       "      <td>NaN</td>\n",
       "    </tr>\n",
       "    <tr>\n",
       "      <th>NVDA</th>\n",
       "      <td>0.15</td>\n",
       "      <td>0.15</td>\n",
       "      <td>NaN</td>\n",
       "      <td>NaN</td>\n",
       "      <td>NaN</td>\n",
       "    </tr>\n",
       "    <tr>\n",
       "      <th>PSA</th>\n",
       "      <td>NaN</td>\n",
       "      <td>NaN</td>\n",
       "      <td>NaN</td>\n",
       "      <td>NaN</td>\n",
       "      <td>0.15</td>\n",
       "    </tr>\n",
       "    <tr>\n",
       "      <th>SHEL</th>\n",
       "      <td>NaN</td>\n",
       "      <td>NaN</td>\n",
       "      <td>0.15</td>\n",
       "      <td>NaN</td>\n",
       "      <td>NaN</td>\n",
       "    </tr>\n",
       "    <tr>\n",
       "      <th>SO</th>\n",
       "      <td>NaN</td>\n",
       "      <td>NaN</td>\n",
       "      <td>NaN</td>\n",
       "      <td>NaN</td>\n",
       "      <td>0.15</td>\n",
       "    </tr>\n",
       "    <tr>\n",
       "      <th>TMUS</th>\n",
       "      <td>NaN</td>\n",
       "      <td>NaN</td>\n",
       "      <td>0.15</td>\n",
       "      <td>NaN</td>\n",
       "      <td>NaN</td>\n",
       "    </tr>\n",
       "    <tr>\n",
       "      <th>TSLA</th>\n",
       "      <td>NaN</td>\n",
       "      <td>0.15</td>\n",
       "      <td>NaN</td>\n",
       "      <td>NaN</td>\n",
       "      <td>0.15</td>\n",
       "    </tr>\n",
       "    <tr>\n",
       "      <th>XOM</th>\n",
       "      <td>NaN</td>\n",
       "      <td>NaN</td>\n",
       "      <td>0.15</td>\n",
       "      <td>0.15</td>\n",
       "      <td>NaN</td>\n",
       "    </tr>\n",
       "  </tbody>\n",
       "</table>\n",
       "</div>"
      ],
      "text/plain": [
       "            0     1     2     3     4\n",
       "AAL       NaN   NaN   NaN  0.15   NaN\n",
       "AMD      0.10  0.15   NaN   NaN   NaN\n",
       "AMZN      NaN   NaN   NaN   NaN  0.15\n",
       "BLDR      NaN  0.10  0.10   NaN   NaN\n",
       "BTC-USD   NaN  0.15   NaN   NaN   NaN\n",
       "BX       0.15   NaN   NaN   NaN   NaN\n",
       "COP       NaN  0.15  0.15  0.15   NaN\n",
       "COST     0.15   NaN   NaN   NaN  0.10\n",
       "CVX       NaN   NaN  0.15  0.15   NaN\n",
       "EQIX     0.15   NaN   NaN   NaN   NaN\n",
       "ETH-USD   NaN  0.15   NaN   NaN  0.15\n",
       "EXC       NaN   NaN  0.15  0.15   NaN\n",
       "LLY      0.15   NaN   NaN  0.15   NaN\n",
       "MRK       NaN   NaN   NaN  0.10   NaN\n",
       "NEE       NaN   NaN   NaN   NaN  0.15\n",
       "NRG      0.15   NaN   NaN   NaN   NaN\n",
       "NVDA     0.15  0.15   NaN   NaN   NaN\n",
       "PSA       NaN   NaN   NaN   NaN  0.15\n",
       "SHEL      NaN   NaN  0.15   NaN   NaN\n",
       "SO        NaN   NaN   NaN   NaN  0.15\n",
       "TMUS      NaN   NaN  0.15   NaN   NaN\n",
       "TSLA      NaN  0.15   NaN   NaN  0.15\n",
       "XOM       NaN   NaN  0.15  0.15   NaN"
      ]
     },
     "execution_count": 147,
     "metadata": {},
     "output_type": "execute_result"
    }
   ],
   "source": [
    "# Define the threshold value\n",
    "threshold = 0.001\n",
    "transposed_df = df.transpose()\n",
    "# Apply boolean indexing to filter values higher than the threshold\n",
    "filtered_df = transposed_df[transposed_df > threshold]\n",
    "filtered_df = filtered_df.dropna(axis=0, thresh=1)\n",
    "filtered_df"
   ]
  },
  {
   "cell_type": "code",
   "execution_count": 148,
   "metadata": {
    "colab": {
     "base_uri": "https://localhost:8080/"
    },
    "id": "SsGfSYX3PZNO",
    "outputId": "e6948736-a225-441d-afcb-3b72c2efdc39"
   },
   "outputs": [
    {
     "data": {
      "text/plain": [
       "(23, 5)"
      ]
     },
     "execution_count": 148,
     "metadata": {},
     "output_type": "execute_result"
    }
   ],
   "source": [
    "filtered_df.shape"
   ]
  },
  {
   "cell_type": "markdown",
   "metadata": {},
   "source": [
    "# Table portfolio"
   ]
  },
  {
   "cell_type": "code",
   "execution_count": null,
   "metadata": {},
   "outputs": [],
   "source": []
  },
  {
   "cell_type": "markdown",
   "metadata": {
    "id": "eE2wXW3vhx3l",
    "tags": []
   },
   "source": [
    "# Fama Fench evaluation"
   ]
  },
  {
   "cell_type": "code",
   "execution_count": 149,
   "metadata": {
    "colab": {
     "base_uri": "https://localhost:8080/",
     "height": 424
    },
    "id": "AzNJbNpQierX",
    "outputId": "52b2bc43-5db5-4703-8a3d-c0bb13f92592"
   },
   "outputs": [
    {
     "data": {
      "text/html": [
       "<div>\n",
       "<style scoped>\n",
       "    .dataframe tbody tr th:only-of-type {\n",
       "        vertical-align: middle;\n",
       "    }\n",
       "\n",
       "    .dataframe tbody tr th {\n",
       "        vertical-align: top;\n",
       "    }\n",
       "\n",
       "    .dataframe thead th {\n",
       "        text-align: right;\n",
       "    }\n",
       "</style>\n",
       "<table border=\"1\" class=\"dataframe\">\n",
       "  <thead>\n",
       "    <tr style=\"text-align: right;\">\n",
       "      <th></th>\n",
       "      <th>date_ff_factors</th>\n",
       "      <th>Mkt-RF</th>\n",
       "      <th>SMB</th>\n",
       "      <th>HML</th>\n",
       "      <th>RF</th>\n",
       "    </tr>\n",
       "  </thead>\n",
       "  <tbody>\n",
       "    <tr>\n",
       "      <th>0</th>\n",
       "      <td>1926-07-31</td>\n",
       "      <td>0.0296</td>\n",
       "      <td>-0.0256</td>\n",
       "      <td>-0.0243</td>\n",
       "      <td>0.0022</td>\n",
       "    </tr>\n",
       "    <tr>\n",
       "      <th>1</th>\n",
       "      <td>1926-08-31</td>\n",
       "      <td>0.0264</td>\n",
       "      <td>-0.0117</td>\n",
       "      <td>0.0382</td>\n",
       "      <td>0.0025</td>\n",
       "    </tr>\n",
       "    <tr>\n",
       "      <th>2</th>\n",
       "      <td>1926-09-30</td>\n",
       "      <td>0.0036</td>\n",
       "      <td>-0.0140</td>\n",
       "      <td>0.0013</td>\n",
       "      <td>0.0023</td>\n",
       "    </tr>\n",
       "    <tr>\n",
       "      <th>3</th>\n",
       "      <td>1926-10-31</td>\n",
       "      <td>-0.0324</td>\n",
       "      <td>-0.0009</td>\n",
       "      <td>0.0070</td>\n",
       "      <td>0.0032</td>\n",
       "    </tr>\n",
       "    <tr>\n",
       "      <th>4</th>\n",
       "      <td>1926-11-30</td>\n",
       "      <td>0.0253</td>\n",
       "      <td>-0.0010</td>\n",
       "      <td>-0.0051</td>\n",
       "      <td>0.0031</td>\n",
       "    </tr>\n",
       "    <tr>\n",
       "      <th>...</th>\n",
       "      <td>...</td>\n",
       "      <td>...</td>\n",
       "      <td>...</td>\n",
       "      <td>...</td>\n",
       "      <td>...</td>\n",
       "    </tr>\n",
       "    <tr>\n",
       "      <th>1168</th>\n",
       "      <td>2023-11-30</td>\n",
       "      <td>0.0884</td>\n",
       "      <td>-0.0002</td>\n",
       "      <td>0.0164</td>\n",
       "      <td>0.0044</td>\n",
       "    </tr>\n",
       "    <tr>\n",
       "      <th>1169</th>\n",
       "      <td>2023-12-31</td>\n",
       "      <td>0.0487</td>\n",
       "      <td>0.0634</td>\n",
       "      <td>0.0493</td>\n",
       "      <td>0.0043</td>\n",
       "    </tr>\n",
       "    <tr>\n",
       "      <th>1170</th>\n",
       "      <td>2024-01-31</td>\n",
       "      <td>0.0071</td>\n",
       "      <td>-0.0509</td>\n",
       "      <td>-0.0238</td>\n",
       "      <td>0.0047</td>\n",
       "    </tr>\n",
       "    <tr>\n",
       "      <th>1171</th>\n",
       "      <td>2024-02-29</td>\n",
       "      <td>0.0506</td>\n",
       "      <td>-0.0024</td>\n",
       "      <td>-0.0349</td>\n",
       "      <td>0.0042</td>\n",
       "    </tr>\n",
       "    <tr>\n",
       "      <th>1172</th>\n",
       "      <td>2024-03-31</td>\n",
       "      <td>0.0283</td>\n",
       "      <td>-0.0249</td>\n",
       "      <td>0.0419</td>\n",
       "      <td>0.0043</td>\n",
       "    </tr>\n",
       "  </tbody>\n",
       "</table>\n",
       "<p>1173 rows × 5 columns</p>\n",
       "</div>"
      ],
      "text/plain": [
       "     date_ff_factors  Mkt-RF     SMB     HML      RF\n",
       "0         1926-07-31  0.0296 -0.0256 -0.0243  0.0022\n",
       "1         1926-08-31  0.0264 -0.0117  0.0382  0.0025\n",
       "2         1926-09-30  0.0036 -0.0140  0.0013  0.0023\n",
       "3         1926-10-31 -0.0324 -0.0009  0.0070  0.0032\n",
       "4         1926-11-30  0.0253 -0.0010 -0.0051  0.0031\n",
       "...              ...     ...     ...     ...     ...\n",
       "1168      2023-11-30  0.0884 -0.0002  0.0164  0.0044\n",
       "1169      2023-12-31  0.0487  0.0634  0.0493  0.0043\n",
       "1170      2024-01-31  0.0071 -0.0509 -0.0238  0.0047\n",
       "1171      2024-02-29  0.0506 -0.0024 -0.0349  0.0042\n",
       "1172      2024-03-31  0.0283 -0.0249  0.0419  0.0043\n",
       "\n",
       "[1173 rows x 5 columns]"
      ]
     },
     "execution_count": 149,
     "metadata": {},
     "output_type": "execute_result"
    }
   ],
   "source": [
    "# Get the Fama French 3 factor model (monthly data)\n",
    "df_ff3_monthly = gff.famaFrench3Factor(frequency='m')\n",
    "df_ff3_monthly"
   ]
  },
  {
   "cell_type": "code",
   "execution_count": 150,
   "metadata": {
    "id": "Zzqy_8pyj4Eb"
   },
   "outputs": [],
   "source": [
    "# Convert date_ff_factors to datetime format\n",
    "df_ff3_monthly['date_ff_factors'] = pd.to_datetime(df_ff3_monthly['date_ff_factors'])\n",
    "\n",
    "# Set the date as the index\n",
    "df_ff3_monthly.set_index('date_ff_factors', inplace=True)\n",
    "\n",
    "# Resample to daily frequency\n",
    "#df_ff3_daily = df_ff3_monthly.resample('D').asfreq()\n",
    "\n",
    "# Forward-fill NaN values for daily frequency\n",
    "#df_ff3_daily.fillna(method='ffill', inplace=True)"
   ]
  },
  {
   "cell_type": "code",
   "execution_count": 151,
   "metadata": {
    "id": "4osWTeJ3iwlk"
   },
   "outputs": [],
   "source": [
    "# Get the portfolio returns\n",
    "portfolio_returns=pd.DataFrame(df_portfolio.pct_change())"
   ]
  },
  {
   "cell_type": "code",
   "execution_count": 152,
   "metadata": {
    "id": "LfQXdXE1kZmU"
   },
   "outputs": [],
   "source": [
    "fama_fench = portfolio_returns.merge(df_ff3_monthly, how='inner', left_index=True, right_index=True) # Join the Fama Fench factors with portfolio returns\n",
    "fama_fench = fama_fench.dropna()\n",
    "# Calculate excess return of portfolio\n",
    "fama_fench['Excess Return'] = fama_fench[0] - fama_fench['RF']"
   ]
  },
  {
   "cell_type": "code",
   "execution_count": 153,
   "metadata": {
    "colab": {
     "base_uri": "https://localhost:8080/",
     "height": 677
    },
    "id": "Tkr4wsRXlBHc",
    "outputId": "7a4485bd-192b-439b-dada-378fb3ba1271"
   },
   "outputs": [
    {
     "data": {
      "text/html": [
       "<div>\n",
       "<style scoped>\n",
       "    .dataframe tbody tr th:only-of-type {\n",
       "        vertical-align: middle;\n",
       "    }\n",
       "\n",
       "    .dataframe tbody tr th {\n",
       "        vertical-align: top;\n",
       "    }\n",
       "\n",
       "    .dataframe thead th {\n",
       "        text-align: right;\n",
       "    }\n",
       "</style>\n",
       "<table border=\"1\" class=\"dataframe\">\n",
       "  <thead>\n",
       "    <tr style=\"text-align: right;\">\n",
       "      <th></th>\n",
       "      <th>0</th>\n",
       "      <th>Mkt-RF</th>\n",
       "      <th>SMB</th>\n",
       "      <th>HML</th>\n",
       "      <th>RF</th>\n",
       "      <th>Excess Return</th>\n",
       "    </tr>\n",
       "  </thead>\n",
       "  <tbody>\n",
       "    <tr>\n",
       "      <th>2022-01-31</th>\n",
       "      <td>0.036243</td>\n",
       "      <td>-0.0625</td>\n",
       "      <td>-0.0594</td>\n",
       "      <td>0.1275</td>\n",
       "      <td>0.0000</td>\n",
       "      <td>0.036243</td>\n",
       "    </tr>\n",
       "    <tr>\n",
       "      <th>2022-02-28</th>\n",
       "      <td>-0.000621</td>\n",
       "      <td>-0.0229</td>\n",
       "      <td>0.0219</td>\n",
       "      <td>0.0308</td>\n",
       "      <td>0.0000</td>\n",
       "      <td>-0.000621</td>\n",
       "    </tr>\n",
       "    <tr>\n",
       "      <th>2022-03-31</th>\n",
       "      <td>-0.012646</td>\n",
       "      <td>0.0305</td>\n",
       "      <td>-0.0161</td>\n",
       "      <td>-0.0181</td>\n",
       "      <td>0.0001</td>\n",
       "      <td>-0.012746</td>\n",
       "    </tr>\n",
       "    <tr>\n",
       "      <th>2022-05-31</th>\n",
       "      <td>0.015393</td>\n",
       "      <td>-0.0034</td>\n",
       "      <td>-0.0183</td>\n",
       "      <td>0.0839</td>\n",
       "      <td>0.0003</td>\n",
       "      <td>0.015093</td>\n",
       "    </tr>\n",
       "    <tr>\n",
       "      <th>2022-06-30</th>\n",
       "      <td>-0.014751</td>\n",
       "      <td>-0.0843</td>\n",
       "      <td>0.0210</td>\n",
       "      <td>-0.0597</td>\n",
       "      <td>0.0006</td>\n",
       "      <td>-0.015351</td>\n",
       "    </tr>\n",
       "    <tr>\n",
       "      <th>2022-08-31</th>\n",
       "      <td>-0.013039</td>\n",
       "      <td>-0.0377</td>\n",
       "      <td>0.0140</td>\n",
       "      <td>0.0029</td>\n",
       "      <td>0.0019</td>\n",
       "      <td>-0.014939</td>\n",
       "    </tr>\n",
       "    <tr>\n",
       "      <th>2022-09-30</th>\n",
       "      <td>-0.007059</td>\n",
       "      <td>-0.0935</td>\n",
       "      <td>-0.0081</td>\n",
       "      <td>0.0005</td>\n",
       "      <td>0.0019</td>\n",
       "      <td>-0.008959</td>\n",
       "    </tr>\n",
       "    <tr>\n",
       "      <th>2022-10-31</th>\n",
       "      <td>0.002391</td>\n",
       "      <td>0.0783</td>\n",
       "      <td>0.0006</td>\n",
       "      <td>0.0801</td>\n",
       "      <td>0.0023</td>\n",
       "      <td>0.000091</td>\n",
       "    </tr>\n",
       "    <tr>\n",
       "      <th>2022-11-30</th>\n",
       "      <td>0.014119</td>\n",
       "      <td>0.0460</td>\n",
       "      <td>-0.0352</td>\n",
       "      <td>0.0138</td>\n",
       "      <td>0.0029</td>\n",
       "      <td>0.011219</td>\n",
       "    </tr>\n",
       "    <tr>\n",
       "      <th>2023-01-31</th>\n",
       "      <td>0.017799</td>\n",
       "      <td>0.0665</td>\n",
       "      <td>0.0501</td>\n",
       "      <td>-0.0401</td>\n",
       "      <td>0.0035</td>\n",
       "      <td>0.014299</td>\n",
       "    </tr>\n",
       "    <tr>\n",
       "      <th>2023-02-28</th>\n",
       "      <td>-0.006901</td>\n",
       "      <td>-0.0258</td>\n",
       "      <td>0.0117</td>\n",
       "      <td>-0.0081</td>\n",
       "      <td>0.0034</td>\n",
       "      <td>-0.010301</td>\n",
       "    </tr>\n",
       "    <tr>\n",
       "      <th>2023-03-31</th>\n",
       "      <td>0.024549</td>\n",
       "      <td>0.0251</td>\n",
       "      <td>-0.0551</td>\n",
       "      <td>-0.0885</td>\n",
       "      <td>0.0036</td>\n",
       "      <td>0.020949</td>\n",
       "    </tr>\n",
       "  </tbody>\n",
       "</table>\n",
       "</div>"
      ],
      "text/plain": [
       "                   0  Mkt-RF     SMB     HML      RF  Excess Return\n",
       "2022-01-31  0.036243 -0.0625 -0.0594  0.1275  0.0000       0.036243\n",
       "2022-02-28 -0.000621 -0.0229  0.0219  0.0308  0.0000      -0.000621\n",
       "2022-03-31 -0.012646  0.0305 -0.0161 -0.0181  0.0001      -0.012746\n",
       "2022-05-31  0.015393 -0.0034 -0.0183  0.0839  0.0003       0.015093\n",
       "2022-06-30 -0.014751 -0.0843  0.0210 -0.0597  0.0006      -0.015351\n",
       "2022-08-31 -0.013039 -0.0377  0.0140  0.0029  0.0019      -0.014939\n",
       "2022-09-30 -0.007059 -0.0935 -0.0081  0.0005  0.0019      -0.008959\n",
       "2022-10-31  0.002391  0.0783  0.0006  0.0801  0.0023       0.000091\n",
       "2022-11-30  0.014119  0.0460 -0.0352  0.0138  0.0029       0.011219\n",
       "2023-01-31  0.017799  0.0665  0.0501 -0.0401  0.0035       0.014299\n",
       "2023-02-28 -0.006901 -0.0258  0.0117 -0.0081  0.0034      -0.010301\n",
       "2023-03-31  0.024549  0.0251 -0.0551 -0.0885  0.0036       0.020949"
      ]
     },
     "execution_count": 153,
     "metadata": {},
     "output_type": "execute_result"
    }
   ],
   "source": [
    "fama_fench"
   ]
  },
  {
   "cell_type": "code",
   "execution_count": 154,
   "metadata": {
    "colab": {
     "base_uri": "https://localhost:8080/"
    },
    "id": "xY7h6Vz1mEro",
    "outputId": "90144a43-120d-4af6-ea26-5ee6fc5513d9"
   },
   "outputs": [
    {
     "name": "stdout",
     "output_type": "stream",
     "text": [
      "                            OLS Regression Results                            \n",
      "==============================================================================\n",
      "Dep. Variable:          Excess Return   R-squared:                       0.462\n",
      "Model:                            OLS   Adj. R-squared:                  0.260\n",
      "Method:                 Least Squares   F-statistic:                     2.290\n",
      "Date:                Sat, 11 May 2024   Prob (F-statistic):              0.155\n",
      "Time:                        17:28:45   Log-Likelihood:                 36.424\n",
      "No. Observations:                  12   AIC:                            -64.85\n",
      "Df Residuals:                       8   BIC:                            -62.91\n",
      "Df Model:                           3                                         \n",
      "Covariance Type:            nonrobust                                         \n",
      "==============================================================================\n",
      "                 coef    std err          t      P>|t|      [0.025      0.975]\n",
      "------------------------------------------------------------------------------\n",
      "const          0.0012      0.004      0.276      0.790      -0.009       0.011\n",
      "Mkt-RF         0.0785      0.075      1.045      0.327      -0.095       0.252\n",
      "SMB           -0.2611      0.137     -1.910      0.092      -0.576       0.054\n",
      "HML            0.0677      0.072      0.945      0.372      -0.097       0.233\n",
      "==============================================================================\n",
      "Omnibus:                        0.657   Durbin-Watson:                   2.047\n",
      "Prob(Omnibus):                  0.720   Jarque-Bera (JB):                0.443\n",
      "Skew:                           0.414   Prob(JB):                        0.801\n",
      "Kurtosis:                       2.553   Cond. No.                         33.7\n",
      "==============================================================================\n",
      "\n",
      "Notes:\n",
      "[1] Standard Errors assume that the covariance matrix of the errors is correctly specified.\n"
     ]
    }
   ],
   "source": [
    "# Define the independent variables (adding a constant for the intercept)\n",
    "X = fama_fench[['Mkt-RF', 'SMB', 'HML']]\n",
    "X = sm.add_constant(X)\n",
    "\n",
    "# Define the dependent variable\n",
    "y = fama_fench['Excess Return']\n",
    "\n",
    "# Perform the regression analysis\n",
    "model = sm.OLS(y, X).fit()\n",
    "\n",
    "# Display the regression results\n",
    "print(model.summary())"
   ]
  },
  {
   "cell_type": "code",
   "execution_count": 155,
   "metadata": {
    "colab": {
     "base_uri": "https://localhost:8080/",
     "height": 1000
    },
    "id": "IdPhST9upx4k",
    "outputId": "36c8507c-4cb8-4b7a-e30f-92f5653a4789"
   },
   "outputs": [],
   "source": [
    "#qs.reports.full(df_portfolio, benchmark = market)"
   ]
  },
  {
   "cell_type": "code",
   "execution_count": null,
   "metadata": {
    "id": "wskyA1fyl-sv"
   },
   "outputs": [],
   "source": []
  }
 ],
 "metadata": {
  "colab": {
   "provenance": [],
   "toc_visible": true
  },
  "kernelspec": {
   "display_name": "Python 3 (ipykernel)",
   "language": "python",
   "name": "python3"
  },
  "language_info": {
   "codemirror_mode": {
    "name": "ipython",
    "version": 3
   },
   "file_extension": ".py",
   "mimetype": "text/x-python",
   "name": "python",
   "nbconvert_exporter": "python",
   "pygments_lexer": "ipython3",
   "version": "3.11.5"
  }
 },
 "nbformat": 4,
 "nbformat_minor": 4
}
